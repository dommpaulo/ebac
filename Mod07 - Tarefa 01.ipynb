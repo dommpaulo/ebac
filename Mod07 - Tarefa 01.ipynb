{
 "cells": [
  {
   "cell_type": "markdown",
   "metadata": {},
   "source": [
    "# Módulo 07, Tarefa 01\n",
    "\n",
    "Vamos começar a mexer na nossa base de projeto? Já fizemos um exercício de montar a variável resposta, já pudemos perceber que essa atividade pode não ser trivial. Vamos agora trabalhar a base para que fique propícia ao *scikitlearn* para trabalharmos.\n",
    "\n",
    "Lembrando, a base se chama demo01.csv, e originalmente está publicada [aqui](https://www.kaggle.com/rikdifos/credit-card-approval-prediction)."
   ]
  },
  {
   "cell_type": "code",
   "execution_count": 2,
   "metadata": {},
   "outputs": [],
   "source": [
    "import numpy as np\n",
    "import pandas as pd\n",
    "import seaborn as sns"
   ]
  },
  {
   "cell_type": "markdown",
   "metadata": {},
   "source": [
    "#### 1) Carregue a base e avalie:\n",
    "\n",
    "- As variáveis\n",
    "- Tipos de dados de cada variável\n",
    "- Quantidade de missings\n",
    "- Distribuição da variável resposta (mau)"
   ]
  },
  {
   "cell_type": "code",
   "execution_count": 3,
   "metadata": {},
   "outputs": [
    {
     "name": "stdout",
     "output_type": "stream",
     "text": [
      "<class 'pandas.core.frame.DataFrame'>\n",
      "RangeIndex: 16650 entries, 0 to 16649\n",
      "Data columns (total 16 columns):\n",
      " #   Column                 Non-Null Count  Dtype  \n",
      "---  ------                 --------------  -----  \n",
      " 0   sexo                   16650 non-null  object \n",
      " 1   posse_de_veiculo       16650 non-null  object \n",
      " 2   posse_de_imovel        16650 non-null  object \n",
      " 3   qtd_filhos             16650 non-null  int64  \n",
      " 4   tipo_renda             16650 non-null  object \n",
      " 5   educacao               16650 non-null  object \n",
      " 6   estado_civil           16650 non-null  object \n",
      " 7   tipo_residencia        16650 non-null  object \n",
      " 8   idade                  16650 non-null  float64\n",
      " 9   tempo_emprego          16650 non-null  float64\n",
      " 10  possui_celular         16650 non-null  int64  \n",
      " 11  possui_fone_comercial  16650 non-null  int64  \n",
      " 12  possui_fone            16650 non-null  int64  \n",
      " 13  possui_email           16650 non-null  int64  \n",
      " 14  qt_pessoas_residencia  16650 non-null  float64\n",
      " 15  mau                    16650 non-null  bool   \n",
      "dtypes: bool(1), float64(3), int64(5), object(7)\n",
      "memory usage: 1.9+ MB\n"
     ]
    }
   ],
   "source": [
    "demo01 = pd.read_csv('demo01.csv')\n",
    "demo01.info()"
   ]
  },
  {
   "cell_type": "code",
   "execution_count": 4,
   "metadata": {},
   "outputs": [
    {
     "data": {
      "text/plain": [
       "(6770, 16)"
      ]
     },
     "execution_count": 4,
     "metadata": {},
     "output_type": "execute_result"
    }
   ],
   "source": [
    "demo01 = demo01.drop_duplicates()\n",
    "demo01.shape"
   ]
  },
  {
   "cell_type": "code",
   "execution_count": 5,
   "metadata": {},
   "outputs": [
    {
     "data": {
      "text/html": [
       "<div>\n",
       "<style scoped>\n",
       "    .dataframe tbody tr th:only-of-type {\n",
       "        vertical-align: middle;\n",
       "    }\n",
       "\n",
       "    .dataframe tbody tr th {\n",
       "        vertical-align: top;\n",
       "    }\n",
       "\n",
       "    .dataframe thead th {\n",
       "        text-align: right;\n",
       "    }\n",
       "</style>\n",
       "<table border=\"1\" class=\"dataframe\">\n",
       "  <thead>\n",
       "    <tr style=\"text-align: right;\">\n",
       "      <th></th>\n",
       "      <th>sexo</th>\n",
       "      <th>posse_de_veiculo</th>\n",
       "      <th>posse_de_imovel</th>\n",
       "      <th>qtd_filhos</th>\n",
       "      <th>tipo_renda</th>\n",
       "      <th>educacao</th>\n",
       "      <th>estado_civil</th>\n",
       "      <th>tipo_residencia</th>\n",
       "      <th>idade</th>\n",
       "      <th>tempo_emprego</th>\n",
       "      <th>possui_celular</th>\n",
       "      <th>possui_fone_comercial</th>\n",
       "      <th>possui_fone</th>\n",
       "      <th>possui_email</th>\n",
       "      <th>qt_pessoas_residencia</th>\n",
       "      <th>mau</th>\n",
       "    </tr>\n",
       "  </thead>\n",
       "  <tbody>\n",
       "    <tr>\n",
       "      <th>6765</th>\n",
       "      <td>F</td>\n",
       "      <td>N</td>\n",
       "      <td>Y</td>\n",
       "      <td>1</td>\n",
       "      <td>Working</td>\n",
       "      <td>Secondary / secondary special</td>\n",
       "      <td>Single / not married</td>\n",
       "      <td>House / apartment</td>\n",
       "      <td>34.857534</td>\n",
       "      <td>3.101370</td>\n",
       "      <td>1</td>\n",
       "      <td>1</td>\n",
       "      <td>1</td>\n",
       "      <td>0</td>\n",
       "      <td>1.0</td>\n",
       "      <td>True</td>\n",
       "    </tr>\n",
       "    <tr>\n",
       "      <th>6766</th>\n",
       "      <td>F</td>\n",
       "      <td>N</td>\n",
       "      <td>Y</td>\n",
       "      <td>0</td>\n",
       "      <td>Working</td>\n",
       "      <td>Secondary / secondary special</td>\n",
       "      <td>Civil marriage</td>\n",
       "      <td>House / apartment</td>\n",
       "      <td>54.109589</td>\n",
       "      <td>9.884932</td>\n",
       "      <td>1</td>\n",
       "      <td>0</td>\n",
       "      <td>0</td>\n",
       "      <td>0</td>\n",
       "      <td>2.0</td>\n",
       "      <td>True</td>\n",
       "    </tr>\n",
       "    <tr>\n",
       "      <th>6767</th>\n",
       "      <td>F</td>\n",
       "      <td>N</td>\n",
       "      <td>Y</td>\n",
       "      <td>0</td>\n",
       "      <td>Commercial associate</td>\n",
       "      <td>Secondary / secondary special</td>\n",
       "      <td>Married</td>\n",
       "      <td>House / apartment</td>\n",
       "      <td>43.389041</td>\n",
       "      <td>7.380822</td>\n",
       "      <td>1</td>\n",
       "      <td>1</td>\n",
       "      <td>1</td>\n",
       "      <td>0</td>\n",
       "      <td>2.0</td>\n",
       "      <td>True</td>\n",
       "    </tr>\n",
       "    <tr>\n",
       "      <th>6768</th>\n",
       "      <td>M</td>\n",
       "      <td>Y</td>\n",
       "      <td>Y</td>\n",
       "      <td>0</td>\n",
       "      <td>Working</td>\n",
       "      <td>Secondary / secondary special</td>\n",
       "      <td>Married</td>\n",
       "      <td>House / apartment</td>\n",
       "      <td>30.005479</td>\n",
       "      <td>9.800000</td>\n",
       "      <td>1</td>\n",
       "      <td>1</td>\n",
       "      <td>0</td>\n",
       "      <td>0</td>\n",
       "      <td>2.0</td>\n",
       "      <td>True</td>\n",
       "    </tr>\n",
       "    <tr>\n",
       "      <th>6769</th>\n",
       "      <td>F</td>\n",
       "      <td>N</td>\n",
       "      <td>Y</td>\n",
       "      <td>0</td>\n",
       "      <td>Pensioner</td>\n",
       "      <td>Higher education</td>\n",
       "      <td>Married</td>\n",
       "      <td>House / apartment</td>\n",
       "      <td>33.936986</td>\n",
       "      <td>3.630137</td>\n",
       "      <td>1</td>\n",
       "      <td>0</td>\n",
       "      <td>1</td>\n",
       "      <td>1</td>\n",
       "      <td>2.0</td>\n",
       "      <td>True</td>\n",
       "    </tr>\n",
       "  </tbody>\n",
       "</table>\n",
       "</div>"
      ],
      "text/plain": [
       "     sexo posse_de_veiculo posse_de_imovel  qtd_filhos            tipo_renda  \\\n",
       "6765    F                N               Y           1               Working   \n",
       "6766    F                N               Y           0               Working   \n",
       "6767    F                N               Y           0  Commercial associate   \n",
       "6768    M                Y               Y           0               Working   \n",
       "6769    F                N               Y           0             Pensioner   \n",
       "\n",
       "                           educacao          estado_civil    tipo_residencia  \\\n",
       "6765  Secondary / secondary special  Single / not married  House / apartment   \n",
       "6766  Secondary / secondary special        Civil marriage  House / apartment   \n",
       "6767  Secondary / secondary special               Married  House / apartment   \n",
       "6768  Secondary / secondary special               Married  House / apartment   \n",
       "6769               Higher education               Married  House / apartment   \n",
       "\n",
       "          idade  tempo_emprego  possui_celular  possui_fone_comercial  \\\n",
       "6765  34.857534       3.101370               1                      1   \n",
       "6766  54.109589       9.884932               1                      0   \n",
       "6767  43.389041       7.380822               1                      1   \n",
       "6768  30.005479       9.800000               1                      1   \n",
       "6769  33.936986       3.630137               1                      0   \n",
       "\n",
       "      possui_fone  possui_email  qt_pessoas_residencia   mau  \n",
       "6765            1             0                    1.0  True  \n",
       "6766            0             0                    2.0  True  \n",
       "6767            1             0                    2.0  True  \n",
       "6768            0             0                    2.0  True  \n",
       "6769            1             1                    2.0  True  "
      ]
     },
     "execution_count": 5,
     "metadata": {},
     "output_type": "execute_result"
    }
   ],
   "source": [
    "demo01.reset_index(drop=True, inplace=True)\n",
    "demo01.tail()"
   ]
  },
  {
   "cell_type": "code",
   "execution_count": 6,
   "metadata": {},
   "outputs": [
    {
     "data": {
      "text/plain": [
       "sexo                     0\n",
       "posse_de_veiculo         0\n",
       "posse_de_imovel          0\n",
       "qtd_filhos               0\n",
       "tipo_renda               0\n",
       "educacao                 0\n",
       "estado_civil             0\n",
       "tipo_residencia          0\n",
       "idade                    0\n",
       "tempo_emprego            0\n",
       "possui_celular           0\n",
       "possui_fone_comercial    0\n",
       "possui_fone              0\n",
       "possui_email             0\n",
       "qt_pessoas_residencia    0\n",
       "mau                      0\n",
       "dtype: int64"
      ]
     },
     "execution_count": 6,
     "metadata": {},
     "output_type": "execute_result"
    }
   ],
   "source": [
    "demo01.isna().sum() # A BASE NÃO APRESENTOU MISSING"
   ]
  },
  {
   "cell_type": "code",
   "execution_count": 7,
   "metadata": {},
   "outputs": [
    {
     "data": {
      "text/plain": [
       "False    6472\n",
       "True      298\n",
       "Name: mau, dtype: int64"
      ]
     },
     "execution_count": 7,
     "metadata": {},
     "output_type": "execute_result"
    }
   ],
   "source": [
    "demo01['mau'].value_counts()"
   ]
  },
  {
   "cell_type": "markdown",
   "metadata": {},
   "source": [
    "#### 2) Vamos montar um metadados\n",
    "\n",
    "1. Crie um dataframe com os nomes de cada variável e o tipo de dados de cada variável.\n",
    "2. Adicione uma coluna nesse *dataframe* chamada \"qtd_categorias\" e coloque nela o número de categorias correspondente de cada variável. \n",
    "    Dica: \n",
    "        1. inicie uma lista vazia\n",
    "        2. faça um for ao longo dos nomes das variáveis, \n",
    "        3. conte o número de categorias dessa variável \n",
    "        4. acumule essa informação de 3. na lista que você criou em 1. \n",
    "        5. No final, essa lista pode ser atribuída à nossa variável.\n",
    "3. Crie variáveis dummy para as variáveis necessárias (i.e. aquelas que são qualitativas e não estão armazenadas como {0, 1} ou {True, False}."
   ]
  },
  {
   "cell_type": "code",
   "execution_count": 8,
   "metadata": {},
   "outputs": [
    {
     "data": {
      "text/plain": [
       "Index(['sexo', 'posse_de_veiculo', 'posse_de_imovel', 'qtd_filhos',\n",
       "       'tipo_renda', 'educacao', 'estado_civil', 'tipo_residencia', 'idade',\n",
       "       'tempo_emprego', 'possui_celular', 'possui_fone_comercial',\n",
       "       'possui_fone', 'possui_email', 'qt_pessoas_residencia', 'mau'],\n",
       "      dtype='object')"
      ]
     },
     "execution_count": 8,
     "metadata": {},
     "output_type": "execute_result"
    }
   ],
   "source": [
    "demo01.columns.unique()"
   ]
  },
  {
   "cell_type": "code",
   "execution_count": 9,
   "metadata": {},
   "outputs": [],
   "source": [
    "colunas = ['sexo', 'posse_de_veiculo', 'posse_de_imovel', 'qtd_filhos',\n",
    "       'tipo_renda', 'educacao', 'estado_civil', 'tipo_residencia', 'idade',\n",
    "       'tempo_emprego', 'possui_celular', 'possui_fone_comercial',\n",
    "       'possui_fone', 'possui_email', 'qt_pessoas_residencia', 'mau']\n",
    "\n",
    "demoColumTipo = {}\n",
    "demoNumCateg = {}\n",
    "\n",
    "for i in colunas:\n",
    "    demoColumTipo[i] = demo01[i].dtype\n",
    "    demoNumCateg[i] = demo01[i].nunique()\n"
   ]
  },
  {
   "cell_type": "code",
   "execution_count": 10,
   "metadata": {},
   "outputs": [],
   "source": [
    "demoCategoria = pd.Series(demoColumTipo)\n",
    "demo1 = pd.DataFrame({'TTPO_DADOS': demoCategoria})\n",
    "\n",
    "demoCategoria2 = pd.Series(demoNumCateg)\n",
    "demo2 = pd.DataFrame({'NUM_CATEG': demoCategoria2})\n"
   ]
  },
  {
   "cell_type": "code",
   "execution_count": 11,
   "metadata": {},
   "outputs": [
    {
     "data": {
      "text/html": [
       "<div>\n",
       "<style scoped>\n",
       "    .dataframe tbody tr th:only-of-type {\n",
       "        vertical-align: middle;\n",
       "    }\n",
       "\n",
       "    .dataframe tbody tr th {\n",
       "        vertical-align: top;\n",
       "    }\n",
       "\n",
       "    .dataframe thead th {\n",
       "        text-align: right;\n",
       "    }\n",
       "</style>\n",
       "<table border=\"1\" class=\"dataframe\">\n",
       "  <thead>\n",
       "    <tr style=\"text-align: right;\">\n",
       "      <th></th>\n",
       "      <th>TTPO_DADOS</th>\n",
       "      <th>NUM_CATEG</th>\n",
       "    </tr>\n",
       "  </thead>\n",
       "  <tbody>\n",
       "    <tr>\n",
       "      <th>sexo</th>\n",
       "      <td>object</td>\n",
       "      <td>2</td>\n",
       "    </tr>\n",
       "    <tr>\n",
       "      <th>posse_de_veiculo</th>\n",
       "      <td>object</td>\n",
       "      <td>2</td>\n",
       "    </tr>\n",
       "    <tr>\n",
       "      <th>posse_de_imovel</th>\n",
       "      <td>object</td>\n",
       "      <td>2</td>\n",
       "    </tr>\n",
       "    <tr>\n",
       "      <th>qtd_filhos</th>\n",
       "      <td>int64</td>\n",
       "      <td>8</td>\n",
       "    </tr>\n",
       "    <tr>\n",
       "      <th>tipo_renda</th>\n",
       "      <td>object</td>\n",
       "      <td>5</td>\n",
       "    </tr>\n",
       "    <tr>\n",
       "      <th>educacao</th>\n",
       "      <td>object</td>\n",
       "      <td>5</td>\n",
       "    </tr>\n",
       "    <tr>\n",
       "      <th>estado_civil</th>\n",
       "      <td>object</td>\n",
       "      <td>5</td>\n",
       "    </tr>\n",
       "    <tr>\n",
       "      <th>tipo_residencia</th>\n",
       "      <td>object</td>\n",
       "      <td>6</td>\n",
       "    </tr>\n",
       "    <tr>\n",
       "      <th>idade</th>\n",
       "      <td>float64</td>\n",
       "      <td>5298</td>\n",
       "    </tr>\n",
       "    <tr>\n",
       "      <th>tempo_emprego</th>\n",
       "      <td>float64</td>\n",
       "      <td>3005</td>\n",
       "    </tr>\n",
       "    <tr>\n",
       "      <th>possui_celular</th>\n",
       "      <td>int64</td>\n",
       "      <td>1</td>\n",
       "    </tr>\n",
       "    <tr>\n",
       "      <th>possui_fone_comercial</th>\n",
       "      <td>int64</td>\n",
       "      <td>2</td>\n",
       "    </tr>\n",
       "    <tr>\n",
       "      <th>possui_fone</th>\n",
       "      <td>int64</td>\n",
       "      <td>2</td>\n",
       "    </tr>\n",
       "    <tr>\n",
       "      <th>possui_email</th>\n",
       "      <td>int64</td>\n",
       "      <td>2</td>\n",
       "    </tr>\n",
       "    <tr>\n",
       "      <th>qt_pessoas_residencia</th>\n",
       "      <td>float64</td>\n",
       "      <td>9</td>\n",
       "    </tr>\n",
       "    <tr>\n",
       "      <th>mau</th>\n",
       "      <td>bool</td>\n",
       "      <td>2</td>\n",
       "    </tr>\n",
       "  </tbody>\n",
       "</table>\n",
       "</div>"
      ],
      "text/plain": [
       "                      TTPO_DADOS  NUM_CATEG\n",
       "sexo                      object          2\n",
       "posse_de_veiculo          object          2\n",
       "posse_de_imovel           object          2\n",
       "qtd_filhos                 int64          8\n",
       "tipo_renda                object          5\n",
       "educacao                  object          5\n",
       "estado_civil              object          5\n",
       "tipo_residencia           object          6\n",
       "idade                    float64       5298\n",
       "tempo_emprego            float64       3005\n",
       "possui_celular             int64          1\n",
       "possui_fone_comercial      int64          2\n",
       "possui_fone                int64          2\n",
       "possui_email               int64          2\n",
       "qt_pessoas_residencia    float64          9\n",
       "mau                         bool          2"
      ]
     },
     "execution_count": 11,
     "metadata": {},
     "output_type": "execute_result"
    }
   ],
   "source": [
    "pd.concat([demo1, demo2], axis = 1)"
   ]
  },
  {
   "cell_type": "markdown",
   "metadata": {},
   "source": [
    "#### 3) Crie variáveis dummy para as variáveis necessárias (i.e. aquelas que são qualitativas e não estão armazenadas como {0, 1} ou {True, False}. Crie um *dataframe* apenas com as variáveis apropriadas para entrada no scikitlearn - elimine as variáveis tipo *str*, mantendo apenas suas versões *dummy*."
   ]
  },
  {
   "cell_type": "code",
   "execution_count": 14,
   "metadata": {},
   "outputs": [],
   "source": [
    "demo01.sexo = demo01.sexo.map({'F': 1, 'M':0})"
   ]
  },
  {
   "cell_type": "code",
   "execution_count": 15,
   "metadata": {},
   "outputs": [],
   "source": [
    "demo01.posse_de_veiculo = demo01.posse_de_veiculo.map({'Y': 1, 'N':0})"
   ]
  },
  {
   "cell_type": "code",
   "execution_count": 16,
   "metadata": {},
   "outputs": [],
   "source": [
    "demo01.posse_de_imovel = demo01.posse_de_imovel.map({'Y': 1, 'N':0})"
   ]
  },
  {
   "cell_type": "code",
   "execution_count": 17,
   "metadata": {},
   "outputs": [],
   "source": [
    "demo01 = pd.get_dummies(demo01, columns=['tipo_renda','educacao', 'estado_civil', 'tipo_residencia'], drop_first=True)"
   ]
  },
  {
   "cell_type": "code",
   "execution_count": 18,
   "metadata": {},
   "outputs": [
    {
     "name": "stdout",
     "output_type": "stream",
     "text": [
      "<class 'pandas.core.frame.DataFrame'>\n",
      "RangeIndex: 6770 entries, 0 to 6769\n",
      "Data columns (total 29 columns):\n",
      " #   Column                                  Non-Null Count  Dtype  \n",
      "---  ------                                  --------------  -----  \n",
      " 0   sexo                                    0 non-null      float64\n",
      " 1   posse_de_veiculo                        6770 non-null   int64  \n",
      " 2   posse_de_imovel                         6770 non-null   int64  \n",
      " 3   qtd_filhos                              6770 non-null   int64  \n",
      " 4   idade                                   6770 non-null   float64\n",
      " 5   tempo_emprego                           6770 non-null   float64\n",
      " 6   possui_celular                          6770 non-null   int64  \n",
      " 7   possui_fone_comercial                   6770 non-null   int64  \n",
      " 8   possui_fone                             6770 non-null   int64  \n",
      " 9   possui_email                            6770 non-null   int64  \n",
      " 10  qt_pessoas_residencia                   6770 non-null   float64\n",
      " 11  mau                                     6770 non-null   bool   \n",
      " 12  tipo_renda_Pensioner                    6770 non-null   uint8  \n",
      " 13  tipo_renda_State servant                6770 non-null   uint8  \n",
      " 14  tipo_renda_Student                      6770 non-null   uint8  \n",
      " 15  tipo_renda_Working                      6770 non-null   uint8  \n",
      " 16  educacao_Higher education               6770 non-null   uint8  \n",
      " 17  educacao_Incomplete higher              6770 non-null   uint8  \n",
      " 18  educacao_Lower secondary                6770 non-null   uint8  \n",
      " 19  educacao_Secondary / secondary special  6770 non-null   uint8  \n",
      " 20  estado_civil_Married                    6770 non-null   uint8  \n",
      " 21  estado_civil_Separated                  6770 non-null   uint8  \n",
      " 22  estado_civil_Single / not married       6770 non-null   uint8  \n",
      " 23  estado_civil_Widow                      6770 non-null   uint8  \n",
      " 24  tipo_residencia_House / apartment       6770 non-null   uint8  \n",
      " 25  tipo_residencia_Municipal apartment     6770 non-null   uint8  \n",
      " 26  tipo_residencia_Office apartment        6770 non-null   uint8  \n",
      " 27  tipo_residencia_Rented apartment        6770 non-null   uint8  \n",
      " 28  tipo_residencia_With parents            6770 non-null   uint8  \n",
      "dtypes: bool(1), float64(4), int64(7), uint8(17)\n",
      "memory usage: 700.9 KB\n"
     ]
    }
   ],
   "source": [
    "demo01.info()"
   ]
  },
  {
   "cell_type": "markdown",
   "metadata": {},
   "source": [
    "#### 4) Qual variável é mais poderosa?\n",
    "\n",
    "Considere as variáveis ```possui_email``` e ```posse_de_veiculo```. Faça uma tabela cruzada entre elas e responda qual delas te parece mais poderosa para prever a probabilidade de ```mau = 1```?"
   ]
  },
  {
   "cell_type": "code",
   "execution_count": 19,
   "metadata": {},
   "outputs": [
    {
     "data": {
      "text/plain": [
       "False    6472\n",
       "True      298\n",
       "Name: mau, dtype: int64"
      ]
     },
     "execution_count": 19,
     "metadata": {},
     "output_type": "execute_result"
    }
   ],
   "source": [
    "demo01['mau'].value_counts()"
   ]
  },
  {
   "cell_type": "code",
   "execution_count": 21,
   "metadata": {},
   "outputs": [
    {
     "data": {
      "text/html": [
       "<div>\n",
       "<style scoped>\n",
       "    .dataframe tbody tr th:only-of-type {\n",
       "        vertical-align: middle;\n",
       "    }\n",
       "\n",
       "    .dataframe tbody tr th {\n",
       "        vertical-align: top;\n",
       "    }\n",
       "\n",
       "    .dataframe thead th {\n",
       "        text-align: right;\n",
       "    }\n",
       "</style>\n",
       "<table border=\"1\" class=\"dataframe\">\n",
       "  <thead>\n",
       "    <tr style=\"text-align: right;\">\n",
       "      <th>mau</th>\n",
       "      <th>False</th>\n",
       "      <th>True</th>\n",
       "    </tr>\n",
       "    <tr>\n",
       "      <th>posse_de_veiculo</th>\n",
       "      <th></th>\n",
       "      <th></th>\n",
       "    </tr>\n",
       "  </thead>\n",
       "  <tbody>\n",
       "    <tr>\n",
       "      <th>0</th>\n",
       "      <td>0.954880</td>\n",
       "      <td>0.045120</td>\n",
       "    </tr>\n",
       "    <tr>\n",
       "      <th>1</th>\n",
       "      <td>0.957796</td>\n",
       "      <td>0.042204</td>\n",
       "    </tr>\n",
       "  </tbody>\n",
       "</table>\n",
       "</div>"
      ],
      "text/plain": [
       "mau                  False     True \n",
       "posse_de_veiculo                    \n",
       "0                 0.954880  0.045120\n",
       "1                 0.957796  0.042204"
      ]
     },
     "execution_count": 21,
     "metadata": {},
     "output_type": "execute_result"
    }
   ],
   "source": [
    "tab1 = pd.crosstab(demo01['posse_de_veiculo'], demo01['mau'])\n",
    "tab1.div(tab1.sum(axis=1), axis=0)"
   ]
  },
  {
   "cell_type": "code",
   "execution_count": 22,
   "metadata": {},
   "outputs": [
    {
     "data": {
      "text/html": [
       "<div>\n",
       "<style scoped>\n",
       "    .dataframe tbody tr th:only-of-type {\n",
       "        vertical-align: middle;\n",
       "    }\n",
       "\n",
       "    .dataframe tbody tr th {\n",
       "        vertical-align: top;\n",
       "    }\n",
       "\n",
       "    .dataframe thead th {\n",
       "        text-align: right;\n",
       "    }\n",
       "</style>\n",
       "<table border=\"1\" class=\"dataframe\">\n",
       "  <thead>\n",
       "    <tr style=\"text-align: right;\">\n",
       "      <th>mau</th>\n",
       "      <th>False</th>\n",
       "      <th>True</th>\n",
       "    </tr>\n",
       "    <tr>\n",
       "      <th>possui_email</th>\n",
       "      <th></th>\n",
       "      <th></th>\n",
       "    </tr>\n",
       "  </thead>\n",
       "  <tbody>\n",
       "    <tr>\n",
       "      <th>0</th>\n",
       "      <td>0.955197</td>\n",
       "      <td>0.044803</td>\n",
       "    </tr>\n",
       "    <tr>\n",
       "      <th>1</th>\n",
       "      <td>0.964602</td>\n",
       "      <td>0.035398</td>\n",
       "    </tr>\n",
       "  </tbody>\n",
       "</table>\n",
       "</div>"
      ],
      "text/plain": [
       "mau              False     True \n",
       "possui_email                    \n",
       "0             0.955197  0.044803\n",
       "1             0.964602  0.035398"
      ]
     },
     "execution_count": 22,
     "metadata": {},
     "output_type": "execute_result"
    }
   ],
   "source": [
    "tab2 = pd.crosstab(demo01['possui_email'], demo01['mau'])\n",
    "tab2.div(tab2.sum(axis=1), axis=0)"
   ]
  },
  {
   "cell_type": "markdown",
   "metadata": {},
   "source": [
    "#### Análise\n",
    "\n",
    "Realizando a análise cruzada das variáveis 'possui_email' e 'possui_carro' verificamos que o índice menor do alvo default mau = 1 é para os clients que possuem email. Ou seja, para os clientes possuem email = 1 o índice de inadimplência é menor do que para os clientes possui_carro = 1. "
   ]
  },
  {
   "cell_type": "markdown",
   "metadata": {},
   "source": [
    "#### 5) Salve a base, pois ela será utilizada no final deste módulo."
   ]
  },
  {
   "cell_type": "code",
   "execution_count": 23,
   "metadata": {},
   "outputs": [],
   "source": [
    "demo01.to_csv('demo01_v2.csv')"
   ]
  },
  {
   "cell_type": "code",
   "execution_count": null,
   "metadata": {},
   "outputs": [],
   "source": []
  }
 ],
 "metadata": {
  "kernelspec": {
   "display_name": "Python 3",
   "language": "python",
   "name": "python3"
  },
  "language_info": {
   "codemirror_mode": {
    "name": "ipython",
    "version": 3
   },
   "file_extension": ".py",
   "mimetype": "text/x-python",
   "name": "python",
   "nbconvert_exporter": "python",
   "pygments_lexer": "ipython3",
   "version": "3.8.8"
  }
 },
 "nbformat": 4,
 "nbformat_minor": 4
}
