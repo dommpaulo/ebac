{
 "cells": [
  {
   "cell_type": "markdown",
   "metadata": {},
   "source": [
    "# EBAC - Regressão II - regressão múltipla\n",
    "\n",
    "## Tarefa I"
   ]
  },
  {
   "cell_type": "markdown",
   "metadata": {},
   "source": [
    "#### Previsão de renda II\n",
    "\n",
    "Vamos continuar trabalhando com a base 'previsao_de_renda.csv', que é a base do seu próximo projeto. Vamos usar os recursos que vimos até aqui nesta base.\n",
    "\n",
    "|variavel|descrição|\n",
    "|-|-|\n",
    "|data_ref                | Data de referência de coleta das variáveis |\n",
    "|index                   | Código de identificação do cliente|\n",
    "|sexo                    | Sexo do cliente|\n",
    "|posse_de_veiculo        | Indica se o cliente possui veículo|\n",
    "|posse_de_imovel         | Indica se o cliente possui imóvel|\n",
    "|qtd_filhos              | Quantidade de filhos do cliente|\n",
    "|tipo_renda              | Tipo de renda do cliente|\n",
    "|educacao                | Grau de instrução do cliente|\n",
    "|estado_civil            | Estado civil do cliente|\n",
    "|tipo_residencia         | Tipo de residência do cliente (própria, alugada etc)|\n",
    "|idade                   | Idade do cliente|\n",
    "|tempo_emprego           | Tempo no emprego atual|\n",
    "|qt_pessoas_residencia   | Quantidade de pessoas que moram na residência|\n",
    "|renda                   | Renda em reais|"
   ]
  },
  {
   "cell_type": "markdown",
   "metadata": {},
   "source": [
    "1. Separe a base em treinamento e teste (25% para teste, 75% para treinamento).\n",
    "2. Rode uma regularização *ridge* com alpha = [0, 0.001, 0.005, 0.01, 0.05, 0.1] e avalie o $R^2$ na base de testes. Qual o melhor modelo?\n",
    "3. Faça o mesmo que no passo 2, com uma regressão *LASSO*. Qual método chega a um melhor resultado?\n",
    "4. Rode um modelo *stepwise*. Avalie o $R^2$ na vase de testes. Qual o melhor resultado?\n",
    "5. Compare os parâmetros e avalie eventuais diferenças. Qual modelo você acha o melhor de todos?\n",
    "6. Partindo dos modelos que você ajustou, tente melhorar o $R^2$ na base de testes. Use a criatividade, veja se consegue inserir alguma transformação ou combinação de variáveis.\n",
    "7. Ajuste uma árvore de regressão e veja se consegue um $R^2$ melhor com ela."
   ]
  },
  {
   "cell_type": "code",
   "execution_count": 98,
   "metadata": {},
   "outputs": [],
   "source": [
    "import pandas as pd\n",
    "import numpy as np\n",
    "\n",
    "import seaborn as sns\n",
    "import matplotlib.pyplot as plt\n",
    "\n",
    "import statsmodels.formula.api as smf\n",
    "import statsmodels.api as sm\n",
    "import patsy\n",
    "\n",
    "from sklearn import tree\n",
    "from sklearn.tree import plot_tree\n",
    "from sklearn.tree import DecisionTreeRegressor\n",
    "from sklearn.model_selection import train_test_split\n",
    "\n",
    "from sklearn.metrics import accuracy_score\n",
    "from sklearn.metrics import confusion_matrix\n",
    "from sklearn.metrics import plot_confusion_matrix\n",
    "from sklearn.metrics import mean_squared_error\n",
    "\n",
    "from sklearn.model_selection import train_test_split\n",
    "from sklearn.model_selection import cross_val_score\n",
    "from sklearn.linear_model import Ridge\n",
    "from sklearn.linear_model import Lasso\n",
    "from sklearn.linear_model import LinearRegression\n",
    "\n",
    "%matplotlib inline"
   ]
  },
  {
   "cell_type": "code",
   "execution_count": 99,
   "metadata": {},
   "outputs": [],
   "source": [
    "df = pd.read_csv('previsao_de_renda.csv')"
   ]
  },
  {
   "cell_type": "markdown",
   "metadata": {},
   "source": [
    "### <span style=\"color:orange\">Step 1: Preparing data | Splitting data</span>"
   ]
  },
  {
   "cell_type": "code",
   "execution_count": 100,
   "metadata": {},
   "outputs": [
    {
     "name": "stdout",
     "output_type": "stream",
     "text": [
      "<class 'pandas.core.frame.DataFrame'>\n",
      "RangeIndex: 15000 entries, 0 to 14999\n",
      "Data columns (total 15 columns):\n",
      " #   Column                 Non-Null Count  Dtype  \n",
      "---  ------                 --------------  -----  \n",
      " 0   Unnamed: 0             15000 non-null  int64  \n",
      " 1   data_ref               15000 non-null  object \n",
      " 2   id_cliente             15000 non-null  int64  \n",
      " 3   sexo                   15000 non-null  object \n",
      " 4   posse_de_veiculo       15000 non-null  bool   \n",
      " 5   posse_de_imovel        15000 non-null  bool   \n",
      " 6   qtd_filhos             15000 non-null  int64  \n",
      " 7   tipo_renda             15000 non-null  object \n",
      " 8   educacao               15000 non-null  object \n",
      " 9   estado_civil           15000 non-null  object \n",
      " 10  tipo_residencia        15000 non-null  object \n",
      " 11  idade                  15000 non-null  int64  \n",
      " 12  tempo_emprego          12427 non-null  float64\n",
      " 13  qt_pessoas_residencia  15000 non-null  float64\n",
      " 14  renda                  15000 non-null  float64\n",
      "dtypes: bool(2), float64(3), int64(4), object(6)\n",
      "memory usage: 1.5+ MB\n"
     ]
    }
   ],
   "source": [
    "df.info()"
   ]
  },
  {
   "cell_type": "code",
   "execution_count": 101,
   "metadata": {},
   "outputs": [
    {
     "data": {
      "text/html": [
       "<div>\n",
       "<style scoped>\n",
       "    .dataframe tbody tr th:only-of-type {\n",
       "        vertical-align: middle;\n",
       "    }\n",
       "\n",
       "    .dataframe tbody tr th {\n",
       "        vertical-align: top;\n",
       "    }\n",
       "\n",
       "    .dataframe thead th {\n",
       "        text-align: right;\n",
       "    }\n",
       "</style>\n",
       "<table border=\"1\" class=\"dataframe\">\n",
       "  <thead>\n",
       "    <tr style=\"text-align: right;\">\n",
       "      <th></th>\n",
       "      <th>Unnamed: 0</th>\n",
       "      <th>data_ref</th>\n",
       "      <th>id_cliente</th>\n",
       "      <th>sexo</th>\n",
       "      <th>posse_de_veiculo</th>\n",
       "      <th>posse_de_imovel</th>\n",
       "      <th>qtd_filhos</th>\n",
       "      <th>tipo_renda</th>\n",
       "      <th>educacao</th>\n",
       "      <th>estado_civil</th>\n",
       "      <th>tipo_residencia</th>\n",
       "      <th>idade</th>\n",
       "      <th>tempo_emprego</th>\n",
       "      <th>qt_pessoas_residencia</th>\n",
       "      <th>renda</th>\n",
       "    </tr>\n",
       "  </thead>\n",
       "  <tbody>\n",
       "    <tr>\n",
       "      <th>0</th>\n",
       "      <td>0</td>\n",
       "      <td>2015-01-01</td>\n",
       "      <td>15056</td>\n",
       "      <td>F</td>\n",
       "      <td>False</td>\n",
       "      <td>True</td>\n",
       "      <td>0</td>\n",
       "      <td>Empresário</td>\n",
       "      <td>Secundário</td>\n",
       "      <td>Solteiro</td>\n",
       "      <td>Casa</td>\n",
       "      <td>26</td>\n",
       "      <td>6.602740</td>\n",
       "      <td>1.0</td>\n",
       "      <td>8060.34</td>\n",
       "    </tr>\n",
       "    <tr>\n",
       "      <th>1</th>\n",
       "      <td>1</td>\n",
       "      <td>2015-01-01</td>\n",
       "      <td>9968</td>\n",
       "      <td>M</td>\n",
       "      <td>True</td>\n",
       "      <td>True</td>\n",
       "      <td>0</td>\n",
       "      <td>Assalariado</td>\n",
       "      <td>Superior completo</td>\n",
       "      <td>Casado</td>\n",
       "      <td>Casa</td>\n",
       "      <td>28</td>\n",
       "      <td>7.183562</td>\n",
       "      <td>2.0</td>\n",
       "      <td>1852.15</td>\n",
       "    </tr>\n",
       "    <tr>\n",
       "      <th>2</th>\n",
       "      <td>2</td>\n",
       "      <td>2015-01-01</td>\n",
       "      <td>4312</td>\n",
       "      <td>F</td>\n",
       "      <td>True</td>\n",
       "      <td>True</td>\n",
       "      <td>0</td>\n",
       "      <td>Empresário</td>\n",
       "      <td>Superior completo</td>\n",
       "      <td>Casado</td>\n",
       "      <td>Casa</td>\n",
       "      <td>35</td>\n",
       "      <td>0.838356</td>\n",
       "      <td>2.0</td>\n",
       "      <td>2253.89</td>\n",
       "    </tr>\n",
       "    <tr>\n",
       "      <th>3</th>\n",
       "      <td>3</td>\n",
       "      <td>2015-01-01</td>\n",
       "      <td>10639</td>\n",
       "      <td>F</td>\n",
       "      <td>False</td>\n",
       "      <td>True</td>\n",
       "      <td>1</td>\n",
       "      <td>Servidor público</td>\n",
       "      <td>Superior completo</td>\n",
       "      <td>Casado</td>\n",
       "      <td>Casa</td>\n",
       "      <td>30</td>\n",
       "      <td>4.846575</td>\n",
       "      <td>3.0</td>\n",
       "      <td>6600.77</td>\n",
       "    </tr>\n",
       "    <tr>\n",
       "      <th>4</th>\n",
       "      <td>4</td>\n",
       "      <td>2015-01-01</td>\n",
       "      <td>7064</td>\n",
       "      <td>M</td>\n",
       "      <td>True</td>\n",
       "      <td>False</td>\n",
       "      <td>0</td>\n",
       "      <td>Assalariado</td>\n",
       "      <td>Secundário</td>\n",
       "      <td>Solteiro</td>\n",
       "      <td>Governamental</td>\n",
       "      <td>33</td>\n",
       "      <td>4.293151</td>\n",
       "      <td>1.0</td>\n",
       "      <td>6475.97</td>\n",
       "    </tr>\n",
       "    <tr>\n",
       "      <th>...</th>\n",
       "      <td>...</td>\n",
       "      <td>...</td>\n",
       "      <td>...</td>\n",
       "      <td>...</td>\n",
       "      <td>...</td>\n",
       "      <td>...</td>\n",
       "      <td>...</td>\n",
       "      <td>...</td>\n",
       "      <td>...</td>\n",
       "      <td>...</td>\n",
       "      <td>...</td>\n",
       "      <td>...</td>\n",
       "      <td>...</td>\n",
       "      <td>...</td>\n",
       "      <td>...</td>\n",
       "    </tr>\n",
       "    <tr>\n",
       "      <th>14995</th>\n",
       "      <td>14995</td>\n",
       "      <td>2016-03-01</td>\n",
       "      <td>16006</td>\n",
       "      <td>F</td>\n",
       "      <td>False</td>\n",
       "      <td>True</td>\n",
       "      <td>0</td>\n",
       "      <td>Empresário</td>\n",
       "      <td>Secundário</td>\n",
       "      <td>Solteiro</td>\n",
       "      <td>Casa</td>\n",
       "      <td>48</td>\n",
       "      <td>13.887671</td>\n",
       "      <td>1.0</td>\n",
       "      <td>7990.58</td>\n",
       "    </tr>\n",
       "    <tr>\n",
       "      <th>14996</th>\n",
       "      <td>14996</td>\n",
       "      <td>2016-03-01</td>\n",
       "      <td>3722</td>\n",
       "      <td>F</td>\n",
       "      <td>False</td>\n",
       "      <td>True</td>\n",
       "      <td>0</td>\n",
       "      <td>Pensionista</td>\n",
       "      <td>Superior completo</td>\n",
       "      <td>Solteiro</td>\n",
       "      <td>Casa</td>\n",
       "      <td>57</td>\n",
       "      <td>NaN</td>\n",
       "      <td>1.0</td>\n",
       "      <td>10093.45</td>\n",
       "    </tr>\n",
       "    <tr>\n",
       "      <th>14997</th>\n",
       "      <td>14997</td>\n",
       "      <td>2016-03-01</td>\n",
       "      <td>6194</td>\n",
       "      <td>F</td>\n",
       "      <td>True</td>\n",
       "      <td>True</td>\n",
       "      <td>0</td>\n",
       "      <td>Assalariado</td>\n",
       "      <td>Superior completo</td>\n",
       "      <td>Casado</td>\n",
       "      <td>Casa</td>\n",
       "      <td>45</td>\n",
       "      <td>7.832877</td>\n",
       "      <td>2.0</td>\n",
       "      <td>604.82</td>\n",
       "    </tr>\n",
       "    <tr>\n",
       "      <th>14998</th>\n",
       "      <td>14998</td>\n",
       "      <td>2016-03-01</td>\n",
       "      <td>4922</td>\n",
       "      <td>M</td>\n",
       "      <td>True</td>\n",
       "      <td>False</td>\n",
       "      <td>0</td>\n",
       "      <td>Empresário</td>\n",
       "      <td>Superior completo</td>\n",
       "      <td>Casado</td>\n",
       "      <td>Casa</td>\n",
       "      <td>36</td>\n",
       "      <td>4.298630</td>\n",
       "      <td>2.0</td>\n",
       "      <td>3352.27</td>\n",
       "    </tr>\n",
       "    <tr>\n",
       "      <th>14999</th>\n",
       "      <td>14999</td>\n",
       "      <td>2016-03-01</td>\n",
       "      <td>14651</td>\n",
       "      <td>F</td>\n",
       "      <td>False</td>\n",
       "      <td>True</td>\n",
       "      <td>2</td>\n",
       "      <td>Servidor público</td>\n",
       "      <td>Secundário</td>\n",
       "      <td>União</td>\n",
       "      <td>Casa</td>\n",
       "      <td>34</td>\n",
       "      <td>7.219178</td>\n",
       "      <td>4.0</td>\n",
       "      <td>1160.99</td>\n",
       "    </tr>\n",
       "  </tbody>\n",
       "</table>\n",
       "<p>15000 rows × 15 columns</p>\n",
       "</div>"
      ],
      "text/plain": [
       "       Unnamed: 0    data_ref  id_cliente sexo  posse_de_veiculo  \\\n",
       "0               0  2015-01-01       15056    F             False   \n",
       "1               1  2015-01-01        9968    M              True   \n",
       "2               2  2015-01-01        4312    F              True   \n",
       "3               3  2015-01-01       10639    F             False   \n",
       "4               4  2015-01-01        7064    M              True   \n",
       "...           ...         ...         ...  ...               ...   \n",
       "14995       14995  2016-03-01       16006    F             False   \n",
       "14996       14996  2016-03-01        3722    F             False   \n",
       "14997       14997  2016-03-01        6194    F              True   \n",
       "14998       14998  2016-03-01        4922    M              True   \n",
       "14999       14999  2016-03-01       14651    F             False   \n",
       "\n",
       "       posse_de_imovel  qtd_filhos        tipo_renda           educacao  \\\n",
       "0                 True           0        Empresário         Secundário   \n",
       "1                 True           0       Assalariado  Superior completo   \n",
       "2                 True           0        Empresário  Superior completo   \n",
       "3                 True           1  Servidor público  Superior completo   \n",
       "4                False           0       Assalariado         Secundário   \n",
       "...                ...         ...               ...                ...   \n",
       "14995             True           0        Empresário         Secundário   \n",
       "14996             True           0       Pensionista  Superior completo   \n",
       "14997             True           0       Assalariado  Superior completo   \n",
       "14998            False           0        Empresário  Superior completo   \n",
       "14999             True           2  Servidor público         Secundário   \n",
       "\n",
       "      estado_civil tipo_residencia  idade  tempo_emprego  \\\n",
       "0         Solteiro            Casa     26       6.602740   \n",
       "1           Casado            Casa     28       7.183562   \n",
       "2           Casado            Casa     35       0.838356   \n",
       "3           Casado            Casa     30       4.846575   \n",
       "4         Solteiro   Governamental     33       4.293151   \n",
       "...            ...             ...    ...            ...   \n",
       "14995     Solteiro            Casa     48      13.887671   \n",
       "14996     Solteiro            Casa     57            NaN   \n",
       "14997       Casado            Casa     45       7.832877   \n",
       "14998       Casado            Casa     36       4.298630   \n",
       "14999        União            Casa     34       7.219178   \n",
       "\n",
       "       qt_pessoas_residencia     renda  \n",
       "0                        1.0   8060.34  \n",
       "1                        2.0   1852.15  \n",
       "2                        2.0   2253.89  \n",
       "3                        3.0   6600.77  \n",
       "4                        1.0   6475.97  \n",
       "...                      ...       ...  \n",
       "14995                    1.0   7990.58  \n",
       "14996                    1.0  10093.45  \n",
       "14997                    2.0    604.82  \n",
       "14998                    2.0   3352.27  \n",
       "14999                    4.0   1160.99  \n",
       "\n",
       "[15000 rows x 15 columns]"
      ]
     },
     "execution_count": 101,
     "metadata": {},
     "output_type": "execute_result"
    }
   ],
   "source": [
    "df.drop_duplicates()"
   ]
  },
  {
   "cell_type": "code",
   "execution_count": 102,
   "metadata": {},
   "outputs": [
    {
     "data": {
      "text/plain": [
       "Unnamed: 0                  0\n",
       "data_ref                    0\n",
       "id_cliente                  0\n",
       "sexo                        0\n",
       "posse_de_veiculo            0\n",
       "posse_de_imovel             0\n",
       "qtd_filhos                  0\n",
       "tipo_renda                  0\n",
       "educacao                    0\n",
       "estado_civil                0\n",
       "tipo_residencia             0\n",
       "idade                       0\n",
       "tempo_emprego            2573\n",
       "qt_pessoas_residencia       0\n",
       "renda                       0\n",
       "dtype: int64"
      ]
     },
     "execution_count": 102,
     "metadata": {},
     "output_type": "execute_result"
    }
   ],
   "source": [
    "df.isna().sum()"
   ]
  },
  {
   "cell_type": "code",
   "execution_count": 103,
   "metadata": {},
   "outputs": [],
   "source": [
    "df_1 = df.dropna()"
   ]
  },
  {
   "cell_type": "code",
   "execution_count": 104,
   "metadata": {},
   "outputs": [
    {
     "data": {
      "text/plain": [
       "Unnamed: 0               0\n",
       "data_ref                 0\n",
       "id_cliente               0\n",
       "sexo                     0\n",
       "posse_de_veiculo         0\n",
       "posse_de_imovel          0\n",
       "qtd_filhos               0\n",
       "tipo_renda               0\n",
       "educacao                 0\n",
       "estado_civil             0\n",
       "tipo_residencia          0\n",
       "idade                    0\n",
       "tempo_emprego            0\n",
       "qt_pessoas_residencia    0\n",
       "renda                    0\n",
       "dtype: int64"
      ]
     },
     "execution_count": 104,
     "metadata": {},
     "output_type": "execute_result"
    }
   ],
   "source": [
    "df_1.isna().sum()"
   ]
  },
  {
   "cell_type": "code",
   "execution_count": 105,
   "metadata": {},
   "outputs": [],
   "source": [
    "y, X = patsy.dmatrices('np.log(renda) ~ C(sexo) + posse_de_veiculo + posse_de_imovel + qtd_filhos + C(tipo_renda) + C(educacao, Treatment(2)) + C(estado_civil) + C(tipo_residencia, Treatment(1)) + idade + tempo_emprego + qt_pessoas_residencia ', data = df_1)"
   ]
  },
  {
   "cell_type": "code",
   "execution_count": 106,
   "metadata": {},
   "outputs": [],
   "source": [
    "X_train, X_test, y_train, y_test = train_test_split(X, y, test_size=0.25, random_state=100)"
   ]
  },
  {
   "cell_type": "markdown",
   "metadata": {},
   "source": [
    "### <span style=\"color:orange\">Step 2: Ridge regression</span>"
   ]
  },
  {
   "cell_type": "code",
   "execution_count": 107,
   "metadata": {},
   "outputs": [],
   "source": [
    "# Ridge Regularization - I didn't make the function '.fit_regularized, L1_wt = 0' as proposal. I got the Ridge function from sci\"\n",
    "clfs = []\n",
    "ridge_id = [0.001, 0.005, 0.01, 0.05, 0.1, 0.5, 1, 2]\n",
    "\n",
    "for i in range(8):\n",
    "    clf = Ridge(alpha=ridge_id[i])\n",
    "    clf.fit(X_train, y_train)\n",
    "    clfs.append(clf)"
   ]
  },
  {
   "cell_type": "code",
   "execution_count": 108,
   "metadata": {},
   "outputs": [],
   "source": [
    "mse_scores_ridge  = [clf.score(X_test, y_test) for clf in clfs]"
   ]
  },
  {
   "cell_type": "code",
   "execution_count": 109,
   "metadata": {},
   "outputs": [
    {
     "data": {
      "image/png": "[encoded data removed]",
      "text/plain": [
       "<Figure size 1080x432 with 1 Axes>"
      ]
     },
     "metadata": {
      "needs_background": "light"
     },
     "output_type": "display_data"
    }
   ],
   "source": [
    "fig, ax = plt.subplots(figsize=(15, 6))\n",
    "ax.set_xlabel(\"alpha\")\n",
    "ax.set_ylabel(\"MSE\")\n",
    "ax.set_title(\"MSE x alpha (df_teste) by ridge regression\")\n",
    "ax.plot(ridge_id, mse_scores_ridge, marker='o', label=\"treino\",\n",
    "        drawstyle=\"steps-mid\")\n",
    "ax.legend()\n",
    "plt.show()"
   ]
  },
  {
   "cell_type": "markdown",
   "metadata": {},
   "source": [
    "<span style=\"color:blue\">**Ridge regression:** As variações no MSE pelo alpha do ridge são mínimas. Incluí mais três valores para tentar perceber um gap maior e a variação no MSE continua bem pequena, mas com tendência de diminuir conforme aumenta o alpha.</span>"
   ]
  },
  {
   "cell_type": "markdown",
   "metadata": {},
   "source": [
    "### <span style=\"color:orange\">Step 3: Lasso regression</span>"
   ]
  },
  {
   "cell_type": "code",
   "execution_count": 110,
   "metadata": {},
   "outputs": [],
   "source": [
    "# Lasso Regularization\n",
    "clfs2 = []\n",
    "lasso_id = [0.001, 0.005, 0.01, 0.05, 0.1, 0.5, 1, 2]\n",
    "\n",
    "for i in range(8):\n",
    "    clf2 = Lasso(alpha=lasso_id[i])\n",
    "    clf2.fit(X_train, y_train)\n",
    "    clfs2.append(clf2)"
   ]
  },
  {
   "cell_type": "code",
   "execution_count": 111,
   "metadata": {},
   "outputs": [],
   "source": [
    "mse_scores_lasso  = [clf2.score(X_test, y_test) for clf2 in clfs2]"
   ]
  },
  {
   "cell_type": "code",
   "execution_count": 112,
   "metadata": {},
   "outputs": [
    {
     "data": {
      "image/png": "[encoded data removed]",
      "text/plain": [
       "<Figure size 1080x432 with 1 Axes>"
      ]
     },
     "metadata": {
      "needs_background": "light"
     },
     "output_type": "display_data"
    }
   ],
   "source": [
    "fig, ax = plt.subplots(figsize=(15, 6))\n",
    "ax.set_xlabel(\"alpha\")\n",
    "ax.set_ylabel(\"MSE\")\n",
    "ax.set_title(\"MSE x alpha (df_teste) by lasso regression\")\n",
    "ax.plot(lasso_id, mse_scores_lasso, marker='o', label=\"treino\",\n",
    "        drawstyle=\"steps-mid\")\n",
    "ax.legend()\n",
    "plt.show()"
   ]
  },
  {
   "cell_type": "markdown",
   "metadata": {},
   "source": [
    "<span style=\"color:blue\">**Lasso regression:** As variações no MSE pela regressão lasso mostram um gap bem mais amplo ao longo da variação do alpha. O MSE cai dramaticamente ao aumento do alpha. O ridge parece mostrar um melhor resultado.</span>"
   ]
  },
  {
   "cell_type": "markdown",
   "metadata": {},
   "source": [
    "<span style=\"color:blue\">**Obs:** Não consegui usar o código proposto na aula. Não entendi como aplicar só a base teste no código. Aguardo as orientações. Assim, segui com os métodos Ridge e Lasso do sklearn.</span>"
   ]
  },
  {
   "cell_type": "markdown",
   "metadata": {},
   "source": [
    "### <span style=\"color:orange\">Step 4 | 5 | 6: Stepwise regression</span>"
   ]
  },
  {
   "cell_type": "markdown",
   "metadata": {},
   "source": [
    "<span style=\"color:blue\">**Não executado** Não consegui desenvolver esse item. Já estou preso nele há vários meses e não consigo fazer esse código abordado na aula funcionar para a base teste. Já estou muito atrasado no curso, vou avançar sem isso pendente. Aguardo orientações. Obrigado.</span>"
   ]
  },
  {
   "cell_type": "code",
   "execution_count": 113,
   "metadata": {},
   "outputs": [],
   "source": [
    "model = sm.OLS(y_test, X_test).fit()"
   ]
  },
  {
   "cell_type": "code",
   "execution_count": 114,
   "metadata": {},
   "outputs": [
    {
     "data": {
      "text/html": [
       "<table class=\"simpletable\">\n",
       "<caption>OLS Regression Results</caption>\n",
       "<tr>\n",
       "  <th>Dep. Variable:</th>            <td>y</td>        <th>  R-squared:         </th> <td>   0.374</td> \n",
       "</tr>\n",
       "<tr>\n",
       "  <th>Model:</th>                   <td>OLS</td>       <th>  Adj. R-squared:    </th> <td>   0.369</td> \n",
       "</tr>\n",
       "<tr>\n",
       "  <th>Method:</th>             <td>Least Squares</td>  <th>  F-statistic:       </th> <td>   76.72</td> \n",
       "</tr>\n",
       "<tr>\n",
       "  <th>Date:</th>             <td>Sun, 19 Feb 2023</td> <th>  Prob (F-statistic):</th> <td>2.05e-291</td>\n",
       "</tr>\n",
       "<tr>\n",
       "  <th>Time:</th>                 <td>19:28:42</td>     <th>  Log-Likelihood:    </th> <td> -3354.1</td> \n",
       "</tr>\n",
       "<tr>\n",
       "  <th>No. Observations:</th>      <td>  3107</td>      <th>  AIC:               </th> <td>   6758.</td> \n",
       "</tr>\n",
       "<tr>\n",
       "  <th>Df Residuals:</th>          <td>  3082</td>      <th>  BIC:               </th> <td>   6909.</td> \n",
       "</tr>\n",
       "<tr>\n",
       "  <th>Df Model:</th>              <td>    24</td>      <th>                     </th>     <td> </td>    \n",
       "</tr>\n",
       "<tr>\n",
       "  <th>Covariance Type:</th>      <td>nonrobust</td>    <th>                     </th>     <td> </td>    \n",
       "</tr>\n",
       "</table>\n",
       "<table class=\"simpletable\">\n",
       "<tr>\n",
       "     <td></td>       <th>coef</th>     <th>std err</th>      <th>t</th>      <th>P>|t|</th>  <th>[0.025</th>    <th>0.975]</th>  \n",
       "</tr>\n",
       "<tr>\n",
       "  <th>var_0</th>  <td>    5.9897</td> <td>    1.017</td> <td>    5.889</td> <td> 0.000</td> <td>    3.996</td> <td>    7.984</td>\n",
       "</tr>\n",
       "<tr>\n",
       "  <th>var_1</th>  <td>    0.7808</td> <td>    0.029</td> <td>   26.809</td> <td> 0.000</td> <td>    0.724</td> <td>    0.838</td>\n",
       "</tr>\n",
       "<tr>\n",
       "  <th>var_2</th>  <td>    0.0770</td> <td>    0.028</td> <td>    2.751</td> <td> 0.006</td> <td>    0.022</td> <td>    0.132</td>\n",
       "</tr>\n",
       "<tr>\n",
       "  <th>var_3</th>  <td>    0.1049</td> <td>    0.028</td> <td>    3.731</td> <td> 0.000</td> <td>    0.050</td> <td>    0.160</td>\n",
       "</tr>\n",
       "<tr>\n",
       "  <th>var_4</th>  <td>    0.2621</td> <td>    0.322</td> <td>    0.815</td> <td> 0.415</td> <td>   -0.369</td> <td>    0.893</td>\n",
       "</tr>\n",
       "<tr>\n",
       "  <th>var_5</th>  <td>    0.1712</td> <td>    0.030</td> <td>    5.777</td> <td> 0.000</td> <td>    0.113</td> <td>    0.229</td>\n",
       "</tr>\n",
       "<tr>\n",
       "  <th>var_6</th>  <td>   -0.3711</td> <td>    0.717</td> <td>   -0.517</td> <td> 0.605</td> <td>   -1.777</td> <td>    1.035</td>\n",
       "</tr>\n",
       "<tr>\n",
       "  <th>var_7</th>  <td>    0.0844</td> <td>    0.044</td> <td>    1.915</td> <td> 0.056</td> <td>   -0.002</td> <td>    0.171</td>\n",
       "</tr>\n",
       "<tr>\n",
       "  <th>var_8</th>  <td>    0.0925</td> <td>    0.154</td> <td>    0.600</td> <td> 0.548</td> <td>   -0.210</td> <td>    0.395</td>\n",
       "</tr>\n",
       "<tr>\n",
       "  <th>var_9</th>  <td>   -0.3511</td> <td>    0.359</td> <td>   -0.978</td> <td> 0.328</td> <td>   -1.055</td> <td>    0.353</td>\n",
       "</tr>\n",
       "<tr>\n",
       "  <th>var_10</th> <td>    0.1350</td> <td>    0.027</td> <td>    4.912</td> <td> 0.000</td> <td>    0.081</td> <td>    0.189</td>\n",
       "</tr>\n",
       "<tr>\n",
       "  <th>var_11</th> <td>   -0.2026</td> <td>    0.067</td> <td>   -3.008</td> <td> 0.003</td> <td>   -0.335</td> <td>   -0.071</td>\n",
       "</tr>\n",
       "<tr>\n",
       "  <th>var_12</th> <td>    0.5105</td> <td>    0.511</td> <td>    0.999</td> <td> 0.318</td> <td>   -0.491</td> <td>    1.512</td>\n",
       "</tr>\n",
       "<tr>\n",
       "  <th>var_13</th> <td>    0.5442</td> <td>    0.506</td> <td>    1.075</td> <td> 0.282</td> <td>   -0.448</td> <td>    1.537</td>\n",
       "</tr>\n",
       "<tr>\n",
       "  <th>var_14</th> <td>   -0.0993</td> <td>    0.051</td> <td>   -1.938</td> <td> 0.053</td> <td>   -0.200</td> <td>    0.001</td>\n",
       "</tr>\n",
       "<tr>\n",
       "  <th>var_15</th> <td>    0.6037</td> <td>    0.514</td> <td>    1.175</td> <td> 0.240</td> <td>   -0.404</td> <td>    1.611</td>\n",
       "</tr>\n",
       "<tr>\n",
       "  <th>var_16</th> <td>   -0.0660</td> <td>    0.106</td> <td>   -0.623</td> <td> 0.534</td> <td>   -0.274</td> <td>    0.142</td>\n",
       "</tr>\n",
       "<tr>\n",
       "  <th>var_17</th> <td>    0.0008</td> <td>    0.060</td> <td>    0.013</td> <td> 0.990</td> <td>   -0.117</td> <td>    0.118</td>\n",
       "</tr>\n",
       "<tr>\n",
       "  <th>var_18</th> <td>   -0.2096</td> <td>    0.170</td> <td>   -1.230</td> <td> 0.219</td> <td>   -0.544</td> <td>    0.125</td>\n",
       "</tr>\n",
       "<tr>\n",
       "  <th>var_19</th> <td>    0.0809</td> <td>    0.147</td> <td>    0.549</td> <td> 0.583</td> <td>   -0.208</td> <td>    0.370</td>\n",
       "</tr>\n",
       "<tr>\n",
       "  <th>var_20</th> <td>    0.0159</td> <td>    0.077</td> <td>    0.205</td> <td> 0.837</td> <td>   -0.136</td> <td>    0.167</td>\n",
       "</tr>\n",
       "<tr>\n",
       "  <th>var_21</th> <td>   -0.4784</td> <td>    0.508</td> <td>   -0.941</td> <td> 0.347</td> <td>   -1.475</td> <td>    0.519</td>\n",
       "</tr>\n",
       "<tr>\n",
       "  <th>var_22</th> <td>    0.0055</td> <td>    0.002</td> <td>    3.383</td> <td> 0.001</td> <td>    0.002</td> <td>    0.009</td>\n",
       "</tr>\n",
       "<tr>\n",
       "  <th>var_23</th> <td>    0.0615</td> <td>    0.002</td> <td>   29.452</td> <td> 0.000</td> <td>    0.057</td> <td>    0.066</td>\n",
       "</tr>\n",
       "<tr>\n",
       "  <th>var_24</th> <td>    0.5365</td> <td>    0.508</td> <td>    1.057</td> <td> 0.291</td> <td>   -0.459</td> <td>    1.532</td>\n",
       "</tr>\n",
       "</table>\n",
       "<table class=\"simpletable\">\n",
       "<tr>\n",
       "  <th>Omnibus:</th>       <td> 0.928</td> <th>  Durbin-Watson:     </th> <td>   1.973</td>\n",
       "</tr>\n",
       "<tr>\n",
       "  <th>Prob(Omnibus):</th> <td> 0.629</td> <th>  Jarque-Bera (JB):  </th> <td>   0.923</td>\n",
       "</tr>\n",
       "<tr>\n",
       "  <th>Skew:</th>          <td> 0.042</td> <th>  Prob(JB):          </th> <td>   0.630</td>\n",
       "</tr>\n",
       "<tr>\n",
       "  <th>Kurtosis:</th>      <td> 2.998</td> <th>  Cond. No.          </th> <td>5.04e+03</td>\n",
       "</tr>\n",
       "</table><br/><br/>Notes:<br/>[1] Standard Errors assume that the covariance matrix of the errors is correctly specified.<br/>[2] The condition number is large, 5.04e+03. This might indicate that there are<br/>strong multicollinearity or other numerical problems."
      ],
      "text/plain": [
       "<class 'statsmodels.iolib.summary.Summary'>\n",
       "\"\"\"\n",
       "                            OLS Regression Results                            \n",
       "==============================================================================\n",
       "Dep. Variable:                      y   R-squared:                       0.374\n",
       "Model:                            OLS   Adj. R-squared:                  0.369\n",
       "Method:                 Least Squares   F-statistic:                     76.72\n",
       "Date:                Sun, 19 Feb 2023   Prob (F-statistic):          2.05e-291\n",
       "Time:                        19:28:42   Log-Likelihood:                -3354.1\n",
       "No. Observations:                3107   AIC:                             6758.\n",
       "Df Residuals:                    3082   BIC:                             6909.\n",
       "Df Model:                          24                                         \n",
       "Covariance Type:            nonrobust                                         \n",
       "==============================================================================\n",
       "                 coef    std err          t      P>|t|      [0.025      0.975]\n",
       "------------------------------------------------------------------------------\n",
       "var_0          5.9897      1.017      5.889      0.000       3.996       7.984\n",
       "var_1          0.7808      0.029     26.809      0.000       0.724       0.838\n",
       "var_2          0.0770      0.028      2.751      0.006       0.022       0.132\n",
       "var_3          0.1049      0.028      3.731      0.000       0.050       0.160\n",
       "var_4          0.2621      0.322      0.815      0.415      -0.369       0.893\n",
       "var_5          0.1712      0.030      5.777      0.000       0.113       0.229\n",
       "var_6         -0.3711      0.717     -0.517      0.605      -1.777       1.035\n",
       "var_7          0.0844      0.044      1.915      0.056      -0.002       0.171\n",
       "var_8          0.0925      0.154      0.600      0.548      -0.210       0.395\n",
       "var_9         -0.3511      0.359     -0.978      0.328      -1.055       0.353\n",
       "var_10         0.1350      0.027      4.912      0.000       0.081       0.189\n",
       "var_11        -0.2026      0.067     -3.008      0.003      -0.335      -0.071\n",
       "var_12         0.5105      0.511      0.999      0.318      -0.491       1.512\n",
       "var_13         0.5442      0.506      1.075      0.282      -0.448       1.537\n",
       "var_14        -0.0993      0.051     -1.938      0.053      -0.200       0.001\n",
       "var_15         0.6037      0.514      1.175      0.240      -0.404       1.611\n",
       "var_16        -0.0660      0.106     -0.623      0.534      -0.274       0.142\n",
       "var_17         0.0008      0.060      0.013      0.990      -0.117       0.118\n",
       "var_18        -0.2096      0.170     -1.230      0.219      -0.544       0.125\n",
       "var_19         0.0809      0.147      0.549      0.583      -0.208       0.370\n",
       "var_20         0.0159      0.077      0.205      0.837      -0.136       0.167\n",
       "var_21        -0.4784      0.508     -0.941      0.347      -1.475       0.519\n",
       "var_22         0.0055      0.002      3.383      0.001       0.002       0.009\n",
       "var_23         0.0615      0.002     29.452      0.000       0.057       0.066\n",
       "var_24         0.5365      0.508      1.057      0.291      -0.459       1.532\n",
       "==============================================================================\n",
       "Omnibus:                        0.928   Durbin-Watson:                   1.973\n",
       "Prob(Omnibus):                  0.629   Jarque-Bera (JB):                0.923\n",
       "Skew:                           0.042   Prob(JB):                        0.630\n",
       "Kurtosis:                       2.998   Cond. No.                     5.04e+03\n",
       "==============================================================================\n",
       "\n",
       "Notes:\n",
       "[1] Standard Errors assume that the covariance matrix of the errors is correctly specified.\n",
       "[2] The condition number is large, 5.04e+03. This might indicate that there are\n",
       "strong multicollinearity or other numerical problems.\n",
       "\"\"\""
      ]
     },
     "execution_count": 114,
     "metadata": {},
     "output_type": "execute_result"
    }
   ],
   "source": [
    "model.summary()"
   ]
  },
  {
   "cell_type": "markdown",
   "metadata": {},
   "source": [
    "### <span style=\"color:orange\">Step 7: Regression tree</span>"
   ]
  },
  {
   "cell_type": "code",
   "execution_count": 145,
   "metadata": {},
   "outputs": [],
   "source": [
    "regr = DecisionTreeRegressor(max_depth=3)\n",
    "regr.fit(X_test, y_test);"
   ]
  },
  {
   "cell_type": "code",
   "execution_count": 146,
   "metadata": {},
   "outputs": [
    {
     "name": "stdout",
     "output_type": "stream",
     "text": [
      "0.3584987439465941\n"
     ]
    }
   ],
   "source": [
    "mse = regr.score(X_test, y_test)\n",
    "print(mse)"
   ]
  },
  {
   "cell_type": "markdown",
   "metadata": {},
   "source": [
    "<span style=\"color:blue\">**MSE** Com uma árvore em profundidade 3 chegamos num MSE menor do que o LASSO.</span>"
   ]
  },
  {
   "cell_type": "code",
   "execution_count": 147,
   "metadata": {},
   "outputs": [
    {
     "data": {
      "text/plain": [
       "{'ccp_alphas': array([0.        , 0.00390752, 0.01426326, 0.01801349, 0.01994045,\n",
       "        0.05918923, 0.06262379, 0.1024636 ]),\n",
       " 'impurities': array([0.52815826, 0.53206578, 0.54632903, 0.56434252, 0.58428297,\n",
       "        0.6434722 , 0.706096  , 0.8085596 ])}"
      ]
     },
     "execution_count": 147,
     "metadata": {},
     "output_type": "execute_result"
    }
   ],
   "source": [
    "path = regr.cost_complexity_pruning_path(X_train, y_train)\n",
    "path"
   ]
  },
  {
   "cell_type": "code",
   "execution_count": 149,
   "metadata": {},
   "outputs": [
    {
     "data": {
      "text/plain": [
       "Text(0, 0.5, 'Impureza total das folhas')"
      ]
     },
     "execution_count": 149,
     "metadata": {},
     "output_type": "execute_result"
    },
    {
     "data": {
      "image/png": "[encoded data removed]",
      "text/plain": [
       "<Figure size 720x432 with 1 Axes>"
      ]
     },
     "metadata": {
      "needs_background": "light"
     },
     "output_type": "display_data"
    }
   ],
   "source": [
    "# alpha x impurities\n",
    "ccp_alphas, impurities = path.ccp_alphas, path.impurities\n",
    "\n",
    "plt.figure(figsize=(10, 6))\n",
    "plt.plot(ccp_alphas, impurities)\n",
    "plt.xlabel(\"Alpha efetivo\")\n",
    "plt.ylabel(\"Impureza total das folhas\")"
   ]
  },
  {
   "cell_type": "code",
   "execution_count": 150,
   "metadata": {},
   "outputs": [],
   "source": [
    "# tree x alpha\n",
    "clfs = []\n",
    "\n",
    "for ccp_alpha in ccp_alphas:\n",
    "    clf = DecisionTreeRegressor(random_state=0, ccp_alpha=ccp_alpha)\n",
    "    clf.fit(X_test, y_test)\n",
    "    clfs.append(clf)"
   ]
  },
  {
   "cell_type": "code",
   "execution_count": 151,
   "metadata": {},
   "outputs": [],
   "source": [
    "test_scores  = [mean_squared_error(y_test  , clf.predict(X_test )) for clf in clfs]"
   ]
  },
  {
   "cell_type": "code",
   "execution_count": 152,
   "metadata": {},
   "outputs": [
    {
     "data": {
      "image/png": "[encoded data removed]",
      "text/plain": [
       "<Figure size 720x432 with 1 Axes>"
      ]
     },
     "metadata": {
      "needs_background": "light"
     },
     "output_type": "display_data"
    }
   ],
   "source": [
    "fig, ax = plt.subplots(1, 1, figsize=(10,6))\n",
    "ax.set_xlabel(\"alpha\")\n",
    "ax.set_ylabel(\"MSE\")\n",
    "ax.set_title(\"MSE x alpha do conjunto de dados de teste\")\n",
    "ax.plot(ccp_alphas[:-1], test_scores[:-1], marker='o', label=\"teste\",\n",
    "        drawstyle=\"steps-post\")\n",
    "\n",
    "plt.show()"
   ]
  },
  {
   "cell_type": "code",
   "execution_count": null,
   "metadata": {},
   "outputs": [],
   "source": []
  },
  {
   "cell_type": "code",
   "execution_count": null,
   "metadata": {},
   "outputs": [],
   "source": []
  },
  {
   "cell_type": "code",
   "execution_count": null,
   "metadata": {},
   "outputs": [],
   "source": []
  }
 ],
 "metadata": {
  "kernelspec": {
   "display_name": "Python 3",
   "language": "python",
   "name": "python3"
  },
  "language_info": {
   "codemirror_mode": {
    "name": "ipython",
    "version": 3
   },
   "file_extension": ".py",
   "mimetype": "text/x-python",
   "name": "python",
   "nbconvert_exporter": "python",
   "pygments_lexer": "ipython3",
   "version": "3.8.8"
  }
 },
 "nbformat": 4,
 "nbformat_minor": 4
}
