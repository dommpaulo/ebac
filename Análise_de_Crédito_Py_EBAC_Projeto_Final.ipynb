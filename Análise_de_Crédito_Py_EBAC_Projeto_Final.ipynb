{
  "nbformat": 4,
  "nbformat_minor": 0,
  "metadata": {
    "colab": {
      "name": "Análise de Crédito - Py/EBAC-Projeto Final",
      "provenance": [],
      "collapsed_sections": [],
      "toc_visible": true
    },
    "kernelspec": {
      "name": "python3",
      "display_name": "Python 3"
    },
    "language_info": {
      "name": "python"
    }
  },
  "cells": [
    {
      "cell_type": "markdown",
      "metadata": {
        "id": "v5udXmu0EbHB"
      },
      "source": [
        "# **1. Problema**"
      ]
    },
    {
      "cell_type": "markdown",
      "metadata": {
        "id": "5ChqGbFNZPl5"
      },
      "source": [
        "Identificação de padrão de inadimplência sob base de dados de dados de conseção de crédito. *Default* = 1 (inadimplentes) alvo da análise."
      ]
    },
    {
      "cell_type": "code",
      "metadata": {
        "id": "IqrhWWhCEGVi"
      },
      "source": [
        "import pandas as pd\n",
        "import seaborn as sns\n",
        "import matplotlib.pyplot as plt"
      ],
      "execution_count": 1,
      "outputs": []
    },
    {
      "cell_type": "markdown",
      "metadata": {
        "id": "OnYpzYh1EonK"
      },
      "source": [
        "# **2. Carregameneto de dados:**"
      ]
    },
    {
      "cell_type": "code",
      "metadata": {
        "colab": {
          "base_uri": "https://localhost:8080/",
          "height": 275
        },
        "id": "QVbq6Ub0EwMr",
        "outputId": "fa390431-adde-45aa-89cf-46719d351882"
      },
      "source": [
        "df = pd.read_csv('https://raw.githubusercontent.com/andre-marcos-perez/ebac-course-utils/develop/dataset/credito.csv', na_values='na')\n",
        "\n",
        "df.head()"
      ],
      "execution_count": 2,
      "outputs": [
        {
          "output_type": "execute_result",
          "data": {
            "text/html": [
              "<div>\n",
              "<style scoped>\n",
              "    .dataframe tbody tr th:only-of-type {\n",
              "        vertical-align: middle;\n",
              "    }\n",
              "\n",
              "    .dataframe tbody tr th {\n",
              "        vertical-align: top;\n",
              "    }\n",
              "\n",
              "    .dataframe thead th {\n",
              "        text-align: right;\n",
              "    }\n",
              "</style>\n",
              "<table border=\"1\" class=\"dataframe\">\n",
              "  <thead>\n",
              "    <tr style=\"text-align: right;\">\n",
              "      <th></th>\n",
              "      <th>id</th>\n",
              "      <th>default</th>\n",
              "      <th>idade</th>\n",
              "      <th>sexo</th>\n",
              "      <th>dependentes</th>\n",
              "      <th>escolaridade</th>\n",
              "      <th>estado_civil</th>\n",
              "      <th>salario_anual</th>\n",
              "      <th>tipo_cartao</th>\n",
              "      <th>meses_de_relacionamento</th>\n",
              "      <th>qtd_produtos</th>\n",
              "      <th>iteracoes_12m</th>\n",
              "      <th>meses_inativo_12m</th>\n",
              "      <th>limite_credito</th>\n",
              "      <th>valor_transacoes_12m</th>\n",
              "      <th>qtd_transacoes_12m</th>\n",
              "    </tr>\n",
              "  </thead>\n",
              "  <tbody>\n",
              "    <tr>\n",
              "      <th>0</th>\n",
              "      <td>768805383</td>\n",
              "      <td>0</td>\n",
              "      <td>45</td>\n",
              "      <td>M</td>\n",
              "      <td>3</td>\n",
              "      <td>ensino medio</td>\n",
              "      <td>casado</td>\n",
              "      <td>$60K - $80K</td>\n",
              "      <td>blue</td>\n",
              "      <td>39</td>\n",
              "      <td>5</td>\n",
              "      <td>3</td>\n",
              "      <td>1</td>\n",
              "      <td>12.691,51</td>\n",
              "      <td>1.144,90</td>\n",
              "      <td>42</td>\n",
              "    </tr>\n",
              "    <tr>\n",
              "      <th>1</th>\n",
              "      <td>818770008</td>\n",
              "      <td>0</td>\n",
              "      <td>49</td>\n",
              "      <td>F</td>\n",
              "      <td>5</td>\n",
              "      <td>mestrado</td>\n",
              "      <td>solteiro</td>\n",
              "      <td>menos que $40K</td>\n",
              "      <td>blue</td>\n",
              "      <td>44</td>\n",
              "      <td>6</td>\n",
              "      <td>2</td>\n",
              "      <td>1</td>\n",
              "      <td>8.256,96</td>\n",
              "      <td>1.291,45</td>\n",
              "      <td>33</td>\n",
              "    </tr>\n",
              "    <tr>\n",
              "      <th>2</th>\n",
              "      <td>713982108</td>\n",
              "      <td>0</td>\n",
              "      <td>51</td>\n",
              "      <td>M</td>\n",
              "      <td>3</td>\n",
              "      <td>mestrado</td>\n",
              "      <td>casado</td>\n",
              "      <td>$80K - $120K</td>\n",
              "      <td>blue</td>\n",
              "      <td>36</td>\n",
              "      <td>4</td>\n",
              "      <td>0</td>\n",
              "      <td>1</td>\n",
              "      <td>3.418,56</td>\n",
              "      <td>1.887,72</td>\n",
              "      <td>20</td>\n",
              "    </tr>\n",
              "    <tr>\n",
              "      <th>3</th>\n",
              "      <td>769911858</td>\n",
              "      <td>0</td>\n",
              "      <td>40</td>\n",
              "      <td>F</td>\n",
              "      <td>4</td>\n",
              "      <td>ensino medio</td>\n",
              "      <td>NaN</td>\n",
              "      <td>menos que $40K</td>\n",
              "      <td>blue</td>\n",
              "      <td>34</td>\n",
              "      <td>3</td>\n",
              "      <td>1</td>\n",
              "      <td>4</td>\n",
              "      <td>3.313,03</td>\n",
              "      <td>1.171,56</td>\n",
              "      <td>20</td>\n",
              "    </tr>\n",
              "    <tr>\n",
              "      <th>4</th>\n",
              "      <td>709106358</td>\n",
              "      <td>0</td>\n",
              "      <td>40</td>\n",
              "      <td>M</td>\n",
              "      <td>3</td>\n",
              "      <td>sem educacao formal</td>\n",
              "      <td>casado</td>\n",
              "      <td>$60K - $80K</td>\n",
              "      <td>blue</td>\n",
              "      <td>21</td>\n",
              "      <td>5</td>\n",
              "      <td>0</td>\n",
              "      <td>1</td>\n",
              "      <td>4.716,22</td>\n",
              "      <td>816,08</td>\n",
              "      <td>28</td>\n",
              "    </tr>\n",
              "  </tbody>\n",
              "</table>\n",
              "</div>"
            ],
            "text/plain": [
              "          id  default  ...  valor_transacoes_12m qtd_transacoes_12m\n",
              "0  768805383        0  ...              1.144,90                 42\n",
              "1  818770008        0  ...              1.291,45                 33\n",
              "2  713982108        0  ...              1.887,72                 20\n",
              "3  769911858        0  ...              1.171,56                 20\n",
              "4  709106358        0  ...                816,08                 28\n",
              "\n",
              "[5 rows x 16 columns]"
            ]
          },
          "metadata": {},
          "execution_count": 2
        }
      ]
    },
    {
      "cell_type": "markdown",
      "metadata": {
        "id": "v9x_XSV3Fv-i"
      },
      "source": [
        "# **3. Exploração de dados:**"
      ]
    },
    {
      "cell_type": "markdown",
      "metadata": {
        "id": "Hlmw2SdPNzig"
      },
      "source": [
        "## *3.1 Massa bruta de dados*"
      ]
    },
    {
      "cell_type": "markdown",
      "metadata": {
        "id": "DJonyp5-ZE_N"
      },
      "source": [
        "**Métricas gerais da massa de dados para análise.**"
      ]
    },
    {
      "cell_type": "code",
      "metadata": {
        "colab": {
          "base_uri": "https://localhost:8080/"
        },
        "id": "FGbCEeSlF05H",
        "outputId": "f5006218-ad2d-4a01-c35a-532e498a8eab"
      },
      "source": [
        "linhas, colunas = df.shape\n",
        "print(f'A matriz de dados tem {linhas} linhas e {colunas} colunas.')"
      ],
      "execution_count": 3,
      "outputs": [
        {
          "output_type": "stream",
          "name": "stdout",
          "text": [
            "A matriz de dados tem 10127 linhas e 16 colunas.\n"
          ]
        }
      ]
    },
    {
      "cell_type": "code",
      "metadata": {
        "id": "1X7Iar_wKjmO"
      },
      "source": [
        "qtd_total, _ = df.shape\n",
        "qtd_adimplentes, _ = df[df['default'] == 0].shape\n",
        "qtd_inadimplentes, _ = df[df['default'] == 1].shape\n",
        "\n",
        "print(f\"A proporcão clientes adimplentes é de {round(100 * qtd_adimplentes / qtd_total, 2)}%\")\n",
        "print(f\"A proporcão clientes inadimplentes é de {round(100 * qtd_inadimplentes / qtd_total, 2)}%\")"
      ],
      "execution_count": null,
      "outputs": []
    },
    {
      "cell_type": "code",
      "metadata": {
        "colab": {
          "base_uri": "https://localhost:8080/",
          "height": 266
        },
        "id": "PkFVDO-POMUw",
        "outputId": "8b0cf738-d098-4cc9-fb8c-cf7be741bbd1"
      },
      "source": [
        "df.select_dtypes('object').describe().transpose() # limite_credito e valor_transacoes_12m indevidamente classificados como string"
      ],
      "execution_count": 5,
      "outputs": [
        {
          "output_type": "execute_result",
          "data": {
            "text/html": [
              "<div>\n",
              "<style scoped>\n",
              "    .dataframe tbody tr th:only-of-type {\n",
              "        vertical-align: middle;\n",
              "    }\n",
              "\n",
              "    .dataframe tbody tr th {\n",
              "        vertical-align: top;\n",
              "    }\n",
              "\n",
              "    .dataframe thead th {\n",
              "        text-align: right;\n",
              "    }\n",
              "</style>\n",
              "<table border=\"1\" class=\"dataframe\">\n",
              "  <thead>\n",
              "    <tr style=\"text-align: right;\">\n",
              "      <th></th>\n",
              "      <th>count</th>\n",
              "      <th>unique</th>\n",
              "      <th>top</th>\n",
              "      <th>freq</th>\n",
              "    </tr>\n",
              "  </thead>\n",
              "  <tbody>\n",
              "    <tr>\n",
              "      <th>sexo</th>\n",
              "      <td>10127</td>\n",
              "      <td>2</td>\n",
              "      <td>F</td>\n",
              "      <td>5358</td>\n",
              "    </tr>\n",
              "    <tr>\n",
              "      <th>escolaridade</th>\n",
              "      <td>8608</td>\n",
              "      <td>5</td>\n",
              "      <td>mestrado</td>\n",
              "      <td>3128</td>\n",
              "    </tr>\n",
              "    <tr>\n",
              "      <th>estado_civil</th>\n",
              "      <td>9378</td>\n",
              "      <td>3</td>\n",
              "      <td>casado</td>\n",
              "      <td>4687</td>\n",
              "    </tr>\n",
              "    <tr>\n",
              "      <th>salario_anual</th>\n",
              "      <td>9015</td>\n",
              "      <td>5</td>\n",
              "      <td>menos que $40K</td>\n",
              "      <td>3561</td>\n",
              "    </tr>\n",
              "    <tr>\n",
              "      <th>tipo_cartao</th>\n",
              "      <td>10127</td>\n",
              "      <td>4</td>\n",
              "      <td>blue</td>\n",
              "      <td>9436</td>\n",
              "    </tr>\n",
              "    <tr>\n",
              "      <th>limite_credito</th>\n",
              "      <td>10127</td>\n",
              "      <td>9272</td>\n",
              "      <td>1.438,21</td>\n",
              "      <td>11</td>\n",
              "    </tr>\n",
              "    <tr>\n",
              "      <th>valor_transacoes_12m</th>\n",
              "      <td>10127</td>\n",
              "      <td>10035</td>\n",
              "      <td>1.388,72</td>\n",
              "      <td>3</td>\n",
              "    </tr>\n",
              "  </tbody>\n",
              "</table>\n",
              "</div>"
            ],
            "text/plain": [
              "                      count unique             top  freq\n",
              "sexo                  10127      2               F  5358\n",
              "escolaridade           8608      5        mestrado  3128\n",
              "estado_civil           9378      3          casado  4687\n",
              "salario_anual          9015      5  menos que $40K  3561\n",
              "tipo_cartao           10127      4            blue  9436\n",
              "limite_credito        10127   9272        1.438,21    11\n",
              "valor_transacoes_12m  10127  10035        1.388,72     3"
            ]
          },
          "metadata": {},
          "execution_count": 5
        }
      ]
    },
    {
      "cell_type": "code",
      "metadata": {
        "colab": {
          "base_uri": "https://localhost:8080/",
          "height": 297
        },
        "id": "crfDMgncPH15",
        "outputId": "649ff668-a75a-44ba-adc2-2c35f94e6a22"
      },
      "source": [
        "df.drop('id', axis=1).select_dtypes('number').describe().transpose() # métricas dos valores númericos (faltando os dois campos citados anteriormente)"
      ],
      "execution_count": 6,
      "outputs": [
        {
          "output_type": "execute_result",
          "data": {
            "text/html": [
              "<div>\n",
              "<style scoped>\n",
              "    .dataframe tbody tr th:only-of-type {\n",
              "        vertical-align: middle;\n",
              "    }\n",
              "\n",
              "    .dataframe tbody tr th {\n",
              "        vertical-align: top;\n",
              "    }\n",
              "\n",
              "    .dataframe thead th {\n",
              "        text-align: right;\n",
              "    }\n",
              "</style>\n",
              "<table border=\"1\" class=\"dataframe\">\n",
              "  <thead>\n",
              "    <tr style=\"text-align: right;\">\n",
              "      <th></th>\n",
              "      <th>count</th>\n",
              "      <th>mean</th>\n",
              "      <th>std</th>\n",
              "      <th>min</th>\n",
              "      <th>25%</th>\n",
              "      <th>50%</th>\n",
              "      <th>75%</th>\n",
              "      <th>max</th>\n",
              "    </tr>\n",
              "  </thead>\n",
              "  <tbody>\n",
              "    <tr>\n",
              "      <th>default</th>\n",
              "      <td>10127.0</td>\n",
              "      <td>0.160660</td>\n",
              "      <td>0.367235</td>\n",
              "      <td>0.0</td>\n",
              "      <td>0.0</td>\n",
              "      <td>0.0</td>\n",
              "      <td>0.0</td>\n",
              "      <td>1.0</td>\n",
              "    </tr>\n",
              "    <tr>\n",
              "      <th>idade</th>\n",
              "      <td>10127.0</td>\n",
              "      <td>46.325960</td>\n",
              "      <td>8.016814</td>\n",
              "      <td>26.0</td>\n",
              "      <td>41.0</td>\n",
              "      <td>46.0</td>\n",
              "      <td>52.0</td>\n",
              "      <td>73.0</td>\n",
              "    </tr>\n",
              "    <tr>\n",
              "      <th>dependentes</th>\n",
              "      <td>10127.0</td>\n",
              "      <td>2.346203</td>\n",
              "      <td>1.298908</td>\n",
              "      <td>0.0</td>\n",
              "      <td>1.0</td>\n",
              "      <td>2.0</td>\n",
              "      <td>3.0</td>\n",
              "      <td>5.0</td>\n",
              "    </tr>\n",
              "    <tr>\n",
              "      <th>meses_de_relacionamento</th>\n",
              "      <td>10127.0</td>\n",
              "      <td>35.928409</td>\n",
              "      <td>7.986416</td>\n",
              "      <td>13.0</td>\n",
              "      <td>31.0</td>\n",
              "      <td>36.0</td>\n",
              "      <td>40.0</td>\n",
              "      <td>56.0</td>\n",
              "    </tr>\n",
              "    <tr>\n",
              "      <th>qtd_produtos</th>\n",
              "      <td>10127.0</td>\n",
              "      <td>3.812580</td>\n",
              "      <td>1.554408</td>\n",
              "      <td>1.0</td>\n",
              "      <td>3.0</td>\n",
              "      <td>4.0</td>\n",
              "      <td>5.0</td>\n",
              "      <td>6.0</td>\n",
              "    </tr>\n",
              "    <tr>\n",
              "      <th>iteracoes_12m</th>\n",
              "      <td>10127.0</td>\n",
              "      <td>2.455317</td>\n",
              "      <td>1.106225</td>\n",
              "      <td>0.0</td>\n",
              "      <td>2.0</td>\n",
              "      <td>2.0</td>\n",
              "      <td>3.0</td>\n",
              "      <td>6.0</td>\n",
              "    </tr>\n",
              "    <tr>\n",
              "      <th>meses_inativo_12m</th>\n",
              "      <td>10127.0</td>\n",
              "      <td>2.341167</td>\n",
              "      <td>1.010622</td>\n",
              "      <td>0.0</td>\n",
              "      <td>2.0</td>\n",
              "      <td>2.0</td>\n",
              "      <td>3.0</td>\n",
              "      <td>6.0</td>\n",
              "    </tr>\n",
              "    <tr>\n",
              "      <th>qtd_transacoes_12m</th>\n",
              "      <td>10127.0</td>\n",
              "      <td>64.858695</td>\n",
              "      <td>23.472570</td>\n",
              "      <td>10.0</td>\n",
              "      <td>45.0</td>\n",
              "      <td>67.0</td>\n",
              "      <td>81.0</td>\n",
              "      <td>139.0</td>\n",
              "    </tr>\n",
              "  </tbody>\n",
              "</table>\n",
              "</div>"
            ],
            "text/plain": [
              "                           count       mean        std  ...   50%   75%    max\n",
              "default                  10127.0   0.160660   0.367235  ...   0.0   0.0    1.0\n",
              "idade                    10127.0  46.325960   8.016814  ...  46.0  52.0   73.0\n",
              "dependentes              10127.0   2.346203   1.298908  ...   2.0   3.0    5.0\n",
              "meses_de_relacionamento  10127.0  35.928409   7.986416  ...  36.0  40.0   56.0\n",
              "qtd_produtos             10127.0   3.812580   1.554408  ...   4.0   5.0    6.0\n",
              "iteracoes_12m            10127.0   2.455317   1.106225  ...   2.0   3.0    6.0\n",
              "meses_inativo_12m        10127.0   2.341167   1.010622  ...   2.0   3.0    6.0\n",
              "qtd_transacoes_12m       10127.0  64.858695  23.472570  ...  67.0  81.0  139.0\n",
              "\n",
              "[8 rows x 8 columns]"
            ]
          },
          "metadata": {},
          "execution_count": 6
        }
      ]
    },
    {
      "cell_type": "markdown",
      "metadata": {
        "id": "gf1KeOQIQqcW"
      },
      "source": [
        "## *3.2 Tratando dados faltantes*"
      ]
    },
    {
      "cell_type": "markdown",
      "metadata": {
        "id": "PTZY6KJ7Y4vJ"
      },
      "source": [
        "**Verificando o montante de dados faltantes que possam comprometer a leitura adequeda da amostra de dados.**"
      ]
    },
    {
      "cell_type": "code",
      "metadata": {
        "colab": {
          "base_uri": "https://localhost:8080/"
        },
        "id": "AFXEPZXZQeQx",
        "outputId": "794017b8-1da4-49a3-8056-32539b02f1bf"
      },
      "source": [
        "df.isna().any() # identificação das colunas com dados faltantes"
      ],
      "execution_count": 7,
      "outputs": [
        {
          "output_type": "execute_result",
          "data": {
            "text/plain": [
              "id                         False\n",
              "default                    False\n",
              "idade                      False\n",
              "sexo                       False\n",
              "dependentes                False\n",
              "escolaridade                True\n",
              "estado_civil                True\n",
              "salario_anual               True\n",
              "tipo_cartao                False\n",
              "meses_de_relacionamento    False\n",
              "qtd_produtos               False\n",
              "iteracoes_12m              False\n",
              "meses_inativo_12m          False\n",
              "limite_credito             False\n",
              "valor_transacoes_12m       False\n",
              "qtd_transacoes_12m         False\n",
              "dtype: bool"
            ]
          },
          "metadata": {},
          "execution_count": 7
        }
      ]
    },
    {
      "cell_type": "code",
      "metadata": {
        "colab": {
          "base_uri": "https://localhost:8080/"
        },
        "id": "xuvH_b3wR9r4",
        "outputId": "9919f100-ac04-4204-828f-db84f02205e6"
      },
      "source": [
        "def stats_dados_faltantes(df: pd.DataFrame) -> None:\n",
        "\n",
        "  stats_dados_faltantes = []\n",
        "  for col in df.columns:\n",
        "    if df[col].isna().any():\n",
        "      qtd, _ = df[df[col].isna()].shape\n",
        "      total, _ = df.shape\n",
        "      dict_dados_faltantes = {col: {'quantidade': qtd, \"porcentagem\": round(100 * qtd/total, 2)}}\n",
        "      stats_dados_faltantes.append(dict_dados_faltantes)\n",
        "\n",
        "  for stat in stats_dados_faltantes:\n",
        "    print(stat)\n",
        "  \n",
        "print('\\033[1m' + 'Dados faltantes base completa:' + '\\033[0m')\n",
        "stats_dados_faltantes(df=df) # mensuração da quantidade de dados faltantes"
      ],
      "execution_count": 8,
      "outputs": [
        {
          "output_type": "stream",
          "name": "stdout",
          "text": [
            "\u001b[1mDados faltantes base completa:\u001b[0m\n",
            "{'escolaridade': {'quantidade': 1519, 'porcentagem': 15.0}}\n",
            "{'estado_civil': {'quantidade': 749, 'porcentagem': 7.4}}\n",
            "{'salario_anual': {'quantidade': 1112, 'porcentagem': 10.98}}\n"
          ]
        }
      ]
    },
    {
      "cell_type": "code",
      "metadata": {
        "colab": {
          "base_uri": "https://localhost:8080/"
        },
        "id": "3JsU-hw-SeI_",
        "outputId": "f05426ec-76b5-4de1-add7-c3d39aab6ade"
      },
      "source": [
        "print('\\033[1m' + 'Dados faltantes clientes adiplentes:' + '\\033[0m')\n",
        "stats_dados_faltantes(df=df[df['default'] == 0])\n",
        "\n",
        "print('\\n\\033[1m' + 'Dados faltantes clientes inadiplentes:' + '\\033[0m')\n",
        "stats_dados_faltantes(df=df[df['default'] == 1])"
      ],
      "execution_count": 9,
      "outputs": [
        {
          "output_type": "stream",
          "name": "stdout",
          "text": [
            "\u001b[1mDados faltantes clientes adiplentes:\u001b[0m\n",
            "{'escolaridade': {'quantidade': 1263, 'porcentagem': 14.86}}\n",
            "{'estado_civil': {'quantidade': 620, 'porcentagem': 7.29}}\n",
            "{'salario_anual': {'quantidade': 925, 'porcentagem': 10.88}}\n",
            "\n",
            "\u001b[1mDados faltantes clientes inadiplentes:\u001b[0m\n",
            "{'escolaridade': {'quantidade': 256, 'porcentagem': 15.73}}\n",
            "{'estado_civil': {'quantidade': 129, 'porcentagem': 7.93}}\n",
            "{'salario_anual': {'quantidade': 187, 'porcentagem': 11.49}}\n"
          ]
        }
      ]
    },
    {
      "cell_type": "markdown",
      "metadata": {
        "id": "Byn8uFvwUp87"
      },
      "source": [
        "# **4. Limpenza de dados**"
      ]
    },
    {
      "cell_type": "markdown",
      "metadata": {
        "id": "Ba8TMllhYuNK"
      },
      "source": [
        "**Conversão de string indevida em float e limpeza de dados vazios**"
      ]
    },
    {
      "cell_type": "markdown",
      "metadata": {
        "id": "jkfZqq2zW-F0"
      },
      "source": [
        "## *4.1 Correção dos valores*"
      ]
    },
    {
      "cell_type": "markdown",
      "metadata": {
        "id": "3eRVt6J7YlM_"
      },
      "source": [
        "**Uma vez identificadas as colunas que devem ser tratadas como números(float) fazemos a conversão dos dados.**"
      ]
    },
    {
      "cell_type": "code",
      "metadata": {
        "colab": {
          "base_uri": "https://localhost:8080/"
        },
        "id": "BVsz6--ZVLto",
        "outputId": "9913c5a1-4b9b-4ca9-bb50-00fa52eee24e"
      },
      "source": [
        "df[['limite_credito', 'valor_transacoes_12m']].dtypes # antes da conversão para float\n"
      ],
      "execution_count": 10,
      "outputs": [
        {
          "output_type": "execute_result",
          "data": {
            "text/plain": [
              "limite_credito          object\n",
              "valor_transacoes_12m    object\n",
              "dtype: object"
            ]
          },
          "metadata": {},
          "execution_count": 10
        }
      ]
    },
    {
      "cell_type": "code",
      "metadata": {
        "colab": {
          "base_uri": "https://localhost:8080/"
        },
        "id": "gFqCbUp4VnQE",
        "outputId": "577ac890-b957-4df3-8ee6-728b84ad9ac4"
      },
      "source": [
        "fn = lambda valor: float(valor.replace(\".\", \"\").replace(\",\", \".\")) # teste de função para ajuste dos valores em float\n",
        "\n",
        "valores_originais = ['12.691,51', '8.256,96', '3.418,56', '3.313,03', '4.716,22']\n",
        "valores_limpos = list(map(fn, valores_originais))\n",
        "\n",
        "print(valores_originais)\n",
        "print(valores_limpos)"
      ],
      "execution_count": 11,
      "outputs": [
        {
          "output_type": "stream",
          "name": "stdout",
          "text": [
            "['12.691,51', '8.256,96', '3.418,56', '3.313,03', '4.716,22']\n",
            "[12691.51, 8256.96, 3418.56, 3313.03, 4716.22]\n"
          ]
        }
      ]
    },
    {
      "cell_type": "code",
      "metadata": {
        "id": "QAubKXFfV3Pr"
      },
      "source": [
        "# aplicação do teste na base real\n",
        "df['valor_transacoes_12m'] = df['valor_transacoes_12m'].apply(lambda valor: float(valor.replace(\".\", \"\").replace(\",\", \".\")))\n",
        "df['limite_credito'] = df['limite_credito'].apply(lambda valor: float(valor.replace(\".\", \"\").replace(\",\", \".\")))"
      ],
      "execution_count": 12,
      "outputs": []
    },
    {
      "cell_type": "code",
      "metadata": {
        "colab": {
          "base_uri": "https://localhost:8080/",
          "height": 359
        },
        "id": "LT3AUkCSWA7q",
        "outputId": "762f6b45-fdae-4d42-fba5-deb6d99d0aaa"
      },
      "source": [
        "df.drop('id', axis=1).select_dtypes('number').describe().transpose() # métricas corrigidas após ajuste dos floats"
      ],
      "execution_count": 13,
      "outputs": [
        {
          "output_type": "execute_result",
          "data": {
            "text/html": [
              "<div>\n",
              "<style scoped>\n",
              "    .dataframe tbody tr th:only-of-type {\n",
              "        vertical-align: middle;\n",
              "    }\n",
              "\n",
              "    .dataframe tbody tr th {\n",
              "        vertical-align: top;\n",
              "    }\n",
              "\n",
              "    .dataframe thead th {\n",
              "        text-align: right;\n",
              "    }\n",
              "</style>\n",
              "<table border=\"1\" class=\"dataframe\">\n",
              "  <thead>\n",
              "    <tr style=\"text-align: right;\">\n",
              "      <th></th>\n",
              "      <th>count</th>\n",
              "      <th>mean</th>\n",
              "      <th>std</th>\n",
              "      <th>min</th>\n",
              "      <th>25%</th>\n",
              "      <th>50%</th>\n",
              "      <th>75%</th>\n",
              "      <th>max</th>\n",
              "    </tr>\n",
              "  </thead>\n",
              "  <tbody>\n",
              "    <tr>\n",
              "      <th>default</th>\n",
              "      <td>10127.0</td>\n",
              "      <td>0.160660</td>\n",
              "      <td>0.367235</td>\n",
              "      <td>0.00</td>\n",
              "      <td>0.000</td>\n",
              "      <td>0.00</td>\n",
              "      <td>0.000</td>\n",
              "      <td>1.00</td>\n",
              "    </tr>\n",
              "    <tr>\n",
              "      <th>idade</th>\n",
              "      <td>10127.0</td>\n",
              "      <td>46.325960</td>\n",
              "      <td>8.016814</td>\n",
              "      <td>26.00</td>\n",
              "      <td>41.000</td>\n",
              "      <td>46.00</td>\n",
              "      <td>52.000</td>\n",
              "      <td>73.00</td>\n",
              "    </tr>\n",
              "    <tr>\n",
              "      <th>dependentes</th>\n",
              "      <td>10127.0</td>\n",
              "      <td>2.346203</td>\n",
              "      <td>1.298908</td>\n",
              "      <td>0.00</td>\n",
              "      <td>1.000</td>\n",
              "      <td>2.00</td>\n",
              "      <td>3.000</td>\n",
              "      <td>5.00</td>\n",
              "    </tr>\n",
              "    <tr>\n",
              "      <th>meses_de_relacionamento</th>\n",
              "      <td>10127.0</td>\n",
              "      <td>35.928409</td>\n",
              "      <td>7.986416</td>\n",
              "      <td>13.00</td>\n",
              "      <td>31.000</td>\n",
              "      <td>36.00</td>\n",
              "      <td>40.000</td>\n",
              "      <td>56.00</td>\n",
              "    </tr>\n",
              "    <tr>\n",
              "      <th>qtd_produtos</th>\n",
              "      <td>10127.0</td>\n",
              "      <td>3.812580</td>\n",
              "      <td>1.554408</td>\n",
              "      <td>1.00</td>\n",
              "      <td>3.000</td>\n",
              "      <td>4.00</td>\n",
              "      <td>5.000</td>\n",
              "      <td>6.00</td>\n",
              "    </tr>\n",
              "    <tr>\n",
              "      <th>iteracoes_12m</th>\n",
              "      <td>10127.0</td>\n",
              "      <td>2.455317</td>\n",
              "      <td>1.106225</td>\n",
              "      <td>0.00</td>\n",
              "      <td>2.000</td>\n",
              "      <td>2.00</td>\n",
              "      <td>3.000</td>\n",
              "      <td>6.00</td>\n",
              "    </tr>\n",
              "    <tr>\n",
              "      <th>meses_inativo_12m</th>\n",
              "      <td>10127.0</td>\n",
              "      <td>2.341167</td>\n",
              "      <td>1.010622</td>\n",
              "      <td>0.00</td>\n",
              "      <td>2.000</td>\n",
              "      <td>2.00</td>\n",
              "      <td>3.000</td>\n",
              "      <td>6.00</td>\n",
              "    </tr>\n",
              "    <tr>\n",
              "      <th>limite_credito</th>\n",
              "      <td>10127.0</td>\n",
              "      <td>8632.440165</td>\n",
              "      <td>9088.788041</td>\n",
              "      <td>1438.00</td>\n",
              "      <td>2555.355</td>\n",
              "      <td>4549.42</td>\n",
              "      <td>11068.175</td>\n",
              "      <td>34516.99</td>\n",
              "    </tr>\n",
              "    <tr>\n",
              "      <th>valor_transacoes_12m</th>\n",
              "      <td>10127.0</td>\n",
              "      <td>4404.583047</td>\n",
              "      <td>3397.128078</td>\n",
              "      <td>510.16</td>\n",
              "      <td>2155.825</td>\n",
              "      <td>3899.59</td>\n",
              "      <td>4741.310</td>\n",
              "      <td>18484.93</td>\n",
              "    </tr>\n",
              "    <tr>\n",
              "      <th>qtd_transacoes_12m</th>\n",
              "      <td>10127.0</td>\n",
              "      <td>64.858695</td>\n",
              "      <td>23.472570</td>\n",
              "      <td>10.00</td>\n",
              "      <td>45.000</td>\n",
              "      <td>67.00</td>\n",
              "      <td>81.000</td>\n",
              "      <td>139.00</td>\n",
              "    </tr>\n",
              "  </tbody>\n",
              "</table>\n",
              "</div>"
            ],
            "text/plain": [
              "                           count         mean  ...        75%       max\n",
              "default                  10127.0     0.160660  ...      0.000      1.00\n",
              "idade                    10127.0    46.325960  ...     52.000     73.00\n",
              "dependentes              10127.0     2.346203  ...      3.000      5.00\n",
              "meses_de_relacionamento  10127.0    35.928409  ...     40.000     56.00\n",
              "qtd_produtos             10127.0     3.812580  ...      5.000      6.00\n",
              "iteracoes_12m            10127.0     2.455317  ...      3.000      6.00\n",
              "meses_inativo_12m        10127.0     2.341167  ...      3.000      6.00\n",
              "limite_credito           10127.0  8632.440165  ...  11068.175  34516.99\n",
              "valor_transacoes_12m     10127.0  4404.583047  ...   4741.310  18484.93\n",
              "qtd_transacoes_12m       10127.0    64.858695  ...     81.000    139.00\n",
              "\n",
              "[10 rows x 8 columns]"
            ]
          },
          "metadata": {},
          "execution_count": 13
        }
      ]
    },
    {
      "cell_type": "code",
      "metadata": {
        "colab": {
          "base_uri": "https://localhost:8080/",
          "height": 204
        },
        "id": "c8AmDunCWfjP",
        "outputId": "4264d239-7b8c-4303-f363-6c9eabd310cd"
      },
      "source": [
        "df.select_dtypes('object').describe().transpose()# métricas corrigidas após ajuste dos floats"
      ],
      "execution_count": 14,
      "outputs": [
        {
          "output_type": "execute_result",
          "data": {
            "text/html": [
              "<div>\n",
              "<style scoped>\n",
              "    .dataframe tbody tr th:only-of-type {\n",
              "        vertical-align: middle;\n",
              "    }\n",
              "\n",
              "    .dataframe tbody tr th {\n",
              "        vertical-align: top;\n",
              "    }\n",
              "\n",
              "    .dataframe thead th {\n",
              "        text-align: right;\n",
              "    }\n",
              "</style>\n",
              "<table border=\"1\" class=\"dataframe\">\n",
              "  <thead>\n",
              "    <tr style=\"text-align: right;\">\n",
              "      <th></th>\n",
              "      <th>count</th>\n",
              "      <th>unique</th>\n",
              "      <th>top</th>\n",
              "      <th>freq</th>\n",
              "    </tr>\n",
              "  </thead>\n",
              "  <tbody>\n",
              "    <tr>\n",
              "      <th>sexo</th>\n",
              "      <td>10127</td>\n",
              "      <td>2</td>\n",
              "      <td>F</td>\n",
              "      <td>5358</td>\n",
              "    </tr>\n",
              "    <tr>\n",
              "      <th>escolaridade</th>\n",
              "      <td>8608</td>\n",
              "      <td>5</td>\n",
              "      <td>mestrado</td>\n",
              "      <td>3128</td>\n",
              "    </tr>\n",
              "    <tr>\n",
              "      <th>estado_civil</th>\n",
              "      <td>9378</td>\n",
              "      <td>3</td>\n",
              "      <td>casado</td>\n",
              "      <td>4687</td>\n",
              "    </tr>\n",
              "    <tr>\n",
              "      <th>salario_anual</th>\n",
              "      <td>9015</td>\n",
              "      <td>5</td>\n",
              "      <td>menos que $40K</td>\n",
              "      <td>3561</td>\n",
              "    </tr>\n",
              "    <tr>\n",
              "      <th>tipo_cartao</th>\n",
              "      <td>10127</td>\n",
              "      <td>4</td>\n",
              "      <td>blue</td>\n",
              "      <td>9436</td>\n",
              "    </tr>\n",
              "  </tbody>\n",
              "</table>\n",
              "</div>"
            ],
            "text/plain": [
              "               count unique             top  freq\n",
              "sexo           10127      2               F  5358\n",
              "escolaridade    8608      5        mestrado  3128\n",
              "estado_civil    9378      3          casado  4687\n",
              "salario_anual   9015      5  menos que $40K  3561\n",
              "tipo_cartao    10127      4            blue  9436"
            ]
          },
          "metadata": {},
          "execution_count": 14
        }
      ]
    },
    {
      "cell_type": "markdown",
      "metadata": {
        "id": "9sq52OUVXYgS"
      },
      "source": [
        "## *4.2 Limpeza de dados*"
      ]
    },
    {
      "cell_type": "markdown",
      "metadata": {
        "id": "XvObNafXYZ6S"
      },
      "source": [
        "**Remoção das linhas de dados com valores vazios nas colunas.**"
      ]
    },
    {
      "cell_type": "code",
      "metadata": {
        "colab": {
          "base_uri": "https://localhost:8080/"
        },
        "id": "Q4C79-nLXmO6",
        "outputId": "879ea055-39cf-4f5c-8264-a989c68ca408"
      },
      "source": [
        "df.dropna(inplace=True)\n",
        "\n",
        "qtd_total_novo, _ = df.shape\n",
        "qtd_adimplentes_novo, _ = df[df['default'] == 0].shape\n",
        "qtd_inadimplentes_novo, _ = df[df['default'] == 1].shape\n",
        "\n",
        "print(f\"A proporcão anterior de adimplentes ativos é de {round(100 * qtd_adimplentes / qtd_total, 2)}%\")\n",
        "print(f\"A nova proporcão de clientes adimplentes é de {round(100 * qtd_adimplentes_novo / qtd_total_novo, 2)}%\")\n",
        "print(\"\")\n",
        "print(f\"A proporcão anterior de clientes inadimplentes é de {round(100 * qtd_inadimplentes / qtd_total, 2)}%\")\n",
        "print(f\"A nova proporcão de clientes inadimplentes é de {round(100 * qtd_inadimplentes_novo / qtd_total_novo, 2)}%\")"
      ],
      "execution_count": 15,
      "outputs": [
        {
          "output_type": "stream",
          "name": "stdout",
          "text": [
            "A proporcão anterior de adimplentes ativos é de 83.93%\n",
            "A nova proporcão de clientes adimplentes é de 84.28%\n",
            "\n",
            "A proporcão anterior de clientes inadimplentes é de 16.07%\n",
            "A nova proporcão de clientes inadimplentes é de 15.72%\n"
          ]
        }
      ]
    },
    {
      "cell_type": "markdown",
      "metadata": {
        "id": "EG9xI4aAa0l-"
      },
      "source": [
        "# **5. Análise de dados**"
      ]
    },
    {
      "cell_type": "markdown",
      "metadata": {
        "id": "9TnSg8tAbYLp"
      },
      "source": [
        "## 5.1 Análise por categorias"
      ]
    },
    {
      "cell_type": "markdown",
      "metadata": {
        "id": "4OOZ55zM8iqB"
      },
      "source": [
        "A primeira análise baseada nas categorias para descobrir possível relação com os eventos alvo do default.\n",
        "Classes analisadas: *escolaridade, salário anual e estado civil.*"
      ]
    },
    {
      "cell_type": "code",
      "metadata": {
        "colab": {
          "base_uri": "https://localhost:8080/",
          "height": 204
        },
        "id": "3wxQ8dvDbvD2",
        "outputId": "365f7945-29aa-480a-9f30-8a40f0d46f6d"
      },
      "source": [
        "df.select_dtypes('object').head(n=5)"
      ],
      "execution_count": 16,
      "outputs": [
        {
          "output_type": "execute_result",
          "data": {
            "text/html": [
              "<div>\n",
              "<style scoped>\n",
              "    .dataframe tbody tr th:only-of-type {\n",
              "        vertical-align: middle;\n",
              "    }\n",
              "\n",
              "    .dataframe tbody tr th {\n",
              "        vertical-align: top;\n",
              "    }\n",
              "\n",
              "    .dataframe thead th {\n",
              "        text-align: right;\n",
              "    }\n",
              "</style>\n",
              "<table border=\"1\" class=\"dataframe\">\n",
              "  <thead>\n",
              "    <tr style=\"text-align: right;\">\n",
              "      <th></th>\n",
              "      <th>sexo</th>\n",
              "      <th>escolaridade</th>\n",
              "      <th>estado_civil</th>\n",
              "      <th>salario_anual</th>\n",
              "      <th>tipo_cartao</th>\n",
              "    </tr>\n",
              "  </thead>\n",
              "  <tbody>\n",
              "    <tr>\n",
              "      <th>0</th>\n",
              "      <td>M</td>\n",
              "      <td>ensino medio</td>\n",
              "      <td>casado</td>\n",
              "      <td>$60K - $80K</td>\n",
              "      <td>blue</td>\n",
              "    </tr>\n",
              "    <tr>\n",
              "      <th>1</th>\n",
              "      <td>F</td>\n",
              "      <td>mestrado</td>\n",
              "      <td>solteiro</td>\n",
              "      <td>menos que $40K</td>\n",
              "      <td>blue</td>\n",
              "    </tr>\n",
              "    <tr>\n",
              "      <th>2</th>\n",
              "      <td>M</td>\n",
              "      <td>mestrado</td>\n",
              "      <td>casado</td>\n",
              "      <td>$80K - $120K</td>\n",
              "      <td>blue</td>\n",
              "    </tr>\n",
              "    <tr>\n",
              "      <th>4</th>\n",
              "      <td>M</td>\n",
              "      <td>sem educacao formal</td>\n",
              "      <td>casado</td>\n",
              "      <td>$60K - $80K</td>\n",
              "      <td>blue</td>\n",
              "    </tr>\n",
              "    <tr>\n",
              "      <th>5</th>\n",
              "      <td>M</td>\n",
              "      <td>mestrado</td>\n",
              "      <td>casado</td>\n",
              "      <td>$40K - $60K</td>\n",
              "      <td>blue</td>\n",
              "    </tr>\n",
              "  </tbody>\n",
              "</table>\n",
              "</div>"
            ],
            "text/plain": [
              "  sexo         escolaridade estado_civil   salario_anual tipo_cartao\n",
              "0    M         ensino medio       casado     $60K - $80K        blue\n",
              "1    F             mestrado     solteiro  menos que $40K        blue\n",
              "2    M             mestrado       casado    $80K - $120K        blue\n",
              "4    M  sem educacao formal       casado     $60K - $80K        blue\n",
              "5    M             mestrado       casado     $40K - $60K        blue"
            ]
          },
          "metadata": {},
          "execution_count": 16
        }
      ]
    },
    {
      "cell_type": "code",
      "metadata": {
        "id": "Wh-Cue6YcR7A"
      },
      "source": [
        "sns.set_style(\"whitegrid\")\n",
        "\n",
        "df_adimplente = df[df['default'] == 0]\n",
        "df_inadimplente = df[df['default'] == 1]"
      ],
      "execution_count": 17,
      "outputs": []
    },
    {
      "cell_type": "code",
      "metadata": {
        "id": "lwcoHFEOudWP"
      },
      "source": [
        "def categoria_graficos (coluna: str, titulos: list): # função gera sequência de subplots por categoria\n",
        "\n",
        "  eixo = 0\n",
        "  max_y = 0\n",
        "  max = df.select_dtypes('object').describe()[coluna]['freq'] * 1.1\n",
        "\n",
        "  figura, eixos = plt.subplots(1,3, figsize=(20, 5), sharex=True)\n",
        "\n",
        "  for dataframe in [df, df_adimplente, df_inadimplente]:\n",
        "\n",
        "    df_to_plot = dataframe[coluna].value_counts().to_frame()\n",
        "    df_to_plot.rename(columns={coluna: 'frequencia_absoluta'}, inplace=True)\n",
        "    df_to_plot[coluna] = df_to_plot.index\n",
        "    df_to_plot.sort_values(by=[coluna], inplace=True)\n",
        "    df_to_plot.sort_values(by=[coluna])\n",
        "\n",
        "    f = sns.barplot(x=df_to_plot[coluna], y=df_to_plot['frequencia_absoluta'], ax=eixos[eixo])\n",
        "    f.set(title=titulos[eixo], xlabel=coluna.capitalize(), ylabel='Frequência Absoluta')\n",
        "    f.set_xticklabels(labels=f.get_xticklabels(), rotation=90)\n",
        "\n",
        "    _, max_y_f = f.get_ylim()\n",
        "    max_y = max_y_f if max_y_f > max_y else max_y\n",
        "    f.set(ylim=(0, max_y))\n",
        "\n",
        "    eixo += 1\n",
        "\n",
        "  return figura"
      ],
      "execution_count": 18,
      "outputs": []
    },
    {
      "cell_type": "code",
      "metadata": {
        "colab": {
          "base_uri": "https://localhost:8080/",
          "height": 989
        },
        "id": "VQjUtPd_bWPC",
        "outputId": "bcfc7daf-a5b5-4863-aebc-019e73c9a531"
      },
      "source": [
        "colunas = ['escolaridade', 'salario_anual', 'estado_civil']\n",
        "titulos = ['Total dos Clientes', 'Clientes Adimplentes', 'Clientes Inadimplentes']\n",
        "\n",
        "figura = plt\n",
        "\n",
        "for coluna in colunas:\n",
        "  figura.show(categoria_graficos(coluna, titulos))"
      ],
      "execution_count": 19,
      "outputs": [
        {
          "output_type": "display_data",
          "data": {
            "image/png": "[encoded data removed]",
            "text/plain": [
              "<Figure size 1440x360 with 3 Axes>"
            ]
          },
          "metadata": {}
        },
        {
          "output_type": "display_data",
          "data": {
            "image/png": "[encoded data removed]",
            "text/plain": [
              "<Figure size 1440x360 with 3 Axes>"
            ]
          },
          "metadata": {}
        },
        {
          "output_type": "display_data",
          "data": {
            "image/png": "[encoded data removed]",
            "text/plain": [
              "<Figure size 1440x360 with 3 Axes>"
            ]
          },
          "metadata": {}
        }
      ]
    },
    {
      "cell_type": "markdown",
      "metadata": {
        "id": "dQWnQ6os9KGs"
      },
      "source": [
        "## 5.2 Análise numérica"
      ]
    },
    {
      "cell_type": "markdown",
      "metadata": {
        "id": "qm3eez-l-FyY"
      },
      "source": [
        "Análise das variáveis númericas da amostra. Variáveis analisadas: *quantidade de transações nos últimos 12 meses e valor das transações dos últimos 12 meses.*"
      ]
    },
    {
      "cell_type": "code",
      "metadata": {
        "colab": {
          "base_uri": "https://localhost:8080/",
          "height": 224
        },
        "id": "nsa1teTb9k_g",
        "outputId": "7a6d0500-0aa5-48c0-8d58-1f7bc98c0846"
      },
      "source": [
        "df.drop(['id', 'default'], axis=1).select_dtypes('number').head(n=5)"
      ],
      "execution_count": 20,
      "outputs": [
        {
          "output_type": "execute_result",
          "data": {
            "text/html": [
              "<div>\n",
              "<style scoped>\n",
              "    .dataframe tbody tr th:only-of-type {\n",
              "        vertical-align: middle;\n",
              "    }\n",
              "\n",
              "    .dataframe tbody tr th {\n",
              "        vertical-align: top;\n",
              "    }\n",
              "\n",
              "    .dataframe thead th {\n",
              "        text-align: right;\n",
              "    }\n",
              "</style>\n",
              "<table border=\"1\" class=\"dataframe\">\n",
              "  <thead>\n",
              "    <tr style=\"text-align: right;\">\n",
              "      <th></th>\n",
              "      <th>idade</th>\n",
              "      <th>dependentes</th>\n",
              "      <th>meses_de_relacionamento</th>\n",
              "      <th>qtd_produtos</th>\n",
              "      <th>iteracoes_12m</th>\n",
              "      <th>meses_inativo_12m</th>\n",
              "      <th>limite_credito</th>\n",
              "      <th>valor_transacoes_12m</th>\n",
              "      <th>qtd_transacoes_12m</th>\n",
              "    </tr>\n",
              "  </thead>\n",
              "  <tbody>\n",
              "    <tr>\n",
              "      <th>0</th>\n",
              "      <td>45</td>\n",
              "      <td>3</td>\n",
              "      <td>39</td>\n",
              "      <td>5</td>\n",
              "      <td>3</td>\n",
              "      <td>1</td>\n",
              "      <td>12691.51</td>\n",
              "      <td>1144.90</td>\n",
              "      <td>42</td>\n",
              "    </tr>\n",
              "    <tr>\n",
              "      <th>1</th>\n",
              "      <td>49</td>\n",
              "      <td>5</td>\n",
              "      <td>44</td>\n",
              "      <td>6</td>\n",
              "      <td>2</td>\n",
              "      <td>1</td>\n",
              "      <td>8256.96</td>\n",
              "      <td>1291.45</td>\n",
              "      <td>33</td>\n",
              "    </tr>\n",
              "    <tr>\n",
              "      <th>2</th>\n",
              "      <td>51</td>\n",
              "      <td>3</td>\n",
              "      <td>36</td>\n",
              "      <td>4</td>\n",
              "      <td>0</td>\n",
              "      <td>1</td>\n",
              "      <td>3418.56</td>\n",
              "      <td>1887.72</td>\n",
              "      <td>20</td>\n",
              "    </tr>\n",
              "    <tr>\n",
              "      <th>4</th>\n",
              "      <td>40</td>\n",
              "      <td>3</td>\n",
              "      <td>21</td>\n",
              "      <td>5</td>\n",
              "      <td>0</td>\n",
              "      <td>1</td>\n",
              "      <td>4716.22</td>\n",
              "      <td>816.08</td>\n",
              "      <td>28</td>\n",
              "    </tr>\n",
              "    <tr>\n",
              "      <th>5</th>\n",
              "      <td>44</td>\n",
              "      <td>2</td>\n",
              "      <td>36</td>\n",
              "      <td>3</td>\n",
              "      <td>2</td>\n",
              "      <td>1</td>\n",
              "      <td>4010.69</td>\n",
              "      <td>1088.07</td>\n",
              "      <td>24</td>\n",
              "    </tr>\n",
              "  </tbody>\n",
              "</table>\n",
              "</div>"
            ],
            "text/plain": [
              "   idade  dependentes  ...  valor_transacoes_12m  qtd_transacoes_12m\n",
              "0     45            3  ...               1144.90                  42\n",
              "1     49            5  ...               1291.45                  33\n",
              "2     51            3  ...               1887.72                  20\n",
              "4     40            3  ...                816.08                  28\n",
              "5     44            2  ...               1088.07                  24\n",
              "\n",
              "[5 rows x 9 columns]"
            ]
          },
          "metadata": {},
          "execution_count": 20
        }
      ]
    },
    {
      "cell_type": "code",
      "metadata": {
        "id": "Y9taxY0n_k6U"
      },
      "source": [
        "def variaveis_graficos (coluna: str, titulos: list): # função gera sequência de subplots por categoria\n",
        "\n",
        "  eixo = 0\n",
        "  max_y = 0\n",
        "  figura, eixos = plt.subplots(1,3, figsize=(20, 5), sharex=True)\n",
        "\n",
        "  for dataframe in [df, df_adimplente, df_inadimplente]:\n",
        "\n",
        "    f = sns.histplot(x=coluna, data=dataframe, stat='count', ax=eixos[eixo])\n",
        "    f.set(title=titulos[eixo], xlabel=coluna.capitalize(), ylabel='Frequência Absoluta')\n",
        "\n",
        "    _, max_y_f = f.get_ylim()\n",
        "    max_y = max_y_f if max_y_f > max_y else max_y\n",
        "    f.set(ylim=(0, max_y))\n",
        "\n",
        "    eixo += 1\n",
        "  \n",
        "  return figura\n"
      ],
      "execution_count": 21,
      "outputs": []
    },
    {
      "cell_type": "code",
      "metadata": {
        "colab": {
          "base_uri": "https://localhost:8080/",
          "height": 557
        },
        "id": "TBpbpn9z9rgn",
        "outputId": "b2d7bbe0-f1a5-46b6-fa13-334116b04395"
      },
      "source": [
        "colunas = ['qtd_transacoes_12m', 'valor_transacoes_12m']\n",
        "titulos = ['Qtd. de Transações no Último Ano', 'Qtd. de Transações no Último Ano de Adimplentes', 'Qtd. de Transações no Último Ano de Inadimplentes']\n",
        "\n",
        "for coluna in colunas:\n",
        "  figura.show(variaveis_graficos(coluna, titulos))"
      ],
      "execution_count": 22,
      "outputs": [
        {
          "output_type": "display_data",
          "data": {
            "image/png": "[encoded data removed]",
            "text/plain": [
              "<Figure size 1440x360 with 3 Axes>"
            ]
          },
          "metadata": {}
        },
        {
          "output_type": "display_data",
          "data": {
            "image/png": "[encoded data removed]",
            "text/plain": [
              "<Figure size 1440x360 with 3 Axes>"
            ]
          },
          "metadata": {}
        }
      ]
    },
    {
      "cell_type": "markdown",
      "metadata": {
        "id": "cr0wGGUtBOYq"
      },
      "source": [
        "Com base no resultado dos histogramas das duas variáveis estudadas temos abaixo a relação entre ambas no gráfico de relacionamento."
      ]
    },
    {
      "cell_type": "code",
      "metadata": {
        "colab": {
          "base_uri": "https://localhost:8080/",
          "height": 400
        },
        "id": "8llIDHkTBbbe",
        "outputId": "f5fd79f7-01b5-4177-ee1f-5df37ead4df6"
      },
      "source": [
        "f = sns.relplot(x='valor_transacoes_12m', y='qtd_transacoes_12m', data=df, hue='default')\n",
        "_ = f.set(\n",
        "    title='Relação entre Valor e Quantidade de Transações no Último Ano', \n",
        "    xlabel='Valor das Transações no Último Ano', \n",
        "    ylabel='Quantidade das Transações no Último Ano'\n",
        "  )"
      ],
      "execution_count": 23,
      "outputs": [
        {
          "output_type": "display_data",
          "data": {
            "image/png": "[encoded data removed]",
            "text/plain": [
              "<Figure size 403.375x360 with 1 Axes>"
            ]
          },
          "metadata": {}
        }
      ]
    },
    {
      "cell_type": "code",
      "metadata": {
        "id": "zN8Pa7vIJJfZ"
      },
      "source": [
        ""
      ],
      "execution_count": null,
      "outputs": []
    },
    {
      "cell_type": "markdown",
      "metadata": {
        "id": "K1JdSkkHH6dC"
      },
      "source": [
        "# **6. Insigths**"
      ]
    },
    {
      "cell_type": "markdown",
      "metadata": {
        "id": "ma9BrMX1IuUS"
      },
      "source": [
        "## 6.1 Dados descartados"
      ]
    },
    {
      "cell_type": "markdown",
      "metadata": {
        "id": "ZxEPdjYpJFZk"
      },
      "source": [
        "O percentual de dados vazios que foram descartados da amostra não compromete a validade da massa de dados, pois a proporção entre clientes adiplentes e inadimplentes se manteve praticamente a mesma."
      ]
    },
    {
      "cell_type": "markdown",
      "metadata": {
        "id": "B9YJs8OgJzzG"
      },
      "source": [
        "## 6.2 Análise com base nas categorias"
      ]
    },
    {
      "cell_type": "markdown",
      "metadata": {
        "id": "Yv0byqDtKBUb"
      },
      "source": [
        "O que ficou claro na análise gráfica dos dados com base nas categorias escolaridade, estado civil e salario anual e que essas características não explicam maior ou menor índice de inandimplência. As proporções entre default e não default com relação a massa total se mantem praticamente iguais. Ou seja, não sinalizam nenhuma distorção que explique a inadimplência. "
      ]
    },
    {
      "cell_type": "markdown",
      "metadata": {
        "id": "pnq7z88PK8ih"
      },
      "source": [
        "## 6.3 Análise com base nas variáveis numéricas"
      ]
    },
    {
      "cell_type": "markdown",
      "metadata": {
        "id": "LsnxWce6LE7x"
      },
      "source": [
        "Já com relação a análise dos gráficos das variáveis quantidade de transações em 12 meses e valor das transações em 12 meses é possível perceber que existe um comportamento anômalo para uma faixa específica de valor de transações e quantidade de transações.\n",
        "\n",
        "Existe um forte incremento de clientes inadimplentes na faixa entre 35 e 45 transações anuais e na faixa média de valor de transações em R$ 2.500,00.\n",
        "\n",
        "Quando sobrepomos as duas amostras no gráfico de relacionamento fica ainda mais claro a existência de uma relação entre o número de transações na faixa 35-45 com os valores médios de R$ 2.500,00, indicando uma atenção especial para esse grupo de clientes.\n",
        "\n"
      ]
    }
  ]
}