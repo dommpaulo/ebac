{
 "cells": [
  {
   "cell_type": "markdown",
   "metadata": {},
   "source": [
    "# Livro para consulta:\n",
    "- https://jakevdp.github.io/PythonDataScienceHandbook/03.08-aggregation-and-grouping.html\n",
    "- https://jakevdp.github.io/PythonDataScienceHandbook/03.09-pivot-tables.html\n",
    "    "
   ]
  },
  {
   "cell_type": "markdown",
   "metadata": {},
   "source": [
    "# 1. Importando bibliotecas <a name=\"import\"></a>\n",
    "\n",
    "<div style=\"text-align: right\"\n",
    "     \n",
    "[Voltar ao índice](#Contents)"
   ]
  },
  {
   "cell_type": "code",
   "execution_count": 72,
   "metadata": {
    "ExecuteTime": {
     "end_time": "2021-06-06T21:12:37.298706Z",
     "start_time": "2021-06-06T21:12:36.656481Z"
    }
   },
   "outputs": [],
   "source": [
    "import numpy as np\n",
    "import pandas as pd\n",
    "import seaborn as sns\n",
    "import matplotlib.pyplot as plt\n",
    "\n",
    "%matplotlib inline"
   ]
  },
  {
   "cell_type": "markdown",
   "metadata": {},
   "source": [
    "# 2. Carregando o dataframe SINASC <a name=\"read\"></a>\n",
    "<div style=\"text-align: right\"\n",
    "     \n",
    "[Voltar ao índice](#Contents)"
   ]
  },
  {
   "cell_type": "code",
   "execution_count": 195,
   "metadata": {
    "ExecuteTime": {
     "end_time": "2021-06-06T21:12:37.762376Z",
     "start_time": "2021-06-06T21:12:37.728383Z"
    },
    "scrolled": true
   },
   "outputs": [
    {
     "data": {
      "text/html": [
       "<div>\n",
       "<style scoped>\n",
       "    .dataframe tbody tr th:only-of-type {\n",
       "        vertical-align: middle;\n",
       "    }\n",
       "\n",
       "    .dataframe tbody tr th {\n",
       "        vertical-align: top;\n",
       "    }\n",
       "\n",
       "    .dataframe thead th {\n",
       "        text-align: right;\n",
       "    }\n",
       "</style>\n",
       "<table border=\"1\" class=\"dataframe\">\n",
       "  <thead>\n",
       "    <tr style=\"text-align: right;\">\n",
       "      <th></th>\n",
       "      <th>ORIGEM</th>\n",
       "      <th>CODESTAB</th>\n",
       "      <th>CODMUNNASC</th>\n",
       "      <th>LOCNASC</th>\n",
       "      <th>IDADEMAE</th>\n",
       "      <th>ESTCIVMAE</th>\n",
       "      <th>ESCMAE</th>\n",
       "      <th>CODOCUPMAE</th>\n",
       "      <th>QTDFILVIVO</th>\n",
       "      <th>QTDFILMORT</th>\n",
       "      <th>...</th>\n",
       "      <th>KOTELCHUCK</th>\n",
       "      <th>CONTADOR</th>\n",
       "      <th>munResStatus</th>\n",
       "      <th>munResTipo</th>\n",
       "      <th>munResNome</th>\n",
       "      <th>munResUf</th>\n",
       "      <th>munResLat</th>\n",
       "      <th>munResLon</th>\n",
       "      <th>munResAlt</th>\n",
       "      <th>munResArea</th>\n",
       "    </tr>\n",
       "  </thead>\n",
       "  <tbody>\n",
       "    <tr>\n",
       "      <th>0</th>\n",
       "      <td>1</td>\n",
       "      <td>2679477.0</td>\n",
       "      <td>110001</td>\n",
       "      <td>1</td>\n",
       "      <td>19</td>\n",
       "      <td>5.0</td>\n",
       "      <td>8 a 11 anos</td>\n",
       "      <td>NaN</td>\n",
       "      <td>0.0</td>\n",
       "      <td>0.0</td>\n",
       "      <td>...</td>\n",
       "      <td>5</td>\n",
       "      <td>1</td>\n",
       "      <td>ATIVO</td>\n",
       "      <td>MUNIC</td>\n",
       "      <td>Alta Floresta D'Oeste</td>\n",
       "      <td>Rondônia</td>\n",
       "      <td>-11.93554</td>\n",
       "      <td>-61.99982</td>\n",
       "      <td>338.0</td>\n",
       "      <td>7067.025</td>\n",
       "    </tr>\n",
       "    <tr>\n",
       "      <th>1</th>\n",
       "      <td>1</td>\n",
       "      <td>2679477.0</td>\n",
       "      <td>110001</td>\n",
       "      <td>1</td>\n",
       "      <td>29</td>\n",
       "      <td>2.0</td>\n",
       "      <td>8 a 11 anos</td>\n",
       "      <td>999992.0</td>\n",
       "      <td>1.0</td>\n",
       "      <td>0.0</td>\n",
       "      <td>...</td>\n",
       "      <td>5</td>\n",
       "      <td>2</td>\n",
       "      <td>ATIVO</td>\n",
       "      <td>MUNIC</td>\n",
       "      <td>Alta Floresta D'Oeste</td>\n",
       "      <td>Rondônia</td>\n",
       "      <td>-11.93554</td>\n",
       "      <td>-61.99982</td>\n",
       "      <td>338.0</td>\n",
       "      <td>7067.025</td>\n",
       "    </tr>\n",
       "    <tr>\n",
       "      <th>2</th>\n",
       "      <td>1</td>\n",
       "      <td>2679477.0</td>\n",
       "      <td>110001</td>\n",
       "      <td>1</td>\n",
       "      <td>37</td>\n",
       "      <td>9.0</td>\n",
       "      <td>8 a 11 anos</td>\n",
       "      <td>513205.0</td>\n",
       "      <td>2.0</td>\n",
       "      <td>0.0</td>\n",
       "      <td>...</td>\n",
       "      <td>5</td>\n",
       "      <td>3</td>\n",
       "      <td>ATIVO</td>\n",
       "      <td>MUNIC</td>\n",
       "      <td>Alta Floresta D'Oeste</td>\n",
       "      <td>Rondônia</td>\n",
       "      <td>-11.93554</td>\n",
       "      <td>-61.99982</td>\n",
       "      <td>338.0</td>\n",
       "      <td>7067.025</td>\n",
       "    </tr>\n",
       "    <tr>\n",
       "      <th>3</th>\n",
       "      <td>1</td>\n",
       "      <td>2516500.0</td>\n",
       "      <td>110001</td>\n",
       "      <td>1</td>\n",
       "      <td>30</td>\n",
       "      <td>5.0</td>\n",
       "      <td>12 anos ou mais</td>\n",
       "      <td>231205.0</td>\n",
       "      <td>0.0</td>\n",
       "      <td>0.0</td>\n",
       "      <td>...</td>\n",
       "      <td>4</td>\n",
       "      <td>4</td>\n",
       "      <td>ATIVO</td>\n",
       "      <td>MUNIC</td>\n",
       "      <td>Alto Alegre dos Parecis</td>\n",
       "      <td>Rondônia</td>\n",
       "      <td>-12.13178</td>\n",
       "      <td>-61.85308</td>\n",
       "      <td>397.0</td>\n",
       "      <td>3958.273</td>\n",
       "    </tr>\n",
       "    <tr>\n",
       "      <th>4</th>\n",
       "      <td>1</td>\n",
       "      <td>2516500.0</td>\n",
       "      <td>110001</td>\n",
       "      <td>1</td>\n",
       "      <td>30</td>\n",
       "      <td>2.0</td>\n",
       "      <td>8 a 11 anos</td>\n",
       "      <td>999992.0</td>\n",
       "      <td>1.0</td>\n",
       "      <td>0.0</td>\n",
       "      <td>...</td>\n",
       "      <td>5</td>\n",
       "      <td>5</td>\n",
       "      <td>ATIVO</td>\n",
       "      <td>MUNIC</td>\n",
       "      <td>Alta Floresta D'Oeste</td>\n",
       "      <td>Rondônia</td>\n",
       "      <td>-11.93554</td>\n",
       "      <td>-61.99982</td>\n",
       "      <td>338.0</td>\n",
       "      <td>7067.025</td>\n",
       "    </tr>\n",
       "  </tbody>\n",
       "</table>\n",
       "<p>5 rows × 69 columns</p>\n",
       "</div>"
      ],
      "text/plain": [
       "   ORIGEM   CODESTAB  CODMUNNASC  LOCNASC  IDADEMAE  ESTCIVMAE  \\\n",
       "0       1  2679477.0      110001        1        19        5.0   \n",
       "1       1  2679477.0      110001        1        29        2.0   \n",
       "2       1  2679477.0      110001        1        37        9.0   \n",
       "3       1  2516500.0      110001        1        30        5.0   \n",
       "4       1  2516500.0      110001        1        30        2.0   \n",
       "\n",
       "            ESCMAE  CODOCUPMAE  QTDFILVIVO  QTDFILMORT  ...  KOTELCHUCK  \\\n",
       "0      8 a 11 anos         NaN         0.0         0.0  ...           5   \n",
       "1      8 a 11 anos    999992.0         1.0         0.0  ...           5   \n",
       "2      8 a 11 anos    513205.0         2.0         0.0  ...           5   \n",
       "3  12 anos ou mais    231205.0         0.0         0.0  ...           4   \n",
       "4      8 a 11 anos    999992.0         1.0         0.0  ...           5   \n",
       "\n",
       "  CONTADOR munResStatus munResTipo               munResNome  munResUf  \\\n",
       "0        1        ATIVO      MUNIC    Alta Floresta D'Oeste  Rondônia   \n",
       "1        2        ATIVO      MUNIC    Alta Floresta D'Oeste  Rondônia   \n",
       "2        3        ATIVO      MUNIC    Alta Floresta D'Oeste  Rondônia   \n",
       "3        4        ATIVO      MUNIC  Alto Alegre dos Parecis  Rondônia   \n",
       "4        5        ATIVO      MUNIC    Alta Floresta D'Oeste  Rondônia   \n",
       "\n",
       "   munResLat munResLon  munResAlt  munResArea  \n",
       "0  -11.93554 -61.99982      338.0    7067.025  \n",
       "1  -11.93554 -61.99982      338.0    7067.025  \n",
       "2  -11.93554 -61.99982      338.0    7067.025  \n",
       "3  -12.13178 -61.85308      397.0    3958.273  \n",
       "4  -11.93554 -61.99982      338.0    7067.025  \n",
       "\n",
       "[5 rows x 69 columns]"
      ]
     },
     "execution_count": 195,
     "metadata": {},
     "output_type": "execute_result"
    }
   ],
   "source": [
    "sinasc_raw = pd.read_csv('SINASC_RO_2019.csv')\n",
    "sinasc_raw.head()"
   ]
  },
  {
   "cell_type": "markdown",
   "metadata": {},
   "source": [
    "# Tarefa 1"
   ]
  },
  {
   "cell_type": "markdown",
   "metadata": {},
   "source": [
    "### 1. Idade media das mães e dos pais por município (coluna munResNome)\n"
   ]
  },
  {
   "cell_type": "code",
   "execution_count": 196,
   "metadata": {},
   "outputs": [
    {
     "name": "stderr",
     "output_type": "stream",
     "text": [
      "C:\\Users\\phlea\\anaconda3\\lib\\site-packages\\pandas\\core\\frame.py:4308: SettingWithCopyWarning: \n",
      "A value is trying to be set on a copy of a slice from a DataFrame\n",
      "\n",
      "See the caveats in the documentation: https://pandas.pydata.org/pandas-docs/stable/user_guide/indexing.html#returning-a-view-versus-a-copy\n",
      "  return super().drop(\n"
     ]
    },
    {
     "data": {
      "text/html": [
       "<div>\n",
       "<style scoped>\n",
       "    .dataframe tbody tr th:only-of-type {\n",
       "        vertical-align: middle;\n",
       "    }\n",
       "\n",
       "    .dataframe tbody tr th {\n",
       "        vertical-align: top;\n",
       "    }\n",
       "\n",
       "    .dataframe thead th {\n",
       "        text-align: right;\n",
       "    }\n",
       "</style>\n",
       "<table border=\"1\" class=\"dataframe\">\n",
       "  <thead>\n",
       "    <tr style=\"text-align: right;\">\n",
       "      <th></th>\n",
       "      <th>munResNome</th>\n",
       "      <th>IDADEMAE</th>\n",
       "      <th>IDADEPAI</th>\n",
       "    </tr>\n",
       "  </thead>\n",
       "  <tbody>\n",
       "    <tr>\n",
       "      <th>0</th>\n",
       "      <td>Alta Floresta D'Oeste</td>\n",
       "      <td>19</td>\n",
       "      <td>26.0</td>\n",
       "    </tr>\n",
       "    <tr>\n",
       "      <th>1</th>\n",
       "      <td>Alta Floresta D'Oeste</td>\n",
       "      <td>29</td>\n",
       "      <td>24.0</td>\n",
       "    </tr>\n",
       "    <tr>\n",
       "      <th>2</th>\n",
       "      <td>Alta Floresta D'Oeste</td>\n",
       "      <td>37</td>\n",
       "      <td>32.0</td>\n",
       "    </tr>\n",
       "    <tr>\n",
       "      <th>3</th>\n",
       "      <td>Alto Alegre dos Parecis</td>\n",
       "      <td>30</td>\n",
       "      <td>24.0</td>\n",
       "    </tr>\n",
       "    <tr>\n",
       "      <th>4</th>\n",
       "      <td>Alta Floresta D'Oeste</td>\n",
       "      <td>30</td>\n",
       "      <td>27.0</td>\n",
       "    </tr>\n",
       "  </tbody>\n",
       "</table>\n",
       "</div>"
      ],
      "text/plain": [
       "                munResNome  IDADEMAE  IDADEPAI\n",
       "0    Alta Floresta D'Oeste        19      26.0\n",
       "1    Alta Floresta D'Oeste        29      24.0\n",
       "2    Alta Floresta D'Oeste        37      32.0\n",
       "3  Alto Alegre dos Parecis        30      24.0\n",
       "4    Alta Floresta D'Oeste        30      27.0"
      ]
     },
     "execution_count": 196,
     "metadata": {},
     "output_type": "execute_result"
    }
   ],
   "source": [
    "sinasc_1 = sinasc_raw[['munResNome','IDADEMAE', 'IDADEPAI']]\n",
    "\n",
    "#excluindo linha com dado ignorado\n",
    "sinasc_1.drop(sinasc_1.loc[sinasc_1['munResNome']=='Município ignorado - RO'].index, inplace=True)\n",
    "sinasc_1.head()\n"
   ]
  },
  {
   "cell_type": "code",
   "execution_count": 197,
   "metadata": {},
   "outputs": [
    {
     "data": {
      "text/html": [
       "<div>\n",
       "<style scoped>\n",
       "    .dataframe tbody tr th:only-of-type {\n",
       "        vertical-align: middle;\n",
       "    }\n",
       "\n",
       "    .dataframe tbody tr th {\n",
       "        vertical-align: top;\n",
       "    }\n",
       "\n",
       "    .dataframe thead th {\n",
       "        text-align: right;\n",
       "    }\n",
       "</style>\n",
       "<table border=\"1\" class=\"dataframe\">\n",
       "  <thead>\n",
       "    <tr style=\"text-align: right;\">\n",
       "      <th></th>\n",
       "      <th>IDADEMAE</th>\n",
       "      <th>IDADEPAI</th>\n",
       "    </tr>\n",
       "    <tr>\n",
       "      <th>munResNome</th>\n",
       "      <th></th>\n",
       "      <th></th>\n",
       "    </tr>\n",
       "  </thead>\n",
       "  <tbody>\n",
       "    <tr>\n",
       "      <th>Alta Floresta D'Oeste</th>\n",
       "      <td>25.991826</td>\n",
       "      <td>29.548701</td>\n",
       "    </tr>\n",
       "    <tr>\n",
       "      <th>Alto Alegre dos Parecis</th>\n",
       "      <td>24.844156</td>\n",
       "      <td>29.179104</td>\n",
       "    </tr>\n",
       "    <tr>\n",
       "      <th>Alto Paraíso</th>\n",
       "      <td>24.960177</td>\n",
       "      <td>28.833333</td>\n",
       "    </tr>\n",
       "    <tr>\n",
       "      <th>Alvorada D'Oeste</th>\n",
       "      <td>25.770732</td>\n",
       "      <td>30.757282</td>\n",
       "    </tr>\n",
       "    <tr>\n",
       "      <th>Ariquemes</th>\n",
       "      <td>25.607866</td>\n",
       "      <td>32.466667</td>\n",
       "    </tr>\n",
       "    <tr>\n",
       "      <th>Buritis</th>\n",
       "      <td>25.559177</td>\n",
       "      <td>30.812500</td>\n",
       "    </tr>\n",
       "    <tr>\n",
       "      <th>Cabixi</th>\n",
       "      <td>26.037500</td>\n",
       "      <td>34.333333</td>\n",
       "    </tr>\n",
       "    <tr>\n",
       "      <th>Cacaulândia</th>\n",
       "      <td>25.546667</td>\n",
       "      <td>36.333333</td>\n",
       "    </tr>\n",
       "    <tr>\n",
       "      <th>Cacoal</th>\n",
       "      <td>26.890102</td>\n",
       "      <td>30.931854</td>\n",
       "    </tr>\n",
       "    <tr>\n",
       "      <th>Campo Novo de Rondônia</th>\n",
       "      <td>24.825301</td>\n",
       "      <td>30.500000</td>\n",
       "    </tr>\n",
       "    <tr>\n",
       "      <th>Candeias do Jamari</th>\n",
       "      <td>25.243323</td>\n",
       "      <td>29.894737</td>\n",
       "    </tr>\n",
       "    <tr>\n",
       "      <th>Castanheiras</th>\n",
       "      <td>27.281250</td>\n",
       "      <td>30.392857</td>\n",
       "    </tr>\n",
       "    <tr>\n",
       "      <th>Cerejeiras</th>\n",
       "      <td>27.240506</td>\n",
       "      <td>31.652778</td>\n",
       "    </tr>\n",
       "    <tr>\n",
       "      <th>Chupinguaia</th>\n",
       "      <td>25.333333</td>\n",
       "      <td>29.629630</td>\n",
       "    </tr>\n",
       "    <tr>\n",
       "      <th>Colorado do Oeste</th>\n",
       "      <td>27.602804</td>\n",
       "      <td>34.354839</td>\n",
       "    </tr>\n",
       "    <tr>\n",
       "      <th>Corumbiara</th>\n",
       "      <td>24.716535</td>\n",
       "      <td>32.470588</td>\n",
       "    </tr>\n",
       "    <tr>\n",
       "      <th>Costa Marques</th>\n",
       "      <td>24.412017</td>\n",
       "      <td>30.613636</td>\n",
       "    </tr>\n",
       "    <tr>\n",
       "      <th>Cujubim</th>\n",
       "      <td>24.482927</td>\n",
       "      <td>31.400000</td>\n",
       "    </tr>\n",
       "    <tr>\n",
       "      <th>Espigão D'Oeste</th>\n",
       "      <td>26.093333</td>\n",
       "      <td>31.198113</td>\n",
       "    </tr>\n",
       "    <tr>\n",
       "      <th>Governador Jorge Teixeira</th>\n",
       "      <td>24.401786</td>\n",
       "      <td>29.222222</td>\n",
       "    </tr>\n",
       "    <tr>\n",
       "      <th>Guajará-Mirim</th>\n",
       "      <td>25.462228</td>\n",
       "      <td>30.470588</td>\n",
       "    </tr>\n",
       "    <tr>\n",
       "      <th>Itapuã do Oeste</th>\n",
       "      <td>26.064220</td>\n",
       "      <td>42.500000</td>\n",
       "    </tr>\n",
       "    <tr>\n",
       "      <th>Jaru</th>\n",
       "      <td>25.982974</td>\n",
       "      <td>32.197183</td>\n",
       "    </tr>\n",
       "    <tr>\n",
       "      <th>Ji-Paraná</th>\n",
       "      <td>26.361137</td>\n",
       "      <td>31.132239</td>\n",
       "    </tr>\n",
       "    <tr>\n",
       "      <th>Machadinho D'Oeste</th>\n",
       "      <td>25.480000</td>\n",
       "      <td>31.326923</td>\n",
       "    </tr>\n",
       "    <tr>\n",
       "      <th>Ministro Andreazza</th>\n",
       "      <td>27.904762</td>\n",
       "      <td>33.849315</td>\n",
       "    </tr>\n",
       "    <tr>\n",
       "      <th>Mirante da Serra</th>\n",
       "      <td>26.304878</td>\n",
       "      <td>32.154762</td>\n",
       "    </tr>\n",
       "    <tr>\n",
       "      <th>Monte Negro</th>\n",
       "      <td>25.648241</td>\n",
       "      <td>34.678571</td>\n",
       "    </tr>\n",
       "    <tr>\n",
       "      <th>Nova Brasilândia D'Oeste</th>\n",
       "      <td>26.222222</td>\n",
       "      <td>30.520833</td>\n",
       "    </tr>\n",
       "    <tr>\n",
       "      <th>Nova Mamoré</th>\n",
       "      <td>25.326389</td>\n",
       "      <td>31.692308</td>\n",
       "    </tr>\n",
       "    <tr>\n",
       "      <th>Nova União</th>\n",
       "      <td>26.894231</td>\n",
       "      <td>31.371429</td>\n",
       "    </tr>\n",
       "    <tr>\n",
       "      <th>Novo Horizonte do Oeste</th>\n",
       "      <td>26.938776</td>\n",
       "      <td>31.588235</td>\n",
       "    </tr>\n",
       "    <tr>\n",
       "      <th>Ouro Preto do Oeste</th>\n",
       "      <td>26.375594</td>\n",
       "      <td>31.233244</td>\n",
       "    </tr>\n",
       "    <tr>\n",
       "      <th>Parecis</th>\n",
       "      <td>26.454545</td>\n",
       "      <td>32.473684</td>\n",
       "    </tr>\n",
       "    <tr>\n",
       "      <th>Pimenta Bueno</th>\n",
       "      <td>25.199675</td>\n",
       "      <td>29.745174</td>\n",
       "    </tr>\n",
       "    <tr>\n",
       "      <th>Pimenteiras do Oeste</th>\n",
       "      <td>25.075000</td>\n",
       "      <td>35.600000</td>\n",
       "    </tr>\n",
       "    <tr>\n",
       "      <th>Porto Velho</th>\n",
       "      <td>26.312670</td>\n",
       "      <td>32.352679</td>\n",
       "    </tr>\n",
       "    <tr>\n",
       "      <th>Presidente Médici</th>\n",
       "      <td>25.796053</td>\n",
       "      <td>30.150754</td>\n",
       "    </tr>\n",
       "    <tr>\n",
       "      <th>Primavera de Rondônia</th>\n",
       "      <td>27.023256</td>\n",
       "      <td>31.888889</td>\n",
       "    </tr>\n",
       "    <tr>\n",
       "      <th>Rio Crespo</th>\n",
       "      <td>26.660000</td>\n",
       "      <td>28.000000</td>\n",
       "    </tr>\n",
       "    <tr>\n",
       "      <th>Rolim de Moura</th>\n",
       "      <td>26.600863</td>\n",
       "      <td>30.360479</td>\n",
       "    </tr>\n",
       "    <tr>\n",
       "      <th>Santa Luzia D'Oeste</th>\n",
       "      <td>26.121212</td>\n",
       "      <td>30.703297</td>\n",
       "    </tr>\n",
       "    <tr>\n",
       "      <th>Seringueiras</th>\n",
       "      <td>24.910714</td>\n",
       "      <td>30.500000</td>\n",
       "    </tr>\n",
       "    <tr>\n",
       "      <th>São Felipe D'Oeste</th>\n",
       "      <td>26.481481</td>\n",
       "      <td>31.395833</td>\n",
       "    </tr>\n",
       "    <tr>\n",
       "      <th>São Francisco do Guaporé</th>\n",
       "      <td>25.660066</td>\n",
       "      <td>31.638889</td>\n",
       "    </tr>\n",
       "    <tr>\n",
       "      <th>São Miguel do Guaporé</th>\n",
       "      <td>25.926346</td>\n",
       "      <td>32.666667</td>\n",
       "    </tr>\n",
       "    <tr>\n",
       "      <th>Teixeirópolis</th>\n",
       "      <td>26.031250</td>\n",
       "      <td>31.500000</td>\n",
       "    </tr>\n",
       "    <tr>\n",
       "      <th>Theobroma</th>\n",
       "      <td>25.536082</td>\n",
       "      <td>30.083333</td>\n",
       "    </tr>\n",
       "    <tr>\n",
       "      <th>Urupá</th>\n",
       "      <td>26.688235</td>\n",
       "      <td>31.008929</td>\n",
       "    </tr>\n",
       "    <tr>\n",
       "      <th>Vale do Anari</th>\n",
       "      <td>26.096774</td>\n",
       "      <td>34.000000</td>\n",
       "    </tr>\n",
       "    <tr>\n",
       "      <th>Vale do Paraíso</th>\n",
       "      <td>25.679012</td>\n",
       "      <td>29.976744</td>\n",
       "    </tr>\n",
       "    <tr>\n",
       "      <th>Vilhena</th>\n",
       "      <td>26.433962</td>\n",
       "      <td>34.152941</td>\n",
       "    </tr>\n",
       "  </tbody>\n",
       "</table>\n",
       "</div>"
      ],
      "text/plain": [
       "                            IDADEMAE   IDADEPAI\n",
       "munResNome                                     \n",
       "Alta Floresta D'Oeste      25.991826  29.548701\n",
       "Alto Alegre dos Parecis    24.844156  29.179104\n",
       "Alto Paraíso               24.960177  28.833333\n",
       "Alvorada D'Oeste           25.770732  30.757282\n",
       "Ariquemes                  25.607866  32.466667\n",
       "Buritis                    25.559177  30.812500\n",
       "Cabixi                     26.037500  34.333333\n",
       "Cacaulândia                25.546667  36.333333\n",
       "Cacoal                     26.890102  30.931854\n",
       "Campo Novo de Rondônia     24.825301  30.500000\n",
       "Candeias do Jamari         25.243323  29.894737\n",
       "Castanheiras               27.281250  30.392857\n",
       "Cerejeiras                 27.240506  31.652778\n",
       "Chupinguaia                25.333333  29.629630\n",
       "Colorado do Oeste          27.602804  34.354839\n",
       "Corumbiara                 24.716535  32.470588\n",
       "Costa Marques              24.412017  30.613636\n",
       "Cujubim                    24.482927  31.400000\n",
       "Espigão D'Oeste            26.093333  31.198113\n",
       "Governador Jorge Teixeira  24.401786  29.222222\n",
       "Guajará-Mirim              25.462228  30.470588\n",
       "Itapuã do Oeste            26.064220  42.500000\n",
       "Jaru                       25.982974  32.197183\n",
       "Ji-Paraná                  26.361137  31.132239\n",
       "Machadinho D'Oeste         25.480000  31.326923\n",
       "Ministro Andreazza         27.904762  33.849315\n",
       "Mirante da Serra           26.304878  32.154762\n",
       "Monte Negro                25.648241  34.678571\n",
       "Nova Brasilândia D'Oeste   26.222222  30.520833\n",
       "Nova Mamoré                25.326389  31.692308\n",
       "Nova União                 26.894231  31.371429\n",
       "Novo Horizonte do Oeste    26.938776  31.588235\n",
       "Ouro Preto do Oeste        26.375594  31.233244\n",
       "Parecis                    26.454545  32.473684\n",
       "Pimenta Bueno              25.199675  29.745174\n",
       "Pimenteiras do Oeste       25.075000  35.600000\n",
       "Porto Velho                26.312670  32.352679\n",
       "Presidente Médici          25.796053  30.150754\n",
       "Primavera de Rondônia      27.023256  31.888889\n",
       "Rio Crespo                 26.660000  28.000000\n",
       "Rolim de Moura             26.600863  30.360479\n",
       "Santa Luzia D'Oeste        26.121212  30.703297\n",
       "Seringueiras               24.910714  30.500000\n",
       "São Felipe D'Oeste         26.481481  31.395833\n",
       "São Francisco do Guaporé   25.660066  31.638889\n",
       "São Miguel do Guaporé      25.926346  32.666667\n",
       "Teixeirópolis              26.031250  31.500000\n",
       "Theobroma                  25.536082  30.083333\n",
       "Urupá                      26.688235  31.008929\n",
       "Vale do Anari              26.096774  34.000000\n",
       "Vale do Paraíso            25.679012  29.976744\n",
       "Vilhena                    26.433962  34.152941"
      ]
     },
     "execution_count": 197,
     "metadata": {},
     "output_type": "execute_result"
    }
   ],
   "source": [
    "sinasc_1.groupby('munResNome').agg('mean')"
   ]
  },
  {
   "cell_type": "markdown",
   "metadata": {},
   "source": [
    "### 2. Peso médio dos bebes por sexo que nasceram no dia do seu aniversário por faixas de escolaridade mae\n",
    "Ex: Você, aluna(o), nasceu no dia 10/01, então você precisa filtrar o conjunto de dados nessa data e calcular o peso médio dos bebês de cada sexo por faixa de escolaridade da mãe."
   ]
  },
  {
   "cell_type": "code",
   "execution_count": 198,
   "metadata": {},
   "outputs": [
    {
     "data": {
      "text/html": [
       "<div>\n",
       "<style scoped>\n",
       "    .dataframe tbody tr th:only-of-type {\n",
       "        vertical-align: middle;\n",
       "    }\n",
       "\n",
       "    .dataframe tbody tr th {\n",
       "        vertical-align: top;\n",
       "    }\n",
       "\n",
       "    .dataframe thead th {\n",
       "        text-align: right;\n",
       "    }\n",
       "</style>\n",
       "<table border=\"1\" class=\"dataframe\">\n",
       "  <thead>\n",
       "    <tr style=\"text-align: right;\">\n",
       "      <th></th>\n",
       "      <th>ESCMAE</th>\n",
       "      <th>DTNASC</th>\n",
       "      <th>SEXO</th>\n",
       "      <th>PESO</th>\n",
       "    </tr>\n",
       "  </thead>\n",
       "  <tbody>\n",
       "    <tr>\n",
       "      <th>0</th>\n",
       "      <td>8 a 11 anos</td>\n",
       "      <td>2019-02-19</td>\n",
       "      <td>Masculino</td>\n",
       "      <td>3685</td>\n",
       "    </tr>\n",
       "    <tr>\n",
       "      <th>1</th>\n",
       "      <td>8 a 11 anos</td>\n",
       "      <td>2019-02-21</td>\n",
       "      <td>Feminino</td>\n",
       "      <td>3055</td>\n",
       "    </tr>\n",
       "    <tr>\n",
       "      <th>2</th>\n",
       "      <td>8 a 11 anos</td>\n",
       "      <td>2019-02-25</td>\n",
       "      <td>Feminino</td>\n",
       "      <td>3460</td>\n",
       "    </tr>\n",
       "    <tr>\n",
       "      <th>3</th>\n",
       "      <td>12 anos ou mais</td>\n",
       "      <td>2019-03-20</td>\n",
       "      <td>Feminino</td>\n",
       "      <td>2982</td>\n",
       "    </tr>\n",
       "    <tr>\n",
       "      <th>4</th>\n",
       "      <td>8 a 11 anos</td>\n",
       "      <td>2019-03-23</td>\n",
       "      <td>Feminino</td>\n",
       "      <td>3310</td>\n",
       "    </tr>\n",
       "  </tbody>\n",
       "</table>\n",
       "</div>"
      ],
      "text/plain": [
       "            ESCMAE      DTNASC       SEXO  PESO\n",
       "0      8 a 11 anos  2019-02-19  Masculino  3685\n",
       "1      8 a 11 anos  2019-02-21   Feminino  3055\n",
       "2      8 a 11 anos  2019-02-25   Feminino  3460\n",
       "3  12 anos ou mais  2019-03-20   Feminino  2982\n",
       "4      8 a 11 anos  2019-03-23   Feminino  3310"
      ]
     },
     "execution_count": 198,
     "metadata": {},
     "output_type": "execute_result"
    }
   ],
   "source": [
    "sinasc_2 = sinasc_raw[['ESCMAE','DTNASC', 'SEXO', 'PESO']]\n",
    "sinasc_2.head()"
   ]
  },
  {
   "cell_type": "code",
   "execution_count": 199,
   "metadata": {},
   "outputs": [
    {
     "data": {
      "text/plain": [
       "ESCMAE           SEXO     \n",
       "1 a 3 anos       Feminino     3290.000000\n",
       "                 Masculino    2975.000000\n",
       "12 anos ou mais  Feminino     3297.000000\n",
       "                 Masculino    3180.333333\n",
       "4 a 7 anos       Feminino     3081.200000\n",
       "                 Masculino    3380.833333\n",
       "8 a 11 anos      Feminino     3176.136364\n",
       "                 Masculino    3465.476190\n",
       "Name: PESO, dtype: float64"
      ]
     },
     "execution_count": 199,
     "metadata": {},
     "output_type": "execute_result"
    }
   ],
   "source": [
    "data = '2019-06-20'\n",
    "sinasc_2[sinasc_2['DTNASC'] == data].groupby(['ESCMAE', 'SEXO'])['PESO'].mean()"
   ]
  },
  {
   "cell_type": "markdown",
   "metadata": {},
   "source": [
    "### 3. Qual o municipio que nasceu menos bebe em 2019?\n",
    "    - qual a idade media, maxima, minima das maes nesse municipio?\n",
    "    - qual a idade media, maxima, minima dos pais nesse municipio?"
   ]
  },
  {
   "cell_type": "code",
   "execution_count": 200,
   "metadata": {},
   "outputs": [
    {
     "data": {
      "text/plain": [
       "Castanheiras    32\n",
       "Name: munResNome, dtype: int64"
      ]
     },
     "execution_count": 200,
     "metadata": {},
     "output_type": "execute_result"
    }
   ],
   "source": [
    "# município com menos nascimentos\n",
    "sinasc_1.munResNome.value_counts().sort_values(ascending = True)[:1]"
   ]
  },
  {
   "cell_type": "code",
   "execution_count": 201,
   "metadata": {},
   "outputs": [
    {
     "data": {
      "text/html": [
       "<div>\n",
       "<style scoped>\n",
       "    .dataframe tbody tr th:only-of-type {\n",
       "        vertical-align: middle;\n",
       "    }\n",
       "\n",
       "    .dataframe tbody tr th {\n",
       "        vertical-align: top;\n",
       "    }\n",
       "\n",
       "    .dataframe thead tr th {\n",
       "        text-align: left;\n",
       "    }\n",
       "\n",
       "    .dataframe thead tr:last-of-type th {\n",
       "        text-align: right;\n",
       "    }\n",
       "</style>\n",
       "<table border=\"1\" class=\"dataframe\">\n",
       "  <thead>\n",
       "    <tr>\n",
       "      <th></th>\n",
       "      <th colspan=\"3\" halign=\"left\">IDADEMAE</th>\n",
       "      <th colspan=\"3\" halign=\"left\">IDADEPAI</th>\n",
       "    </tr>\n",
       "    <tr>\n",
       "      <th></th>\n",
       "      <th>Média</th>\n",
       "      <th>Máxima</th>\n",
       "      <th>Mínima</th>\n",
       "      <th>Média</th>\n",
       "      <th>Máxima</th>\n",
       "      <th>Mínima</th>\n",
       "    </tr>\n",
       "    <tr>\n",
       "      <th>munResNome</th>\n",
       "      <th></th>\n",
       "      <th></th>\n",
       "      <th></th>\n",
       "      <th></th>\n",
       "      <th></th>\n",
       "      <th></th>\n",
       "    </tr>\n",
       "  </thead>\n",
       "  <tbody>\n",
       "    <tr>\n",
       "      <th>Castanheiras</th>\n",
       "      <td>27.28125</td>\n",
       "      <td>39</td>\n",
       "      <td>17</td>\n",
       "      <td>30.392857</td>\n",
       "      <td>43.0</td>\n",
       "      <td>17.0</td>\n",
       "    </tr>\n",
       "  </tbody>\n",
       "</table>\n",
       "</div>"
      ],
      "text/plain": [
       "              IDADEMAE                 IDADEPAI              \n",
       "                 Média Máxima Mínima      Média Máxima Mínima\n",
       "munResNome                                                   \n",
       "Castanheiras  27.28125     39     17  30.392857   43.0   17.0"
      ]
     },
     "execution_count": 201,
     "metadata": {},
     "output_type": "execute_result"
    }
   ],
   "source": [
    "agrupamento = sinasc_1[sinasc_1['munResNome'] == 'Castanheiras'].groupby('munResNome')\n",
    "agrupamento.agg([('Média', 'mean'), ('Máxima', 'max'), ('Mínima', 'min')])"
   ]
  },
  {
   "cell_type": "markdown",
   "metadata": {},
   "source": [
    "### 4. Qual o municipio que nasceu mais bebe no mês de março?\n",
    "    - qual a quantidade de filhos vivos media, maxima, minima nesse municipio?\n",
    "    - qual a idade media, maxima, minima dos pais nesse municipio?\n",
    "\n"
   ]
  },
  {
   "cell_type": "code",
   "execution_count": 202,
   "metadata": {},
   "outputs": [],
   "source": [
    "sinasc_3 = sinasc_raw[[\n",
    "    'IDADEMAE', 'SEXO', 'APGAR1', 'APGAR5', 'PESO', 'CONSULTAS', 'DTNASC',\n",
    "    'munResNome', 'ESCMAE', 'IDADEPAI', 'GESTACAO', 'LOCNASC'\n",
    "]].copy()"
   ]
  },
  {
   "cell_type": "code",
   "execution_count": 203,
   "metadata": {},
   "outputs": [],
   "source": [
    "sinasc_3.loc[:,'DTNASC'] = pd.to_datetime(sinasc_3['DTNASC'])"
   ]
  },
  {
   "cell_type": "code",
   "execution_count": 204,
   "metadata": {},
   "outputs": [],
   "source": [
    "sinasc_3.set_index('DTNASC', inplace=True)"
   ]
  },
  {
   "cell_type": "code",
   "execution_count": 205,
   "metadata": {},
   "outputs": [],
   "source": [
    "sinasc_3['MES'] = sinasc_3.index.month"
   ]
  },
  {
   "cell_type": "code",
   "execution_count": 206,
   "metadata": {},
   "outputs": [
    {
     "data": {
      "text/html": [
       "<div>\n",
       "<style scoped>\n",
       "    .dataframe tbody tr th:only-of-type {\n",
       "        vertical-align: middle;\n",
       "    }\n",
       "\n",
       "    .dataframe tbody tr th {\n",
       "        vertical-align: top;\n",
       "    }\n",
       "\n",
       "    .dataframe thead th {\n",
       "        text-align: right;\n",
       "    }\n",
       "</style>\n",
       "<table border=\"1\" class=\"dataframe\">\n",
       "  <thead>\n",
       "    <tr style=\"text-align: right;\">\n",
       "      <th></th>\n",
       "      <th>IDADEMAE</th>\n",
       "      <th>SEXO</th>\n",
       "      <th>APGAR1</th>\n",
       "      <th>APGAR5</th>\n",
       "      <th>PESO</th>\n",
       "      <th>CONSULTAS</th>\n",
       "      <th>munResNome</th>\n",
       "      <th>ESCMAE</th>\n",
       "      <th>IDADEPAI</th>\n",
       "      <th>GESTACAO</th>\n",
       "      <th>LOCNASC</th>\n",
       "      <th>MES</th>\n",
       "    </tr>\n",
       "    <tr>\n",
       "      <th>DTNASC</th>\n",
       "      <th></th>\n",
       "      <th></th>\n",
       "      <th></th>\n",
       "      <th></th>\n",
       "      <th></th>\n",
       "      <th></th>\n",
       "      <th></th>\n",
       "      <th></th>\n",
       "      <th></th>\n",
       "      <th></th>\n",
       "      <th></th>\n",
       "      <th></th>\n",
       "    </tr>\n",
       "  </thead>\n",
       "  <tbody>\n",
       "    <tr>\n",
       "      <th>2019-02-19</th>\n",
       "      <td>19</td>\n",
       "      <td>Masculino</td>\n",
       "      <td>9.0</td>\n",
       "      <td>10.0</td>\n",
       "      <td>3685</td>\n",
       "      <td>4</td>\n",
       "      <td>Alta Floresta D'Oeste</td>\n",
       "      <td>8 a 11 anos</td>\n",
       "      <td>26.0</td>\n",
       "      <td>37 a 41 semanas</td>\n",
       "      <td>1</td>\n",
       "      <td>2</td>\n",
       "    </tr>\n",
       "    <tr>\n",
       "      <th>2019-02-21</th>\n",
       "      <td>29</td>\n",
       "      <td>Feminino</td>\n",
       "      <td>8.0</td>\n",
       "      <td>9.0</td>\n",
       "      <td>3055</td>\n",
       "      <td>4</td>\n",
       "      <td>Alta Floresta D'Oeste</td>\n",
       "      <td>8 a 11 anos</td>\n",
       "      <td>24.0</td>\n",
       "      <td>37 a 41 semanas</td>\n",
       "      <td>1</td>\n",
       "      <td>2</td>\n",
       "    </tr>\n",
       "    <tr>\n",
       "      <th>2019-02-25</th>\n",
       "      <td>37</td>\n",
       "      <td>Feminino</td>\n",
       "      <td>8.0</td>\n",
       "      <td>10.0</td>\n",
       "      <td>3460</td>\n",
       "      <td>4</td>\n",
       "      <td>Alta Floresta D'Oeste</td>\n",
       "      <td>8 a 11 anos</td>\n",
       "      <td>32.0</td>\n",
       "      <td>37 a 41 semanas</td>\n",
       "      <td>1</td>\n",
       "      <td>2</td>\n",
       "    </tr>\n",
       "    <tr>\n",
       "      <th>2019-03-20</th>\n",
       "      <td>30</td>\n",
       "      <td>Feminino</td>\n",
       "      <td>9.0</td>\n",
       "      <td>10.0</td>\n",
       "      <td>2982</td>\n",
       "      <td>3</td>\n",
       "      <td>Alto Alegre dos Parecis</td>\n",
       "      <td>12 anos ou mais</td>\n",
       "      <td>24.0</td>\n",
       "      <td>37 a 41 semanas</td>\n",
       "      <td>1</td>\n",
       "      <td>3</td>\n",
       "    </tr>\n",
       "    <tr>\n",
       "      <th>2019-03-23</th>\n",
       "      <td>30</td>\n",
       "      <td>Feminino</td>\n",
       "      <td>8.0</td>\n",
       "      <td>10.0</td>\n",
       "      <td>3310</td>\n",
       "      <td>4</td>\n",
       "      <td>Alta Floresta D'Oeste</td>\n",
       "      <td>8 a 11 anos</td>\n",
       "      <td>27.0</td>\n",
       "      <td>37 a 41 semanas</td>\n",
       "      <td>1</td>\n",
       "      <td>3</td>\n",
       "    </tr>\n",
       "  </tbody>\n",
       "</table>\n",
       "</div>"
      ],
      "text/plain": [
       "            IDADEMAE       SEXO  APGAR1  APGAR5  PESO  CONSULTAS  \\\n",
       "DTNASC                                                             \n",
       "2019-02-19        19  Masculino     9.0    10.0  3685          4   \n",
       "2019-02-21        29   Feminino     8.0     9.0  3055          4   \n",
       "2019-02-25        37   Feminino     8.0    10.0  3460          4   \n",
       "2019-03-20        30   Feminino     9.0    10.0  2982          3   \n",
       "2019-03-23        30   Feminino     8.0    10.0  3310          4   \n",
       "\n",
       "                         munResNome           ESCMAE  IDADEPAI  \\\n",
       "DTNASC                                                           \n",
       "2019-02-19    Alta Floresta D'Oeste      8 a 11 anos      26.0   \n",
       "2019-02-21    Alta Floresta D'Oeste      8 a 11 anos      24.0   \n",
       "2019-02-25    Alta Floresta D'Oeste      8 a 11 anos      32.0   \n",
       "2019-03-20  Alto Alegre dos Parecis  12 anos ou mais      24.0   \n",
       "2019-03-23    Alta Floresta D'Oeste      8 a 11 anos      27.0   \n",
       "\n",
       "                   GESTACAO  LOCNASC  MES  \n",
       "DTNASC                                     \n",
       "2019-02-19  37 a 41 semanas        1    2  \n",
       "2019-02-21  37 a 41 semanas        1    2  \n",
       "2019-02-25  37 a 41 semanas        1    2  \n",
       "2019-03-20  37 a 41 semanas        1    3  \n",
       "2019-03-23  37 a 41 semanas        1    3  "
      ]
     },
     "execution_count": 206,
     "metadata": {},
     "output_type": "execute_result"
    }
   ],
   "source": [
    "sinasc_3.head()"
   ]
  },
  {
   "cell_type": "code",
   "execution_count": 207,
   "metadata": {},
   "outputs": [
    {
     "data": {
      "text/plain": [
       "munResNome\n",
       "Porto Velho    733\n",
       "Name: ESCMAE, dtype: int64"
      ]
     },
     "execution_count": 207,
     "metadata": {},
     "output_type": "execute_result"
    }
   ],
   "source": [
    "# município onde nasceram mais bebes no mês de Março = 3\n",
    "mes = 3\n",
    "sinasc_3[sinasc_3['MES'] == 3].groupby(['munResNome'])['ESCMAE'].count().sort_values(ascending = False)[:1]"
   ]
  },
  {
   "cell_type": "markdown",
   "metadata": {},
   "source": [
    "### Analise as respostas encontradas, tire algum insight delas, conte pra gente algo encontrado nos dados. Algo que você julgue relevante e novo pra você."
   ]
  },
  {
   "cell_type": "markdown",
   "metadata": {},
   "source": [
    "### Período de Gestação x Saúde do bebê\n",
    "Com base nos dados é possível encontrar uma relação clara entre o maior período de gestação dos bebê com seu estado de saúde geral, representado pela maior média de peso ao nascer e os melhores índices de APGAR1 e APGAR5. Os três índices apresentam basicamente a mesma curvatura."
   ]
  },
  {
   "cell_type": "code",
   "execution_count": 208,
   "metadata": {},
   "outputs": [
    {
     "data": {
      "image/png": "[encoded data removed]",
      "text/plain": [
       "<Figure size 1080x360 with 1 Axes>"
      ]
     },
     "metadata": {
      "needs_background": "light"
     },
     "output_type": "display_data"
    }
   ],
   "source": [
    "sinasc_3.pivot_table(values = 'PESO',index = 'GESTACAO', aggfunc='mean').plot(figsize=[15,5]);\n",
    "plt.ylabel('peso médio dos bebes');"
   ]
  },
  {
   "cell_type": "code",
   "execution_count": 209,
   "metadata": {},
   "outputs": [],
   "source": [
    "apgar5 = sinasc_3.groupby('GESTACAO')['APGAR5'].mean()"
   ]
  },
  {
   "cell_type": "code",
   "execution_count": 210,
   "metadata": {},
   "outputs": [],
   "source": [
    "apgar1 = sinasc_3.groupby('GESTACAO')['APGAR1'].mean()"
   ]
  },
  {
   "cell_type": "code",
   "execution_count": 211,
   "metadata": {},
   "outputs": [
    {
     "data": {
      "image/png": "[encoded data removed]",
      "text/plain": [
       "<Figure size 1080x360 with 1 Axes>"
      ]
     },
     "metadata": {
      "needs_background": "light"
     },
     "output_type": "display_data"
    }
   ],
   "source": [
    "apgar5.plot(figsize=[15,5])\n",
    "apgar1.plot()\n",
    "plt.ylabel('índice médio APGAR')\n",
    "plt.legend();"
   ]
  },
  {
   "cell_type": "markdown",
   "metadata": {},
   "source": [
    "### Distribuição de nascimentos ao longo do ano\n",
    "Apesar de não haver nenhuma relação direta de causa, é curioso perceber que o meses de Março a Maio e o mês de Setembro concentram o maior número absoluto de nascimentos no ano."
   ]
  },
  {
   "cell_type": "code",
   "execution_count": 212,
   "metadata": {},
   "outputs": [],
   "source": [
    "result = sinasc_3.groupby('MES')['IDADEMAE'].count()"
   ]
  },
  {
   "cell_type": "code",
   "execution_count": 213,
   "metadata": {},
   "outputs": [
    {
     "data": {
      "image/png": "[encoded data removed]",
      "text/plain": [
       "<Figure size 1080x360 with 1 Axes>"
      ]
     },
     "metadata": {
      "needs_background": "light"
     },
     "output_type": "display_data"
    }
   ],
   "source": [
    "fig, ax = plt.subplots(figsize=[15,5])\n",
    "result.plot()\n",
    "ax.set_xticks(result.index)\n",
    "ax.set_xticklabels(['Jan', 'Fev', 'Mar', 'Abr', 'Mai', 'Jun', 'Jul', 'Ago', 'Set', 'Out', 'Nov', 'Dez'])\n",
    "plt.title('Quantidade de nascimentos x Mês')\n",
    "plt.xlabel('meses')\n",
    "plt.ylabel('quantidade de nascimentos');"
   ]
  },
  {
   "cell_type": "markdown",
   "metadata": {},
   "source": [
    "### APPGAR médio x gênero\n",
    "O APGAR5 médio entre meninas e meninos mostra uma tendência média ligeiramente superior para as meninas ao longo do período amostrado. Mostra que não exite nenhuma relação entre as condições de saúde ao nascer e o gênero."
   ]
  },
  {
   "cell_type": "code",
   "execution_count": 214,
   "metadata": {},
   "outputs": [],
   "source": [
    "fem = sinasc_3[sinasc_3['SEXO'] == 'Feminino'].groupby('MES')['APGAR5'].mean()"
   ]
  },
  {
   "cell_type": "code",
   "execution_count": 215,
   "metadata": {},
   "outputs": [],
   "source": [
    "masc = sinasc_3[sinasc_3['SEXO'] == 'Masculino'].groupby('MES')['APGAR5'].mean()"
   ]
  },
  {
   "cell_type": "code",
   "execution_count": 216,
   "metadata": {},
   "outputs": [
    {
     "data": {
      "image/png": "[encoded data removed]",
      "text/plain": [
       "<Figure size 1080x360 with 1 Axes>"
      ]
     },
     "metadata": {
      "needs_background": "light"
     },
     "output_type": "display_data"
    }
   ],
   "source": [
    "fem.plot(figsize=[15,5])\n",
    "masc.plot()\n",
    "line1, = plt.plot(fem, label='Feminino')\n",
    "line2, = plt.plot(masc, label='Masculino')\n",
    "plt.ylabel('índice médio APGAR')\n",
    "plt.legend([line1, line2], ['Feminino', 'Masculino']);"
   ]
  },
  {
   "cell_type": "code",
   "execution_count": 217,
   "metadata": {},
   "outputs": [],
   "source": [
    "idade_apgar = sinasc_3.groupby('IDADEMAE')['APGAR5'].mean()"
   ]
  },
  {
   "cell_type": "code",
   "execution_count": 218,
   "metadata": {},
   "outputs": [
    {
     "data": {
      "text/plain": [
       "<AxesSubplot:xlabel='IDADEMAE'>"
      ]
     },
     "execution_count": 218,
     "metadata": {},
     "output_type": "execute_result"
    },
    {
     "data": {
      "image/png": "[encoded data removed]",
      "text/plain": [
       "<Figure size 1080x360 with 1 Axes>"
      ]
     },
     "metadata": {
      "needs_background": "light"
     },
     "output_type": "display_data"
    }
   ],
   "source": [
    "idade_apgar.plot(figsize=[15,5])\n"
   ]
  },
  {
   "cell_type": "markdown",
   "metadata": {},
   "source": [
    "### Relação IDADEMAE x APGAR5\n",
    "Os dados mostram curiosamente um pico no APGAR5 médio entre as mães mais maduras entre 45 e 50 anos, quando geralmente a gravidez merece maior atenção. Na outra ponta, entre as mães muito jovens, abaixo dos 15 anos, o APGAR5 tem uma queda importante.\n",
    "\n",
    "**Outras relações entre as variáveis ESCMAE, IDADEMAE, IDADEPAI, APGAR e PESO já foram descritas na aula, daí não quis repetir no exercício.**"
   ]
  },
  {
   "cell_type": "code",
   "execution_count": null,
   "metadata": {},
   "outputs": [],
   "source": []
  }
 ],
 "metadata": {
  "kernelspec": {
   "display_name": "Python 3",
   "language": "python",
   "name": "python3"
  },
  "language_info": {
   "codemirror_mode": {
    "name": "ipython",
    "version": 3
   },
   "file_extension": ".py",
   "mimetype": "text/x-python",
   "name": "python",
   "nbconvert_exporter": "python",
   "pygments_lexer": "ipython3",
   "version": "3.8.8"
  },
  "varInspector": {
   "cols": {
    "lenName": 16,
    "lenType": 16,
    "lenVar": 40
   },
   "kernels_config": {
    "python": {
     "delete_cmd_postfix": "",
     "delete_cmd_prefix": "del ",
     "library": "var_list.py",
     "varRefreshCmd": "print(var_dic_list())"
    },
    "r": {
     "delete_cmd_postfix": ") ",
     "delete_cmd_prefix": "rm(",
     "library": "var_list.r",
     "varRefreshCmd": "cat(var_dic_list()) "
    }
   },
   "types_to_exclude": [
    "module",
    "function",
    "builtin_function_or_method",
    "instance",
    "_Feature"
   ],
   "window_display": false
  }
 },
 "nbformat": 4,
 "nbformat_minor": 4
}
