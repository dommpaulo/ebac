{
 "cells": [
  {
   "cell_type": "markdown",
   "metadata": {},
   "source": [
    "# Regressão 01 - tarefa 03 - transformações em X e Y"
   ]
  },
  {
   "cell_type": "markdown",
   "metadata": {},
   "source": [
    "Carregue os pacotes necessários e a base de gorjetas.\n",
    "\n",
    "### I. Modelo no valor da gorjeta\n",
    "\n",
    "1. Crie a matriz de design (e a matriz y) utilizando o Patsy, para um modelo em ```tip```, explicada por ```sex, smoker, diner e net_bill```.  \n",
    "2. Remova as variáveis não significantes.  \n",
    "3. observe o gráfico de resíduos em função de ```net_bill```  \n",
    "4. teste transformar ```net_bill``` no log e um polinômio. Escolha o melhor modelo."
   ]
  },
  {
   "cell_type": "code",
   "execution_count": 1,
   "metadata": {},
   "outputs": [],
   "source": [
    "import pandas as pd\n",
    "import numpy as np\n",
    "import seaborn as sns\n",
    "from seaborn import load_dataset\n",
    "\n",
    "import matplotlib.pyplot as plt\n",
    "\n",
    "import patsy\n",
    "import statsmodels.api as sm\n",
    "import statsmodels.formula.api as smf"
   ]
  },
  {
   "cell_type": "code",
   "execution_count": 2,
   "metadata": {},
   "outputs": [
    {
     "data": {
      "text/html": [
       "<div>\n",
       "<style scoped>\n",
       "    .dataframe tbody tr th:only-of-type {\n",
       "        vertical-align: middle;\n",
       "    }\n",
       "\n",
       "    .dataframe tbody tr th {\n",
       "        vertical-align: top;\n",
       "    }\n",
       "\n",
       "    .dataframe thead th {\n",
       "        text-align: right;\n",
       "    }\n",
       "</style>\n",
       "<table border=\"1\" class=\"dataframe\">\n",
       "  <thead>\n",
       "    <tr style=\"text-align: right;\">\n",
       "      <th></th>\n",
       "      <th>total_bill</th>\n",
       "      <th>tip</th>\n",
       "      <th>sex</th>\n",
       "      <th>smoker</th>\n",
       "      <th>day</th>\n",
       "      <th>time</th>\n",
       "      <th>size</th>\n",
       "      <th>tip_pct</th>\n",
       "      <th>net_bill</th>\n",
       "    </tr>\n",
       "  </thead>\n",
       "  <tbody>\n",
       "    <tr>\n",
       "      <th>0</th>\n",
       "      <td>16.99</td>\n",
       "      <td>1.01</td>\n",
       "      <td>Female</td>\n",
       "      <td>No</td>\n",
       "      <td>Sun</td>\n",
       "      <td>Dinner</td>\n",
       "      <td>2</td>\n",
       "      <td>0.063204</td>\n",
       "      <td>15.98</td>\n",
       "    </tr>\n",
       "    <tr>\n",
       "      <th>1</th>\n",
       "      <td>10.34</td>\n",
       "      <td>1.66</td>\n",
       "      <td>Male</td>\n",
       "      <td>No</td>\n",
       "      <td>Sun</td>\n",
       "      <td>Dinner</td>\n",
       "      <td>3</td>\n",
       "      <td>0.191244</td>\n",
       "      <td>8.68</td>\n",
       "    </tr>\n",
       "    <tr>\n",
       "      <th>2</th>\n",
       "      <td>21.01</td>\n",
       "      <td>3.50</td>\n",
       "      <td>Male</td>\n",
       "      <td>No</td>\n",
       "      <td>Sun</td>\n",
       "      <td>Dinner</td>\n",
       "      <td>3</td>\n",
       "      <td>0.199886</td>\n",
       "      <td>17.51</td>\n",
       "    </tr>\n",
       "    <tr>\n",
       "      <th>3</th>\n",
       "      <td>23.68</td>\n",
       "      <td>3.31</td>\n",
       "      <td>Male</td>\n",
       "      <td>No</td>\n",
       "      <td>Sun</td>\n",
       "      <td>Dinner</td>\n",
       "      <td>2</td>\n",
       "      <td>0.162494</td>\n",
       "      <td>20.37</td>\n",
       "    </tr>\n",
       "    <tr>\n",
       "      <th>4</th>\n",
       "      <td>24.59</td>\n",
       "      <td>3.61</td>\n",
       "      <td>Female</td>\n",
       "      <td>No</td>\n",
       "      <td>Sun</td>\n",
       "      <td>Dinner</td>\n",
       "      <td>4</td>\n",
       "      <td>0.172069</td>\n",
       "      <td>20.98</td>\n",
       "    </tr>\n",
       "  </tbody>\n",
       "</table>\n",
       "</div>"
      ],
      "text/plain": [
       "   total_bill   tip     sex smoker  day    time  size   tip_pct  net_bill\n",
       "0       16.99  1.01  Female     No  Sun  Dinner     2  0.063204     15.98\n",
       "1       10.34  1.66    Male     No  Sun  Dinner     3  0.191244      8.68\n",
       "2       21.01  3.50    Male     No  Sun  Dinner     3  0.199886     17.51\n",
       "3       23.68  3.31    Male     No  Sun  Dinner     2  0.162494     20.37\n",
       "4       24.59  3.61  Female     No  Sun  Dinner     4  0.172069     20.98"
      ]
     },
     "execution_count": 2,
     "metadata": {},
     "output_type": "execute_result"
    }
   ],
   "source": [
    "tips = load_dataset(\"tips\")\n",
    "tips['tip_pct'] = tips['tip'] / (tips['total_bill'] - tips['tip'])\n",
    "tips['net_bill'] = tips['total_bill'] - tips['tip']\n",
    "tips.head()"
   ]
  },
  {
   "cell_type": "code",
   "execution_count": 3,
   "metadata": {},
   "outputs": [],
   "source": [
    "# removing outlier after firts analysis cycle. It impact in results\n",
    "tips.drop(tips[tips['tip_pct'] > 0.5].index, inplace = True)"
   ]
  },
  {
   "cell_type": "code",
   "execution_count": 4,
   "metadata": {},
   "outputs": [
    {
     "data": {
      "text/plain": [
       "DesignMatrix with shape (242, 5)\n",
       "  Intercept  sex[T.Female]  smoker[T.No]  time[T.Dinner]  net_bill\n",
       "          1              1             1               1     15.98\n",
       "          1              0             1               1      8.68\n",
       "          1              0             1               1     17.51\n",
       "          1              0             1               1     20.37\n",
       "          1              1             1               1     20.98\n",
       "          1              0             1               1     20.58\n",
       "          1              0             1               1      6.77\n",
       "          1              0             1               1     23.76\n",
       "          1              0             1               1     13.08\n",
       "          1              0             1               1     11.55\n",
       "          1              0             1               1      8.56\n",
       "          1              1             1               1     30.26\n",
       "          1              0             1               1     13.85\n",
       "          1              0             1               1     15.43\n",
       "          1              1             1               1     11.81\n",
       "          1              0             1               1     17.66\n",
       "          1              1             1               1      8.66\n",
       "          1              0             1               1     12.58\n",
       "          1              1             1               1     13.47\n",
       "          1              0             1               1     17.30\n",
       "          1              0             1               1     13.84\n",
       "          1              1             1               1     17.54\n",
       "          1              1             1               1     13.54\n",
       "          1              0             1               1     31.84\n",
       "          1              0             1               1     16.64\n",
       "          1              0             1               1     15.47\n",
       "          1              0             1               1     11.37\n",
       "          1              0             1               1     10.69\n",
       "          1              0             1               1     17.40\n",
       "          1              1             1               1     16.65\n",
       "  [212 rows omitted]\n",
       "  Terms:\n",
       "    'Intercept' (column 0)\n",
       "    'sex' (column 1)\n",
       "    'smoker' (column 2)\n",
       "    'time' (column 3)\n",
       "    'net_bill' (column 4)\n",
       "  (to view full data, use np.asarray(this_obj))"
      ]
     },
     "execution_count": 4,
     "metadata": {},
     "output_type": "execute_result"
    }
   ],
   "source": [
    "#1. patsy matrice\n",
    "y, X = patsy.dmatrices('tip ~ sex + smoker + time + net_bill + 1', tips)\n",
    "X"
   ]
  },
  {
   "cell_type": "code",
   "execution_count": 5,
   "metadata": {},
   "outputs": [
    {
     "data": {
      "text/html": [
       "<table class=\"simpletable\">\n",
       "<caption>OLS Regression Results</caption>\n",
       "<tr>\n",
       "  <th>Dep. Variable:</th>           <td>tip</td>       <th>  R-squared:         </th> <td>   0.369</td>\n",
       "</tr>\n",
       "<tr>\n",
       "  <th>Model:</th>                   <td>OLS</td>       <th>  Adj. R-squared:    </th> <td>   0.358</td>\n",
       "</tr>\n",
       "<tr>\n",
       "  <th>Method:</th>             <td>Least Squares</td>  <th>  F-statistic:       </th> <td>   34.67</td>\n",
       "</tr>\n",
       "<tr>\n",
       "  <th>Date:</th>             <td>Sat, 08 Oct 2022</td> <th>  Prob (F-statistic):</th> <td>8.79e-23</td>\n",
       "</tr>\n",
       "<tr>\n",
       "  <th>Time:</th>                 <td>14:13:57</td>     <th>  Log-Likelihood:    </th> <td> -365.24</td>\n",
       "</tr>\n",
       "<tr>\n",
       "  <th>No. Observations:</th>      <td>   242</td>      <th>  AIC:               </th> <td>   740.5</td>\n",
       "</tr>\n",
       "<tr>\n",
       "  <th>Df Residuals:</th>          <td>   237</td>      <th>  BIC:               </th> <td>   757.9</td>\n",
       "</tr>\n",
       "<tr>\n",
       "  <th>Df Model:</th>              <td>     4</td>      <th>                     </th>     <td> </td>   \n",
       "</tr>\n",
       "<tr>\n",
       "  <th>Covariance Type:</th>      <td>nonrobust</td>    <th>                     </th>     <td> </td>   \n",
       "</tr>\n",
       "</table>\n",
       "<table class=\"simpletable\">\n",
       "<tr>\n",
       "         <td></td>           <th>coef</th>     <th>std err</th>      <th>t</th>      <th>P>|t|</th>  <th>[0.025</th>    <th>0.975]</th>  \n",
       "</tr>\n",
       "<tr>\n",
       "  <th>Intercept</th>      <td>    1.0593</td> <td>    0.238</td> <td>    4.446</td> <td> 0.000</td> <td>    0.590</td> <td>    1.529</td>\n",
       "</tr>\n",
       "<tr>\n",
       "  <th>sex[T.Female]</th>  <td>   -0.0005</td> <td>    0.153</td> <td>   -0.003</td> <td> 0.997</td> <td>   -0.302</td> <td>    0.301</td>\n",
       "</tr>\n",
       "<tr>\n",
       "  <th>smoker[T.No]</th>   <td>    0.2143</td> <td>    0.148</td> <td>    1.450</td> <td> 0.148</td> <td>   -0.077</td> <td>    0.505</td>\n",
       "</tr>\n",
       "<tr>\n",
       "  <th>time[T.Dinner]</th> <td>    0.0079</td> <td>    0.164</td> <td>    0.048</td> <td> 0.962</td> <td>   -0.315</td> <td>    0.331</td>\n",
       "</tr>\n",
       "<tr>\n",
       "  <th>net_bill</th>       <td>    0.1058</td> <td>    0.009</td> <td>   11.483</td> <td> 0.000</td> <td>    0.088</td> <td>    0.124</td>\n",
       "</tr>\n",
       "</table>\n",
       "<table class=\"simpletable\">\n",
       "<tr>\n",
       "  <th>Omnibus:</th>       <td>31.112</td> <th>  Durbin-Watson:     </th> <td>   2.112</td>\n",
       "</tr>\n",
       "<tr>\n",
       "  <th>Prob(Omnibus):</th> <td> 0.000</td> <th>  Jarque-Bera (JB):  </th> <td>  57.889</td>\n",
       "</tr>\n",
       "<tr>\n",
       "  <th>Skew:</th>          <td> 0.682</td> <th>  Prob(JB):          </th> <td>2.69e-13</td>\n",
       "</tr>\n",
       "<tr>\n",
       "  <th>Kurtosis:</th>      <td> 4.969</td> <th>  Cond. No.          </th> <td>    71.6</td>\n",
       "</tr>\n",
       "</table><br/><br/>Notes:<br/>[1] Standard Errors assume that the covariance matrix of the errors is correctly specified."
      ],
      "text/plain": [
       "<class 'statsmodels.iolib.summary.Summary'>\n",
       "\"\"\"\n",
       "                            OLS Regression Results                            \n",
       "==============================================================================\n",
       "Dep. Variable:                    tip   R-squared:                       0.369\n",
       "Model:                            OLS   Adj. R-squared:                  0.358\n",
       "Method:                 Least Squares   F-statistic:                     34.67\n",
       "Date:                Sat, 08 Oct 2022   Prob (F-statistic):           8.79e-23\n",
       "Time:                        14:13:57   Log-Likelihood:                -365.24\n",
       "No. Observations:                 242   AIC:                             740.5\n",
       "Df Residuals:                     237   BIC:                             757.9\n",
       "Df Model:                           4                                         \n",
       "Covariance Type:            nonrobust                                         \n",
       "==================================================================================\n",
       "                     coef    std err          t      P>|t|      [0.025      0.975]\n",
       "----------------------------------------------------------------------------------\n",
       "Intercept          1.0593      0.238      4.446      0.000       0.590       1.529\n",
       "sex[T.Female]     -0.0005      0.153     -0.003      0.997      -0.302       0.301\n",
       "smoker[T.No]       0.2143      0.148      1.450      0.148      -0.077       0.505\n",
       "time[T.Dinner]     0.0079      0.164      0.048      0.962      -0.315       0.331\n",
       "net_bill           0.1058      0.009     11.483      0.000       0.088       0.124\n",
       "==============================================================================\n",
       "Omnibus:                       31.112   Durbin-Watson:                   2.112\n",
       "Prob(Omnibus):                  0.000   Jarque-Bera (JB):               57.889\n",
       "Skew:                           0.682   Prob(JB):                     2.69e-13\n",
       "Kurtosis:                       4.969   Cond. No.                         71.6\n",
       "==============================================================================\n",
       "\n",
       "Notes:\n",
       "[1] Standard Errors assume that the covariance matrix of the errors is correctly specified.\n",
       "\"\"\""
      ]
     },
     "execution_count": 5,
     "metadata": {},
     "output_type": "execute_result"
    }
   ],
   "source": [
    "modelo = sm.OLS(y,X).fit()\n",
    "modelo.summary()"
   ]
  },
  {
   "cell_type": "code",
   "execution_count": 6,
   "metadata": {},
   "outputs": [
    {
     "data": {
      "text/plain": [
       "DesignMatrix with shape (242, 2)\n",
       "  Intercept  net_bill\n",
       "          1     15.98\n",
       "          1      8.68\n",
       "          1     17.51\n",
       "          1     20.37\n",
       "          1     20.98\n",
       "          1     20.58\n",
       "          1      6.77\n",
       "          1     23.76\n",
       "          1     13.08\n",
       "          1     11.55\n",
       "          1      8.56\n",
       "          1     30.26\n",
       "          1     13.85\n",
       "          1     15.43\n",
       "          1     11.81\n",
       "          1     17.66\n",
       "          1      8.66\n",
       "          1     12.58\n",
       "          1     13.47\n",
       "          1     17.30\n",
       "          1     13.84\n",
       "          1     17.54\n",
       "          1     13.54\n",
       "          1     31.84\n",
       "          1     16.64\n",
       "          1     15.47\n",
       "          1     11.37\n",
       "          1     10.69\n",
       "          1     17.40\n",
       "          1     16.65\n",
       "  [212 rows omitted]\n",
       "  Terms:\n",
       "    'Intercept' (column 0)\n",
       "    'net_bill' (column 1)\n",
       "  (to view full data, use np.asarray(this_obj))"
      ]
     },
     "execution_count": 6,
     "metadata": {},
     "output_type": "execute_result"
    }
   ],
   "source": [
    "#2. removing no meaningful variables\n",
    "y, X = patsy.dmatrices('tip ~ net_bill + 1', tips)\n",
    "X"
   ]
  },
  {
   "cell_type": "code",
   "execution_count": 7,
   "metadata": {},
   "outputs": [
    {
     "data": {
      "text/html": [
       "<table class=\"simpletable\">\n",
       "<caption>OLS Regression Results</caption>\n",
       "<tr>\n",
       "  <th>Dep. Variable:</th>           <td>tip</td>       <th>  R-squared:         </th> <td>   0.364</td>\n",
       "</tr>\n",
       "<tr>\n",
       "  <th>Model:</th>                   <td>OLS</td>       <th>  Adj. R-squared:    </th> <td>   0.361</td>\n",
       "</tr>\n",
       "<tr>\n",
       "  <th>Method:</th>             <td>Least Squares</td>  <th>  F-statistic:       </th> <td>   137.1</td>\n",
       "</tr>\n",
       "<tr>\n",
       "  <th>Date:</th>             <td>Sun, 11 Sep 2022</td> <th>  Prob (F-statistic):</th> <td>2.41e-25</td>\n",
       "</tr>\n",
       "<tr>\n",
       "  <th>Time:</th>                 <td>19:30:46</td>     <th>  Log-Likelihood:    </th> <td> -366.31</td>\n",
       "</tr>\n",
       "<tr>\n",
       "  <th>No. Observations:</th>      <td>   242</td>      <th>  AIC:               </th> <td>   736.6</td>\n",
       "</tr>\n",
       "<tr>\n",
       "  <th>Df Residuals:</th>          <td>   240</td>      <th>  BIC:               </th> <td>   743.6</td>\n",
       "</tr>\n",
       "<tr>\n",
       "  <th>Df Model:</th>              <td>     1</td>      <th>                     </th>     <td> </td>   \n",
       "</tr>\n",
       "<tr>\n",
       "  <th>Covariance Type:</th>      <td>nonrobust</td>    <th>                     </th>     <td> </td>   \n",
       "</tr>\n",
       "</table>\n",
       "<table class=\"simpletable\">\n",
       "<tr>\n",
       "      <td></td>         <th>coef</th>     <th>std err</th>      <th>t</th>      <th>P>|t|</th>  <th>[0.025</th>    <th>0.975]</th>  \n",
       "</tr>\n",
       "<tr>\n",
       "  <th>Intercept</th> <td>    1.2219</td> <td>    0.166</td> <td>    7.339</td> <td> 0.000</td> <td>    0.894</td> <td>    1.550</td>\n",
       "</tr>\n",
       "<tr>\n",
       "  <th>net_bill</th>  <td>    0.1044</td> <td>    0.009</td> <td>   11.708</td> <td> 0.000</td> <td>    0.087</td> <td>    0.122</td>\n",
       "</tr>\n",
       "</table>\n",
       "<table class=\"simpletable\">\n",
       "<tr>\n",
       "  <th>Omnibus:</th>       <td>27.459</td> <th>  Durbin-Watson:     </th> <td>   2.108</td>\n",
       "</tr>\n",
       "<tr>\n",
       "  <th>Prob(Omnibus):</th> <td> 0.000</td> <th>  Jarque-Bera (JB):  </th> <td>  50.674</td>\n",
       "</tr>\n",
       "<tr>\n",
       "  <th>Skew:</th>          <td> 0.610</td> <th>  Prob(JB):          </th> <td>9.92e-12</td>\n",
       "</tr>\n",
       "<tr>\n",
       "  <th>Kurtosis:</th>      <td> 4.881</td> <th>  Cond. No.          </th> <td>    43.9</td>\n",
       "</tr>\n",
       "</table><br/><br/>Notes:<br/>[1] Standard Errors assume that the covariance matrix of the errors is correctly specified."
      ],
      "text/plain": [
       "<class 'statsmodels.iolib.summary.Summary'>\n",
       "\"\"\"\n",
       "                            OLS Regression Results                            \n",
       "==============================================================================\n",
       "Dep. Variable:                    tip   R-squared:                       0.364\n",
       "Model:                            OLS   Adj. R-squared:                  0.361\n",
       "Method:                 Least Squares   F-statistic:                     137.1\n",
       "Date:                Sun, 11 Sep 2022   Prob (F-statistic):           2.41e-25\n",
       "Time:                        19:30:46   Log-Likelihood:                -366.31\n",
       "No. Observations:                 242   AIC:                             736.6\n",
       "Df Residuals:                     240   BIC:                             743.6\n",
       "Df Model:                           1                                         \n",
       "Covariance Type:            nonrobust                                         \n",
       "==============================================================================\n",
       "                 coef    std err          t      P>|t|      [0.025      0.975]\n",
       "------------------------------------------------------------------------------\n",
       "Intercept      1.2219      0.166      7.339      0.000       0.894       1.550\n",
       "net_bill       0.1044      0.009     11.708      0.000       0.087       0.122\n",
       "==============================================================================\n",
       "Omnibus:                       27.459   Durbin-Watson:                   2.108\n",
       "Prob(Omnibus):                  0.000   Jarque-Bera (JB):               50.674\n",
       "Skew:                           0.610   Prob(JB):                     9.92e-12\n",
       "Kurtosis:                       4.881   Cond. No.                         43.9\n",
       "==============================================================================\n",
       "\n",
       "Notes:\n",
       "[1] Standard Errors assume that the covariance matrix of the errors is correctly specified.\n",
       "\"\"\""
      ]
     },
     "execution_count": 7,
     "metadata": {},
     "output_type": "execute_result"
    }
   ],
   "source": [
    "modelo = sm.OLS(y,X).fit()\n",
    "modelo.summary()"
   ]
  },
  {
   "cell_type": "code",
   "execution_count": 7,
   "metadata": {},
   "outputs": [
    {
     "data": {
      "text/plain": [
       "<matplotlib.lines.Line2D at 0x10494e7d0d0>"
      ]
     },
     "execution_count": 7,
     "metadata": {},
     "output_type": "execute_result"
    },
    {
     "data": {
      "image/png": "[encoded data removed]",
      "text/plain": [
       "<Figure size 432x288 with 1 Axes>"
      ]
     },
     "metadata": {
      "needs_background": "light"
     },
     "output_type": "display_data"
    }
   ],
   "source": [
    "#3. residual chart\n",
    "tips['res'] = modelo.resid\n",
    "\n",
    "sns.scatterplot(x = 'net_bill', y = 'res', data = tips, alpha = .75)\n",
    "plt.axhline(y=0, color='r', linestyle='--')"
   ]
  },
  {
   "cell_type": "code",
   "execution_count": 9,
   "metadata": {},
   "outputs": [
    {
     "name": "stdout",
     "output_type": "stream",
     "text": [
      "                            OLS Regression Results                            \n",
      "==============================================================================\n",
      "Dep. Variable:                    tip   R-squared:                       0.367\n",
      "Model:                            OLS   Adj. R-squared:                  0.365\n",
      "Method:                 Least Squares   F-statistic:                     139.4\n",
      "Date:                Sat, 08 Oct 2022   Prob (F-statistic):           1.13e-25\n",
      "Time:                        14:15:23   Log-Likelihood:                -365.56\n",
      "No. Observations:                 242   AIC:                             735.1\n",
      "Df Residuals:                     240   BIC:                             742.1\n",
      "Df Model:                           1                                         \n",
      "Covariance Type:            nonrobust                                         \n",
      "====================================================================================\n",
      "                       coef    std err          t      P>|t|      [0.025      0.975]\n",
      "------------------------------------------------------------------------------------\n",
      "Intercept           -1.9851      0.427     -4.651      0.000      -2.826      -1.144\n",
      "np.log(net_bill)     1.8248      0.155     11.808      0.000       1.520       2.129\n",
      "==============================================================================\n",
      "Omnibus:                       46.523   Durbin-Watson:                   2.022\n",
      "Prob(Omnibus):                  0.000   Jarque-Bera (JB):              112.909\n",
      "Skew:                           0.881   Prob(JB):                     3.04e-25\n",
      "Kurtosis:                       5.844   Cond. No.                         18.8\n",
      "==============================================================================\n",
      "\n",
      "Notes:\n",
      "[1] Standard Errors assume that the covariance matrix of the errors is correctly specified.\n"
     ]
    },
    {
     "data": {
      "text/plain": [
       "<matplotlib.lines.Line2D at 0x10494fcd7c0>"
      ]
     },
     "execution_count": 9,
     "metadata": {},
     "output_type": "execute_result"
    },
    {
     "data": {
      "image/png": "[encoded data removed]",
      "text/plain": [
       "<Figure size 432x288 with 1 Axes>"
      ]
     },
     "metadata": {
      "needs_background": "light"
     },
     "output_type": "display_data"
    }
   ],
   "source": [
    "#4. net_bill in log\n",
    "modelo2 = smf.ols('tip ~ np.log(net_bill)', data = tips).fit()\n",
    "print(modelo2.summary())\n",
    "\n",
    "tips['res'] = modelo2.resid\n",
    "\n",
    "sns.scatterplot(x = 'net_bill', y = 'res', data = tips, alpha = .75)\n",
    "plt.axhline(y=0, color='r', linestyle='--')"
   ]
  },
  {
   "cell_type": "code",
   "execution_count": 10,
   "metadata": {},
   "outputs": [
    {
     "name": "stdout",
     "output_type": "stream",
     "text": [
      "                            OLS Regression Results                            \n",
      "==============================================================================\n",
      "Dep. Variable:                    tip   R-squared:                       0.317\n",
      "Model:                            OLS   Adj. R-squared:                  0.314\n",
      "Method:                 Least Squares   F-statistic:                     111.2\n",
      "Date:                Sat, 08 Oct 2022   Prob (F-statistic):           1.30e-21\n",
      "Time:                        14:15:34   Log-Likelihood:                -374.91\n",
      "No. Observations:                 242   AIC:                             753.8\n",
      "Df Residuals:                     240   BIC:                             760.8\n",
      "Df Model:                           1                                         \n",
      "Covariance Type:            nonrobust                                         \n",
      "=========================================================================================\n",
      "                            coef    std err          t      P>|t|      [0.025      0.975]\n",
      "-----------------------------------------------------------------------------------------\n",
      "Intercept                 2.2202      0.103     21.494      0.000       2.017       2.424\n",
      "np.power(net_bill, 2)     0.0022      0.000     10.546      0.000       0.002       0.003\n",
      "==============================================================================\n",
      "Omnibus:                       21.866   Durbin-Watson:                   2.177\n",
      "Prob(Omnibus):                  0.000   Jarque-Bera (JB):               31.936\n",
      "Skew:                           0.579   Prob(JB):                     1.16e-07\n",
      "Kurtosis:                       4.351   Cond. No.                         698.\n",
      "==============================================================================\n",
      "\n",
      "Notes:\n",
      "[1] Standard Errors assume that the covariance matrix of the errors is correctly specified.\n"
     ]
    },
    {
     "data": {
      "text/plain": [
       "<matplotlib.lines.Line2D at 0x10495022190>"
      ]
     },
     "execution_count": 10,
     "metadata": {},
     "output_type": "execute_result"
    },
    {
     "data": {
      "image/png": "[encoded data removed]",
      "text/plain": [
       "<Figure size 432x288 with 1 Axes>"
      ]
     },
     "metadata": {
      "needs_background": "light"
     },
     "output_type": "display_data"
    }
   ],
   "source": [
    "#4. net_bill in polynomial\n",
    "modelo3 = smf.ols('tip ~ np.power(net_bill, 2)', data = tips).fit()\n",
    "print(modelo3.summary())\n",
    "\n",
    "tips['res'] = modelo3.resid\n",
    "\n",
    "sns.scatterplot(x = 'net_bill', y = 'res', data = tips, alpha = .75)\n",
    "plt.axhline(y=0, color='r', linestyle='--')"
   ]
  },
  {
   "cell_type": "markdown",
   "metadata": {},
   "source": [
    "<span style=\"color:blue\">O modelo3 (polinônio) apresenta o melhor R² e uma distribuição mais uniforme dos resíduos<p>"
   ]
  },
  {
   "cell_type": "code",
   "execution_count": null,
   "metadata": {},
   "outputs": [],
   "source": []
  },
  {
   "cell_type": "markdown",
   "metadata": {},
   "source": [
    "### II. Modelo no valor do percentual da gorjeta\n",
    "<span style=\"color:red\">(esse item ficou confuso, pois o título refere-se a variável percentual da gorjeta (tip_pct) e abaixo está escrito tip)<p>\n",
    "\n",
    "1. Crie a matriz de design (e a matriz y) utilizando o Patsy, para um modelo no log de tip, explicado por ```sex, smoker, diner e net_bill```.\n",
    "2. Remova as variáveis não significantes.\n",
    "3. Observe o gráfico de resíduos em função de ```net_bill```\n",
    "4. Teste transformar ```net_bill``` no log e um polinômio. Escolha o melhor modelo.\n",
    "5. Do modelo final deste item, calcule o $R^2$ na escala de ```tip``` (sem o log). Compare com o modelo do item 1. Qual tem melhor coeficiente de determinação?"
   ]
  },
  {
   "cell_type": "code",
   "execution_count": 11,
   "metadata": {},
   "outputs": [
    {
     "data": {
      "text/plain": [
       "DesignMatrix with shape (242, 5)\n",
       "  Intercept  sex[T.Female]  smoker[T.No]  time[T.Dinner]  net_bill\n",
       "          1              1             1               1     15.98\n",
       "          1              0             1               1      8.68\n",
       "          1              0             1               1     17.51\n",
       "          1              0             1               1     20.37\n",
       "          1              1             1               1     20.98\n",
       "          1              0             1               1     20.58\n",
       "          1              0             1               1      6.77\n",
       "          1              0             1               1     23.76\n",
       "          1              0             1               1     13.08\n",
       "          1              0             1               1     11.55\n",
       "          1              0             1               1      8.56\n",
       "          1              1             1               1     30.26\n",
       "          1              0             1               1     13.85\n",
       "          1              0             1               1     15.43\n",
       "          1              1             1               1     11.81\n",
       "          1              0             1               1     17.66\n",
       "          1              1             1               1      8.66\n",
       "          1              0             1               1     12.58\n",
       "          1              1             1               1     13.47\n",
       "          1              0             1               1     17.30\n",
       "          1              0             1               1     13.84\n",
       "          1              1             1               1     17.54\n",
       "          1              1             1               1     13.54\n",
       "          1              0             1               1     31.84\n",
       "          1              0             1               1     16.64\n",
       "          1              0             1               1     15.47\n",
       "          1              0             1               1     11.37\n",
       "          1              0             1               1     10.69\n",
       "          1              0             1               1     17.40\n",
       "          1              1             1               1     16.65\n",
       "  [212 rows omitted]\n",
       "  Terms:\n",
       "    'Intercept' (column 0)\n",
       "    'sex' (column 1)\n",
       "    'smoker' (column 2)\n",
       "    'time' (column 3)\n",
       "    'net_bill' (column 4)\n",
       "  (to view full data, use np.asarray(this_obj))"
      ]
     },
     "execution_count": 11,
     "metadata": {},
     "output_type": "execute_result"
    }
   ],
   "source": [
    "new_y, new_X = patsy.dmatrices('np.log(tip_pct) ~ sex + smoker + time + net_bill + 1', tips)\n",
    "new_X"
   ]
  },
  {
   "cell_type": "code",
   "execution_count": 12,
   "metadata": {},
   "outputs": [
    {
     "data": {
      "text/html": [
       "<table class=\"simpletable\">\n",
       "<caption>OLS Regression Results</caption>\n",
       "<tr>\n",
       "  <th>Dep. Variable:</th>     <td>np.log(tip_pct)</td> <th>  R-squared:         </th> <td>   0.228</td>\n",
       "</tr>\n",
       "<tr>\n",
       "  <th>Model:</th>                   <td>OLS</td>       <th>  Adj. R-squared:    </th> <td>   0.215</td>\n",
       "</tr>\n",
       "<tr>\n",
       "  <th>Method:</th>             <td>Least Squares</td>  <th>  F-statistic:       </th> <td>   17.48</td>\n",
       "</tr>\n",
       "<tr>\n",
       "  <th>Date:</th>             <td>Sat, 08 Oct 2022</td> <th>  Prob (F-statistic):</th> <td>1.38e-12</td>\n",
       "</tr>\n",
       "<tr>\n",
       "  <th>Time:</th>                 <td>14:19:08</td>     <th>  Log-Likelihood:    </th> <td> -80.880</td>\n",
       "</tr>\n",
       "<tr>\n",
       "  <th>No. Observations:</th>      <td>   242</td>      <th>  AIC:               </th> <td>   171.8</td>\n",
       "</tr>\n",
       "<tr>\n",
       "  <th>Df Residuals:</th>          <td>   237</td>      <th>  BIC:               </th> <td>   189.2</td>\n",
       "</tr>\n",
       "<tr>\n",
       "  <th>Df Model:</th>              <td>     4</td>      <th>                     </th>     <td> </td>   \n",
       "</tr>\n",
       "<tr>\n",
       "  <th>Covariance Type:</th>      <td>nonrobust</td>    <th>                     </th>     <td> </td>   \n",
       "</tr>\n",
       "</table>\n",
       "<table class=\"simpletable\">\n",
       "<tr>\n",
       "         <td></td>           <th>coef</th>     <th>std err</th>      <th>t</th>      <th>P>|t|</th>  <th>[0.025</th>    <th>0.975]</th>  \n",
       "</tr>\n",
       "<tr>\n",
       "  <th>Intercept</th>      <td>   -1.3700</td> <td>    0.074</td> <td>  -18.620</td> <td> 0.000</td> <td>   -1.515</td> <td>   -1.225</td>\n",
       "</tr>\n",
       "<tr>\n",
       "  <th>sex[T.Female]</th>  <td>    0.0216</td> <td>    0.047</td> <td>    0.457</td> <td> 0.648</td> <td>   -0.071</td> <td>    0.115</td>\n",
       "</tr>\n",
       "<tr>\n",
       "  <th>smoker[T.No]</th>   <td>    0.0359</td> <td>    0.046</td> <td>    0.787</td> <td> 0.432</td> <td>   -0.054</td> <td>    0.126</td>\n",
       "</tr>\n",
       "<tr>\n",
       "  <th>time[T.Dinner]</th> <td>   -0.0107</td> <td>    0.051</td> <td>   -0.211</td> <td> 0.833</td> <td>   -0.111</td> <td>    0.089</td>\n",
       "</tr>\n",
       "<tr>\n",
       "  <th>net_bill</th>       <td>   -0.0224</td> <td>    0.003</td> <td>   -7.862</td> <td> 0.000</td> <td>   -0.028</td> <td>   -0.017</td>\n",
       "</tr>\n",
       "</table>\n",
       "<table class=\"simpletable\">\n",
       "<tr>\n",
       "  <th>Omnibus:</th>       <td> 7.672</td> <th>  Durbin-Watson:     </th> <td>   1.915</td>\n",
       "</tr>\n",
       "<tr>\n",
       "  <th>Prob(Omnibus):</th> <td> 0.022</td> <th>  Jarque-Bera (JB):  </th> <td>   8.077</td>\n",
       "</tr>\n",
       "<tr>\n",
       "  <th>Skew:</th>          <td>-0.331</td> <th>  Prob(JB):          </th> <td>  0.0176</td>\n",
       "</tr>\n",
       "<tr>\n",
       "  <th>Kurtosis:</th>      <td> 3.602</td> <th>  Cond. No.          </th> <td>    71.6</td>\n",
       "</tr>\n",
       "</table><br/><br/>Notes:<br/>[1] Standard Errors assume that the covariance matrix of the errors is correctly specified."
      ],
      "text/plain": [
       "<class 'statsmodels.iolib.summary.Summary'>\n",
       "\"\"\"\n",
       "                            OLS Regression Results                            \n",
       "==============================================================================\n",
       "Dep. Variable:        np.log(tip_pct)   R-squared:                       0.228\n",
       "Model:                            OLS   Adj. R-squared:                  0.215\n",
       "Method:                 Least Squares   F-statistic:                     17.48\n",
       "Date:                Sat, 08 Oct 2022   Prob (F-statistic):           1.38e-12\n",
       "Time:                        14:19:08   Log-Likelihood:                -80.880\n",
       "No. Observations:                 242   AIC:                             171.8\n",
       "Df Residuals:                     237   BIC:                             189.2\n",
       "Df Model:                           4                                         \n",
       "Covariance Type:            nonrobust                                         \n",
       "==================================================================================\n",
       "                     coef    std err          t      P>|t|      [0.025      0.975]\n",
       "----------------------------------------------------------------------------------\n",
       "Intercept         -1.3700      0.074    -18.620      0.000      -1.515      -1.225\n",
       "sex[T.Female]      0.0216      0.047      0.457      0.648      -0.071       0.115\n",
       "smoker[T.No]       0.0359      0.046      0.787      0.432      -0.054       0.126\n",
       "time[T.Dinner]    -0.0107      0.051     -0.211      0.833      -0.111       0.089\n",
       "net_bill          -0.0224      0.003     -7.862      0.000      -0.028      -0.017\n",
       "==============================================================================\n",
       "Omnibus:                        7.672   Durbin-Watson:                   1.915\n",
       "Prob(Omnibus):                  0.022   Jarque-Bera (JB):                8.077\n",
       "Skew:                          -0.331   Prob(JB):                       0.0176\n",
       "Kurtosis:                       3.602   Cond. No.                         71.6\n",
       "==============================================================================\n",
       "\n",
       "Notes:\n",
       "[1] Standard Errors assume that the covariance matrix of the errors is correctly specified.\n",
       "\"\"\""
      ]
     },
     "execution_count": 12,
     "metadata": {},
     "output_type": "execute_result"
    }
   ],
   "source": [
    "modelo4 = sm.OLS(new_y,new_X).fit()\n",
    "modelo4.summary()"
   ]
  },
  {
   "cell_type": "code",
   "execution_count": 13,
   "metadata": {},
   "outputs": [
    {
     "data": {
      "text/plain": [
       "DesignMatrix with shape (242, 2)\n",
       "  Intercept  net_bill\n",
       "          1     15.98\n",
       "          1      8.68\n",
       "          1     17.51\n",
       "          1     20.37\n",
       "          1     20.98\n",
       "          1     20.58\n",
       "          1      6.77\n",
       "          1     23.76\n",
       "          1     13.08\n",
       "          1     11.55\n",
       "          1      8.56\n",
       "          1     30.26\n",
       "          1     13.85\n",
       "          1     15.43\n",
       "          1     11.81\n",
       "          1     17.66\n",
       "          1      8.66\n",
       "          1     12.58\n",
       "          1     13.47\n",
       "          1     17.30\n",
       "          1     13.84\n",
       "          1     17.54\n",
       "          1     13.54\n",
       "          1     31.84\n",
       "          1     16.64\n",
       "          1     15.47\n",
       "          1     11.37\n",
       "          1     10.69\n",
       "          1     17.40\n",
       "          1     16.65\n",
       "  [212 rows omitted]\n",
       "  Terms:\n",
       "    'Intercept' (column 0)\n",
       "    'net_bill' (column 1)\n",
       "  (to view full data, use np.asarray(this_obj))"
      ]
     },
     "execution_count": 13,
     "metadata": {},
     "output_type": "execute_result"
    }
   ],
   "source": [
    "#2. removing no meaningful variables\n",
    "new_y, new_X = patsy.dmatrices('np.log(tip_pct) ~ net_bill + 1', tips)\n",
    "new_X"
   ]
  },
  {
   "cell_type": "code",
   "execution_count": 14,
   "metadata": {},
   "outputs": [
    {
     "data": {
      "text/html": [
       "<table class=\"simpletable\">\n",
       "<caption>OLS Regression Results</caption>\n",
       "<tr>\n",
       "  <th>Dep. Variable:</th>     <td>np.log(tip_pct)</td> <th>  R-squared:         </th> <td>   0.225</td>\n",
       "</tr>\n",
       "<tr>\n",
       "  <th>Model:</th>                   <td>OLS</td>       <th>  Adj. R-squared:    </th> <td>   0.222</td>\n",
       "</tr>\n",
       "<tr>\n",
       "  <th>Method:</th>             <td>Least Squares</td>  <th>  F-statistic:       </th> <td>   69.62</td>\n",
       "</tr>\n",
       "<tr>\n",
       "  <th>Date:</th>             <td>Sat, 08 Oct 2022</td> <th>  Prob (F-statistic):</th> <td>5.70e-15</td>\n",
       "</tr>\n",
       "<tr>\n",
       "  <th>Time:</th>                 <td>14:20:02</td>     <th>  Log-Likelihood:    </th> <td> -81.349</td>\n",
       "</tr>\n",
       "<tr>\n",
       "  <th>No. Observations:</th>      <td>   242</td>      <th>  AIC:               </th> <td>   166.7</td>\n",
       "</tr>\n",
       "<tr>\n",
       "  <th>Df Residuals:</th>          <td>   240</td>      <th>  BIC:               </th> <td>   173.7</td>\n",
       "</tr>\n",
       "<tr>\n",
       "  <th>Df Model:</th>              <td>     1</td>      <th>                     </th>     <td> </td>   \n",
       "</tr>\n",
       "<tr>\n",
       "  <th>Covariance Type:</th>      <td>nonrobust</td>    <th>                     </th>     <td> </td>   \n",
       "</tr>\n",
       "</table>\n",
       "<table class=\"simpletable\">\n",
       "<tr>\n",
       "      <td></td>         <th>coef</th>     <th>std err</th>      <th>t</th>      <th>P>|t|</th>  <th>[0.025</th>    <th>0.975]</th>  \n",
       "</tr>\n",
       "<tr>\n",
       "  <th>Intercept</th> <td>   -1.3383</td> <td>    0.051</td> <td>  -26.095</td> <td> 0.000</td> <td>   -1.439</td> <td>   -1.237</td>\n",
       "</tr>\n",
       "<tr>\n",
       "  <th>net_bill</th>  <td>   -0.0229</td> <td>    0.003</td> <td>   -8.344</td> <td> 0.000</td> <td>   -0.028</td> <td>   -0.018</td>\n",
       "</tr>\n",
       "</table>\n",
       "<table class=\"simpletable\">\n",
       "<tr>\n",
       "  <th>Omnibus:</th>       <td> 8.210</td> <th>  Durbin-Watson:     </th> <td>   1.915</td>\n",
       "</tr>\n",
       "<tr>\n",
       "  <th>Prob(Omnibus):</th> <td> 0.016</td> <th>  Jarque-Bera (JB):  </th> <td>   8.483</td>\n",
       "</tr>\n",
       "<tr>\n",
       "  <th>Skew:</th>          <td>-0.362</td> <th>  Prob(JB):          </th> <td>  0.0144</td>\n",
       "</tr>\n",
       "<tr>\n",
       "  <th>Kurtosis:</th>      <td> 3.563</td> <th>  Cond. No.          </th> <td>    43.9</td>\n",
       "</tr>\n",
       "</table><br/><br/>Notes:<br/>[1] Standard Errors assume that the covariance matrix of the errors is correctly specified."
      ],
      "text/plain": [
       "<class 'statsmodels.iolib.summary.Summary'>\n",
       "\"\"\"\n",
       "                            OLS Regression Results                            \n",
       "==============================================================================\n",
       "Dep. Variable:        np.log(tip_pct)   R-squared:                       0.225\n",
       "Model:                            OLS   Adj. R-squared:                  0.222\n",
       "Method:                 Least Squares   F-statistic:                     69.62\n",
       "Date:                Sat, 08 Oct 2022   Prob (F-statistic):           5.70e-15\n",
       "Time:                        14:20:02   Log-Likelihood:                -81.349\n",
       "No. Observations:                 242   AIC:                             166.7\n",
       "Df Residuals:                     240   BIC:                             173.7\n",
       "Df Model:                           1                                         \n",
       "Covariance Type:            nonrobust                                         \n",
       "==============================================================================\n",
       "                 coef    std err          t      P>|t|      [0.025      0.975]\n",
       "------------------------------------------------------------------------------\n",
       "Intercept     -1.3383      0.051    -26.095      0.000      -1.439      -1.237\n",
       "net_bill      -0.0229      0.003     -8.344      0.000      -0.028      -0.018\n",
       "==============================================================================\n",
       "Omnibus:                        8.210   Durbin-Watson:                   1.915\n",
       "Prob(Omnibus):                  0.016   Jarque-Bera (JB):                8.483\n",
       "Skew:                          -0.362   Prob(JB):                       0.0144\n",
       "Kurtosis:                       3.563   Cond. No.                         43.9\n",
       "==============================================================================\n",
       "\n",
       "Notes:\n",
       "[1] Standard Errors assume that the covariance matrix of the errors is correctly specified.\n",
       "\"\"\""
      ]
     },
     "execution_count": 14,
     "metadata": {},
     "output_type": "execute_result"
    }
   ],
   "source": [
    "modelo4 = sm.OLS(new_y,new_X).fit()\n",
    "modelo4.summary()"
   ]
  },
  {
   "cell_type": "code",
   "execution_count": 15,
   "metadata": {},
   "outputs": [
    {
     "data": {
      "text/plain": [
       "<matplotlib.lines.Line2D at 0x104950b00a0>"
      ]
     },
     "execution_count": 15,
     "metadata": {},
     "output_type": "execute_result"
    },
    {
     "data": {
      "image/png": "[encoded data removed]",
      "text/plain": [
       "<Figure size 432x288 with 1 Axes>"
      ]
     },
     "metadata": {
      "needs_background": "light"
     },
     "output_type": "display_data"
    }
   ],
   "source": [
    "#3. residual chart\n",
    "tips['res'] = modelo4.resid\n",
    "\n",
    "sns.scatterplot(x = 'net_bill', y = 'res', data = tips, alpha = .75)\n",
    "plt.axhline(y=0, color='r', linestyle='--')"
   ]
  },
  {
   "cell_type": "code",
   "execution_count": 25,
   "metadata": {},
   "outputs": [
    {
     "name": "stdout",
     "output_type": "stream",
     "text": [
      "                            OLS Regression Results                            \n",
      "==============================================================================\n",
      "Dep. Variable:        np.log(tip_pct)   R-squared:                       0.230\n",
      "Model:                            OLS   Adj. R-squared:                  0.227\n",
      "Method:                 Least Squares   F-statistic:                     71.57\n",
      "Date:                Sat, 08 Oct 2022   Prob (F-statistic):           2.65e-15\n",
      "Time:                        14:27:38   Log-Likelihood:                -80.588\n",
      "No. Observations:                 242   AIC:                             165.2\n",
      "Df Residuals:                     240   BIC:                             172.2\n",
      "Df Model:                           1                                         \n",
      "Covariance Type:            nonrobust                                         \n",
      "====================================================================================\n",
      "                       coef    std err          t      P>|t|      [0.025      0.975]\n",
      "------------------------------------------------------------------------------------\n",
      "Intercept           -0.6285      0.131     -4.780      0.000      -0.887      -0.370\n",
      "np.log(net_bill)    -0.4027      0.048     -8.460      0.000      -0.496      -0.309\n",
      "==============================================================================\n",
      "Omnibus:                        8.926   Durbin-Watson:                   1.966\n",
      "Prob(Omnibus):                  0.012   Jarque-Bera (JB):                9.019\n",
      "Skew:                          -0.406   Prob(JB):                       0.0110\n",
      "Kurtosis:                       3.485   Cond. No.                         18.8\n",
      "==============================================================================\n",
      "\n",
      "Notes:\n",
      "[1] Standard Errors assume that the covariance matrix of the errors is correctly specified.\n"
     ]
    },
    {
     "data": {
      "text/plain": [
       "<matplotlib.lines.Line2D at 0x1049542c340>"
      ]
     },
     "execution_count": 25,
     "metadata": {},
     "output_type": "execute_result"
    },
    {
     "data": {
      "image/png": "[encoded data removed]",
      "text/plain": [
       "<Figure size 432x288 with 1 Axes>"
      ]
     },
     "metadata": {
      "needs_background": "light"
     },
     "output_type": "display_data"
    }
   ],
   "source": [
    "#4. net_bill in log\n",
    "modelo5 = smf.ols('np.log(tip_pct) ~ np.log(net_bill)', data = tips).fit()\n",
    "print(modelo5.summary())\n",
    "\n",
    "tips['res'] = modelo5.resid\n",
    "\n",
    "sns.scatterplot(x = 'net_bill', y = 'res', data = tips, alpha = .75)\n",
    "plt.axhline(y=0, color='r', linestyle='--')"
   ]
  },
  {
   "cell_type": "code",
   "execution_count": 24,
   "metadata": {},
   "outputs": [
    {
     "name": "stdout",
     "output_type": "stream",
     "text": [
      "                            OLS Regression Results                            \n",
      "==============================================================================\n",
      "Dep. Variable:        np.log(tip_pct)   R-squared:                       0.196\n",
      "Model:                            OLS   Adj. R-squared:                  0.193\n",
      "Method:                 Least Squares   F-statistic:                     58.47\n",
      "Date:                Sat, 08 Oct 2022   Prob (F-statistic):           4.97e-13\n",
      "Time:                        14:27:29   Log-Likelihood:                -85.787\n",
      "No. Observations:                 242   AIC:                             175.6\n",
      "Df Residuals:                     240   BIC:                             182.6\n",
      "Df Model:                           1                                         \n",
      "Covariance Type:            nonrobust                                         \n",
      "=========================================================================================\n",
      "                            coef    std err          t      P>|t|      [0.025      0.975]\n",
      "-----------------------------------------------------------------------------------------\n",
      "Intercept                -1.5574      0.031    -49.796      0.000      -1.619      -1.496\n",
      "np.power(net_bill, 2)    -0.0005    6.3e-05     -7.646      0.000      -0.001      -0.000\n",
      "==============================================================================\n",
      "Omnibus:                        9.917   Durbin-Watson:                   1.869\n",
      "Prob(Omnibus):                  0.007   Jarque-Bera (JB):               11.353\n",
      "Skew:                          -0.368   Prob(JB):                      0.00343\n",
      "Kurtosis:                       3.764   Cond. No.                         698.\n",
      "==============================================================================\n",
      "\n",
      "Notes:\n",
      "[1] Standard Errors assume that the covariance matrix of the errors is correctly specified.\n"
     ]
    },
    {
     "data": {
      "text/plain": [
       "<matplotlib.lines.Line2D at 0x104952a3d30>"
      ]
     },
     "execution_count": 24,
     "metadata": {},
     "output_type": "execute_result"
    },
    {
     "data": {
      "image/png": "[encoded data removed]",
      "text/plain": [
       "<Figure size 432x288 with 1 Axes>"
      ]
     },
     "metadata": {
      "needs_background": "light"
     },
     "output_type": "display_data"
    }
   ],
   "source": [
    "#4. net_bill in polynimial\n",
    "modelo6 = smf.ols('np.log(tip_pct) ~ np.power(net_bill, 2)', data = tips).fit()\n",
    "print(modelo6.summary())\n",
    "\n",
    "tips['res'] = modelo6.resid\n",
    "\n",
    "sns.scatterplot(x = 'net_bill', y = 'res', data = tips, alpha = .75)\n",
    "plt.axhline(y=0, color='r', linestyle='--')"
   ]
  },
  {
   "cell_type": "markdown",
   "metadata": {},
   "source": [
    "<span style=\"color:blue\">O modelo5 (log) apresenta o melhor R² e a distribuição dos resíduos para mod5 e mod6 é bem semelhante.<p>"
   ]
  },
  {
   "cell_type": "code",
   "execution_count": 23,
   "metadata": {},
   "outputs": [
    {
     "name": "stdout",
     "output_type": "stream",
     "text": [
      "                            OLS Regression Results                            \n",
      "==============================================================================\n",
      "Dep. Variable:                tip_pct   R-squared:                       0.154\n",
      "Model:                            OLS   Adj. R-squared:                  0.150\n",
      "Method:                 Least Squares   F-statistic:                     43.61\n",
      "Date:                Sat, 08 Oct 2022   Prob (F-statistic):           2.56e-10\n",
      "Time:                        14:26:36   Log-Likelihood:                 326.27\n",
      "No. Observations:                 242   AIC:                            -648.5\n",
      "Df Residuals:                     240   BIC:                            -641.6\n",
      "Df Model:                           1                                         \n",
      "Covariance Type:            nonrobust                                         \n",
      "=========================================================================================\n",
      "                            coef    std err          t      P>|t|      [0.025      0.975]\n",
      "-----------------------------------------------------------------------------------------\n",
      "Intercept                 0.2171      0.006     38.106      0.000       0.206       0.228\n",
      "np.power(net_bill, 2) -7.577e-05   1.15e-05     -6.603      0.000   -9.84e-05   -5.32e-05\n",
      "==============================================================================\n",
      "Omnibus:                       31.950   Durbin-Watson:                   1.947\n",
      "Prob(Omnibus):                  0.000   Jarque-Bera (JB):               44.955\n",
      "Skew:                           0.826   Prob(JB):                     1.73e-10\n",
      "Kurtosis:                       4.315   Cond. No.                         698.\n",
      "==============================================================================\n",
      "\n",
      "Notes:\n",
      "[1] Standard Errors assume that the covariance matrix of the errors is correctly specified.\n"
     ]
    },
    {
     "data": {
      "text/plain": [
       "<matplotlib.lines.Line2D at 0x10495365e20>"
      ]
     },
     "execution_count": 23,
     "metadata": {},
     "output_type": "execute_result"
    },
    {
     "data": {
      "image/png": "[encoded data removed]",
      "text/plain": [
       "<Figure size 432x288 with 1 Axes>"
      ]
     },
     "metadata": {
      "needs_background": "light"
     },
     "output_type": "display_data"
    }
   ],
   "source": [
    "#4. net_bill in polynimial\n",
    "modelo7 = smf.ols('tip_pct ~ np.power(net_bill, 2)', data = tips).fit()\n",
    "print(modelo7.summary())\n",
    "\n",
    "tips['res'] = modelo7.resid\n",
    "\n",
    "sns.scatterplot(x = 'net_bill', y = 'res', data = tips, alpha = .75)\n",
    "plt.axhline(y=0, color='r', linestyle='--')"
   ]
  },
  {
   "cell_type": "markdown",
   "metadata": {},
   "source": [
    "<span style=\"color:blue\">O modelo7 da variável tip_pct sem log apresenta o R² menor do que o modelo 5 do tip_pct com o log.<p>"
   ]
  },
  {
   "cell_type": "markdown",
   "metadata": {},
   "source": [
    "### III. Previsão de renda\n",
    "\n",
    "Vamos trabalhar a base que você vai usar no projeto do final deste ciclo.\n",
    "\n",
    "Carregue a base ```previsao_de_renda.csv```.\n",
    "\n",
    "|variavel|descrição|\n",
    "|-|-|\n",
    "|data_ref                | Data de referência de coleta das variáveis |\n",
    "|index                   | Código de identificação do cliente|\n",
    "|sexo                    | Sexo do cliente|\n",
    "|posse_de_veiculo        | Indica se o cliente possui veículo|\n",
    "|posse_de_imovel         | Indica se o cliente possui imóvel|\n",
    "|qtd_filhos              | Quantidade de filhos do cliente|\n",
    "|tipo_renda              | Tipo de renda do cliente|\n",
    "|educacao                | Grau de instrução do cliente|\n",
    "|estado_civil            | Estado civil do cliente|\n",
    "|tipo_residencia         | Tipo de residência do cliente (própria, alugada etc)|\n",
    "|idade                   | Idade do cliente|\n",
    "|tempo_emprego           | Tempo no emprego atual|\n",
    "|qt_pessoas_residencia   | Quantidade de pessoas que moram na residência|\n",
    "|renda                   | Renda em reais|\n",
    "\n",
    "1. Ajuste um modelo de regressão linear simples para explicar ```renda``` como variável resposta, por ```tempo_emprego``` como variável explicativa. Observe que há muitas observações nessa tabela. Utilize os recursos que achar necessário.\n",
    "2. Faça uma análise de resíduos. Com os recursos vistos neste módulo, como você melhoraria esta regressão?\n",
    "3. Ajuste um modelo de regressão linear múltipla para explicar ```renda``` (ou uma transformação de ```renda```) de acordo com as demais variáveis.\n",
    "4. Remova as variáveis não significantes e ajuste novamente o modelo. Interprete os parâmetros\n",
    "5. Faça uma análise de resíduos. Avalie a qualidade do ajuste."
   ]
  },
  {
   "cell_type": "code",
   "execution_count": 26,
   "metadata": {},
   "outputs": [
    {
     "data": {
      "text/html": [
       "<div>\n",
       "<style scoped>\n",
       "    .dataframe tbody tr th:only-of-type {\n",
       "        vertical-align: middle;\n",
       "    }\n",
       "\n",
       "    .dataframe tbody tr th {\n",
       "        vertical-align: top;\n",
       "    }\n",
       "\n",
       "    .dataframe thead th {\n",
       "        text-align: right;\n",
       "    }\n",
       "</style>\n",
       "<table border=\"1\" class=\"dataframe\">\n",
       "  <thead>\n",
       "    <tr style=\"text-align: right;\">\n",
       "      <th></th>\n",
       "      <th>Unnamed: 0</th>\n",
       "      <th>data_ref</th>\n",
       "      <th>index</th>\n",
       "      <th>sexo</th>\n",
       "      <th>posse_de_veiculo</th>\n",
       "      <th>posse_de_imovel</th>\n",
       "      <th>qtd_filhos</th>\n",
       "      <th>tipo_renda</th>\n",
       "      <th>educacao</th>\n",
       "      <th>estado_civil</th>\n",
       "      <th>tipo_residencia</th>\n",
       "      <th>idade</th>\n",
       "      <th>tempo_emprego</th>\n",
       "      <th>qt_pessoas_residencia</th>\n",
       "      <th>mau</th>\n",
       "      <th>renda</th>\n",
       "    </tr>\n",
       "  </thead>\n",
       "  <tbody>\n",
       "    <tr>\n",
       "      <th>0</th>\n",
       "      <td>0</td>\n",
       "      <td>2015-01-01</td>\n",
       "      <td>8682</td>\n",
       "      <td>F</td>\n",
       "      <td>False</td>\n",
       "      <td>True</td>\n",
       "      <td>1</td>\n",
       "      <td>Assalariado</td>\n",
       "      <td>Secundário</td>\n",
       "      <td>Casado</td>\n",
       "      <td>Casa</td>\n",
       "      <td>36</td>\n",
       "      <td>3.575342</td>\n",
       "      <td>3.0</td>\n",
       "      <td>False</td>\n",
       "      <td>3369.24</td>\n",
       "    </tr>\n",
       "    <tr>\n",
       "      <th>1</th>\n",
       "      <td>1</td>\n",
       "      <td>2015-01-01</td>\n",
       "      <td>12830</td>\n",
       "      <td>M</td>\n",
       "      <td>True</td>\n",
       "      <td>True</td>\n",
       "      <td>0</td>\n",
       "      <td>Empresário</td>\n",
       "      <td>Secundário</td>\n",
       "      <td>Casado</td>\n",
       "      <td>Casa</td>\n",
       "      <td>42</td>\n",
       "      <td>0.860274</td>\n",
       "      <td>2.0</td>\n",
       "      <td>False</td>\n",
       "      <td>6096.14</td>\n",
       "    </tr>\n",
       "    <tr>\n",
       "      <th>2</th>\n",
       "      <td>2</td>\n",
       "      <td>2015-01-01</td>\n",
       "      <td>2885</td>\n",
       "      <td>M</td>\n",
       "      <td>True</td>\n",
       "      <td>True</td>\n",
       "      <td>2</td>\n",
       "      <td>Assalariado</td>\n",
       "      <td>Superior completo</td>\n",
       "      <td>Casado</td>\n",
       "      <td>Casa</td>\n",
       "      <td>31</td>\n",
       "      <td>8.065753</td>\n",
       "      <td>4.0</td>\n",
       "      <td>False</td>\n",
       "      <td>5658.98</td>\n",
       "    </tr>\n",
       "    <tr>\n",
       "      <th>3</th>\n",
       "      <td>3</td>\n",
       "      <td>2015-01-01</td>\n",
       "      <td>16168</td>\n",
       "      <td>F</td>\n",
       "      <td>True</td>\n",
       "      <td>False</td>\n",
       "      <td>0</td>\n",
       "      <td>Empresário</td>\n",
       "      <td>Secundário</td>\n",
       "      <td>Casado</td>\n",
       "      <td>Casa</td>\n",
       "      <td>50</td>\n",
       "      <td>1.208219</td>\n",
       "      <td>2.0</td>\n",
       "      <td>False</td>\n",
       "      <td>7246.69</td>\n",
       "    </tr>\n",
       "    <tr>\n",
       "      <th>4</th>\n",
       "      <td>4</td>\n",
       "      <td>2015-01-01</td>\n",
       "      <td>12438</td>\n",
       "      <td>M</td>\n",
       "      <td>False</td>\n",
       "      <td>False</td>\n",
       "      <td>0</td>\n",
       "      <td>Assalariado</td>\n",
       "      <td>Secundário</td>\n",
       "      <td>Casado</td>\n",
       "      <td>Casa</td>\n",
       "      <td>52</td>\n",
       "      <td>13.873973</td>\n",
       "      <td>2.0</td>\n",
       "      <td>False</td>\n",
       "      <td>4017.37</td>\n",
       "    </tr>\n",
       "  </tbody>\n",
       "</table>\n",
       "</div>"
      ],
      "text/plain": [
       "   Unnamed: 0    data_ref  index sexo  posse_de_veiculo  posse_de_imovel  \\\n",
       "0           0  2015-01-01   8682    F             False             True   \n",
       "1           1  2015-01-01  12830    M              True             True   \n",
       "2           2  2015-01-01   2885    M              True             True   \n",
       "3           3  2015-01-01  16168    F              True            False   \n",
       "4           4  2015-01-01  12438    M             False            False   \n",
       "\n",
       "   qtd_filhos   tipo_renda           educacao estado_civil tipo_residencia  \\\n",
       "0           1  Assalariado         Secundário       Casado            Casa   \n",
       "1           0   Empresário         Secundário       Casado            Casa   \n",
       "2           2  Assalariado  Superior completo       Casado            Casa   \n",
       "3           0   Empresário         Secundário       Casado            Casa   \n",
       "4           0  Assalariado         Secundário       Casado            Casa   \n",
       "\n",
       "   idade  tempo_emprego  qt_pessoas_residencia    mau    renda  \n",
       "0     36       3.575342                    3.0  False  3369.24  \n",
       "1     42       0.860274                    2.0  False  6096.14  \n",
       "2     31       8.065753                    4.0  False  5658.98  \n",
       "3     50       1.208219                    2.0  False  7246.69  \n",
       "4     52      13.873973                    2.0  False  4017.37  "
      ]
     },
     "execution_count": 26,
     "metadata": {},
     "output_type": "execute_result"
    }
   ],
   "source": [
    "income_raw = pd.read_csv('previsao_de_renda.csv')\n",
    "income_raw.head()"
   ]
  },
  {
   "cell_type": "markdown",
   "metadata": {},
   "source": [
    "#### Item 1 e 2\n",
    "<span style=\"color:blue\">Os ajustes feitos por log e polinômio não melhoraram de forma significativa o modelo. A variável 'tempo_emprego' sozinha não é explicativa para o modelo.<p>"
   ]
  },
  {
   "cell_type": "code",
   "execution_count": 37,
   "metadata": {},
   "outputs": [
    {
     "name": "stdout",
     "output_type": "stream",
     "text": [
      "                            OLS Regression Results                            \n",
      "==============================================================================\n",
      "Dep. Variable:                  renda   R-squared:                       0.155\n",
      "Model:                            OLS   Adj. R-squared:                  0.155\n",
      "Method:                 Least Squares   F-statistic:                     2294.\n",
      "Date:                Sat, 08 Oct 2022   Prob (F-statistic):               0.00\n",
      "Time:                        14:49:51   Log-Likelihood:            -1.2249e+05\n",
      "No. Observations:               12466   AIC:                         2.450e+05\n",
      "Df Residuals:                   12464   BIC:                         2.450e+05\n",
      "Df Model:                           1                                         \n",
      "Covariance Type:            nonrobust                                         \n",
      "=================================================================================\n",
      "                    coef    std err          t      P>|t|      [0.025      0.975]\n",
      "---------------------------------------------------------------------------------\n",
      "Intercept      2653.9453     60.924     43.561      0.000    2534.525    2773.366\n",
      "tempo_emprego   283.3509      5.916     47.892      0.000     271.754     294.948\n",
      "==============================================================================\n",
      "Omnibus:                     9974.393   Durbin-Watson:                   2.016\n",
      "Prob(Omnibus):                  0.000   Jarque-Bera (JB):           387626.996\n",
      "Skew:                           3.561   Prob(JB):                         0.00\n",
      "Kurtosis:                      29.373   Cond. No.                         15.7\n",
      "==============================================================================\n",
      "\n",
      "Notes:\n",
      "[1] Standard Errors assume that the covariance matrix of the errors is correctly specified.\n"
     ]
    },
    {
     "data": {
      "text/plain": [
       "<matplotlib.lines.Line2D at 0x104977f21c0>"
      ]
     },
     "execution_count": 37,
     "metadata": {},
     "output_type": "execute_result"
    },
    {
     "data": {
      "image/png": "[encoded data removed]",
      "text/plain": [
       "<Figure size 432x288 with 1 Axes>"
      ]
     },
     "metadata": {
      "needs_background": "light"
     },
     "output_type": "display_data"
    }
   ],
   "source": [
    "model = smf.ols('renda ~ tempo_emprego', data = income_raw).fit()\n",
    "print(model.summary())\n",
    "\n",
    "income_raw['res'] = model.resid\n",
    "\n",
    "sns.scatterplot(x = 'renda', y = 'res', data = income_raw, alpha = .75)\n",
    "plt.axhline(y=0, color='r', linestyle='--')"
   ]
  },
  {
   "cell_type": "markdown",
   "metadata": {},
   "source": [
    "<span style=\"color:blue\">A distribuição do resíduo apresenta uma concentração e distribuição muito aguda do padrão. Podemos ver também os valores do R² muito baixo, o omnibus e kurtosis muito elevados, indicando que o modelo não é robusto.<p>"
   ]
  },
  {
   "cell_type": "code",
   "execution_count": 71,
   "metadata": {},
   "outputs": [
    {
     "name": "stdout",
     "output_type": "stream",
     "text": [
      "                            OLS Regression Results                            \n",
      "==============================================================================\n",
      "Dep. Variable:                  renda   R-squared:                       0.231\n",
      "Model:                            OLS   Adj. R-squared:                  0.230\n",
      "Method:                 Least Squares   F-statistic:                     287.2\n",
      "Date:                Sat, 08 Oct 2022   Prob (F-statistic):               0.00\n",
      "Time:                        15:46:31   Log-Likelihood:            -1.2191e+05\n",
      "No. Observations:               12466   AIC:                         2.438e+05\n",
      "Df Residuals:                   12452   BIC:                         2.439e+05\n",
      "Df Model:                          13                                         \n",
      "Covariance Type:            nonrobust                                         \n",
      "===================================================================================================\n",
      "                                      coef    std err          t      P>|t|      [0.025      0.975]\n",
      "---------------------------------------------------------------------------------------------------\n",
      "Intercept                        1011.8666    469.726      2.154      0.031      91.131    1932.602\n",
      "posse_de_imovel[T.True]           352.4531     80.961      4.353      0.000     193.756     511.150\n",
      "sexo[T.M]                        2363.8719     81.476     29.013      0.000    2204.166    2523.578\n",
      "educacao[T.Pós graduação]        2192.2727   1072.327      2.044      0.041      90.345    4294.200\n",
      "educacao[T.Secundário]            -50.0664    433.584     -0.115      0.908    -899.958     799.826\n",
      "educacao[T.Superior completo]     519.9609    435.157      1.195      0.232    -333.014    1372.936\n",
      "educacao[T.Superior incompleto]  -198.0542    466.411     -0.425      0.671   -1112.291     716.183\n",
      "tipo_renda[T.Bolsista]            114.5288   2140.368      0.054      0.957   -4080.924    4309.981\n",
      "tipo_renda[T.Empresário]         1016.3156     89.276     11.384      0.000     841.320    1191.311\n",
      "tipo_renda[T.Pensionista]        1940.2681   1427.200      1.359      0.174    -857.265    4737.801\n",
      "tipo_renda[T.Servidor público]    557.1843    128.928      4.322      0.000     304.465     809.904\n",
      "np.power(tempo_emprego, 2)         10.5728      0.207     51.027      0.000      10.167      10.979\n",
      "idade                              26.8962      4.611      5.833      0.000      17.859      35.934\n",
      "qtd_filhos                        107.5495     49.955      2.153      0.031       9.629     205.470\n",
      "==============================================================================\n",
      "Omnibus:                     9685.342   Durbin-Watson:                   2.020\n",
      "Prob(Omnibus):                  0.000   Jarque-Bera (JB):           363099.461\n",
      "Skew:                           3.412   Prob(JB):                         0.00\n",
      "Kurtosis:                      28.544   Cond. No.                     1.26e+04\n",
      "==============================================================================\n",
      "\n",
      "Notes:\n",
      "[1] Standard Errors assume that the covariance matrix of the errors is correctly specified.\n",
      "[2] The condition number is large, 1.26e+04. This might indicate that there are\n",
      "strong multicollinearity or other numerical problems.\n"
     ]
    },
    {
     "data": {
      "text/plain": [
       "<matplotlib.lines.Line2D at 0x10498667490>"
      ]
     },
     "execution_count": 71,
     "metadata": {},
     "output_type": "execute_result"
    },
    {
     "data": {
      "image/png": "[encoded data removed]",
      "text/plain": [
       "<Figure size 432x288 with 1 Axes>"
      ]
     },
     "metadata": {
      "needs_background": "light"
     },
     "output_type": "display_data"
    }
   ],
   "source": [
    "model1 = smf.ols('renda ~ np.power(tempo_emprego, 2) + idade + posse_de_imovel + sexo + educacao + tipo_renda + qtd_filhos', data = income_raw).fit()\n",
    "print(model1.summary())\n",
    "\n",
    "income_raw['res'] = model1.resid\n",
    "\n",
    "sns.scatterplot(x = 'renda', y = 'res', data = income_raw, alpha = .75)\n",
    "plt.axhline(y=0, color='r', linestyle='--')"
   ]
  },
  {
   "cell_type": "code",
   "execution_count": 98,
   "metadata": {},
   "outputs": [
    {
     "name": "stdout",
     "output_type": "stream",
     "text": [
      "                            OLS Regression Results                            \n",
      "==============================================================================\n",
      "Dep. Variable:                  renda   R-squared:                       0.248\n",
      "Model:                            OLS   Adj. R-squared:                  0.244\n",
      "Method:                 Least Squares   F-statistic:                     77.11\n",
      "Date:                Sat, 08 Oct 2022   Prob (F-statistic):               0.00\n",
      "Time:                        16:00:34   Log-Likelihood:            -1.2177e+05\n",
      "No. Observations:               12466   AIC:                         2.436e+05\n",
      "Df Residuals:                   12412   BIC:                         2.440e+05\n",
      "Df Model:                          53                                         \n",
      "Covariance Type:            nonrobust                                         \n",
      "==================================================================================================================================================================================\n",
      "                                                                                                                     coef    std err          t      P>|t|      [0.025      0.975]\n",
      "----------------------------------------------------------------------------------------------------------------------------------------------------------------------------------\n",
      "Intercept                                                                                                       2248.7848    293.337      7.666      0.000    1673.798    2823.771\n",
      "posse_de_imovel[T.True]                                                                                          363.0817    362.292      1.002      0.316    -347.068    1073.231\n",
      "sexo[T.M]                                                                                                       1636.8056    440.524      3.716      0.000     773.310    2500.301\n",
      "tipo_renda[T.Bolsista]                                                                                          1.007e-06   8.36e-07      1.205      0.228   -6.32e-07    2.65e-06\n",
      "tipo_renda[T.Empresário]                                                                                        1295.7299    548.002      2.364      0.018     221.562    2369.898\n",
      "tipo_renda[T.Pensionista]                                                                                          0.0007      0.001      0.796      0.426      -0.001       0.002\n",
      "tipo_renda[T.Servidor público]                                                                                    95.5109    912.636      0.105      0.917   -1693.397    1884.419\n",
      "posse_de_imovel[T.True]:sexo[T.M]                                                                               -203.7380    561.178     -0.363      0.717   -1303.735     896.259\n",
      "posse_de_imovel[T.True]:tipo_renda[T.Bolsista]                                                                 -2.484e-07   1.89e-07     -1.312      0.190    -6.2e-07    1.23e-07\n",
      "posse_de_imovel[T.True]:tipo_renda[T.Empresário]                                                                -461.7054    662.646     -0.697      0.486   -1760.595     837.185\n",
      "posse_de_imovel[T.True]:tipo_renda[T.Pensionista]                                                                 -0.0002      0.000     -0.361      0.718      -0.001       0.001\n",
      "posse_de_imovel[T.True]:tipo_renda[T.Servidor público]                                                          -889.6350   1061.541     -0.838      0.402   -2970.419    1191.149\n",
      "sexo[T.M]:tipo_renda[T.Bolsista]                                                                               -1.404e-07   3.36e-07     -0.418      0.676   -7.99e-07    5.18e-07\n",
      "sexo[T.M]:tipo_renda[T.Empresário]                                                                              1194.2563    860.219      1.388      0.165    -491.906    2880.419\n",
      "sexo[T.M]:tipo_renda[T.Pensionista]                                                                                0.0008      0.001      0.698      0.485      -0.002       0.003\n",
      "sexo[T.M]:tipo_renda[T.Servidor público]                                                                       -1630.6410   1466.813     -1.112      0.266   -4505.821    1244.539\n",
      "posse_de_imovel[T.True]:sexo[T.M]:tipo_renda[T.Bolsista]                                                       -6.904e-09   3.16e-08     -0.218      0.827   -6.89e-08    5.51e-08\n",
      "posse_de_imovel[T.True]:sexo[T.M]:tipo_renda[T.Empresário]                                                     -1234.3858   1069.512     -1.154      0.248   -3330.795     862.023\n",
      "posse_de_imovel[T.True]:sexo[T.M]:tipo_renda[T.Pensionista]                                                     1.445e-09   5.25e-09      0.275      0.783   -8.84e-09    1.17e-08\n",
      "posse_de_imovel[T.True]:sexo[T.M]:tipo_renda[T.Servidor público]                                                2196.8229   1832.065      1.199      0.231   -1394.309    5787.955\n",
      "np.power(tempo_emprego, 2)                                                                                        13.3713      2.210      6.052      0.000       9.040      17.702\n",
      "np.power(tempo_emprego, 2):posse_de_imovel[T.True]                                                                -5.7948      2.519     -2.301      0.021     -10.732      -0.857\n",
      "np.power(tempo_emprego, 2):sexo[T.M]                                                                              -0.6527      3.848     -0.170      0.865      -8.194       6.889\n",
      "np.power(tempo_emprego, 2):tipo_renda[T.Bolsista]                                                               3.332e-07   1.37e-06      0.243      0.808   -2.35e-06    3.02e-06\n",
      "np.power(tempo_emprego, 2):tipo_renda[T.Empresário]                                                              -12.3735      4.182     -2.959      0.003     -20.571      -4.176\n",
      "np.power(tempo_emprego, 2):tipo_renda[T.Pensionista]                                                              -0.0078      0.010     -0.761      0.447      -0.028       0.012\n",
      "np.power(tempo_emprego, 2):tipo_renda[T.Servidor público]                                                          2.3292      5.559      0.419      0.675      -8.568      13.226\n",
      "np.power(tempo_emprego, 2):posse_de_imovel[T.True]:sexo[T.M]                                                      11.3253      4.787      2.366      0.018       1.941      20.709\n",
      "np.power(tempo_emprego, 2):posse_de_imovel[T.True]:tipo_renda[T.Bolsista]                                       3.337e-07   1.37e-06      0.244      0.808   -2.35e-06    3.02e-06\n",
      "np.power(tempo_emprego, 2):posse_de_imovel[T.True]:tipo_renda[T.Empresário]                                       19.9019      4.986      3.992      0.000      10.129      29.675\n",
      "np.power(tempo_emprego, 2):posse_de_imovel[T.True]:tipo_renda[T.Pensionista]                                       0.0009      0.003      0.304      0.761      -0.005       0.007\n",
      "np.power(tempo_emprego, 2):posse_de_imovel[T.True]:tipo_renda[T.Servidor público]                                  1.9468      6.228      0.313      0.755     -10.262      14.155\n",
      "np.power(tempo_emprego, 2):sexo[T.M]:tipo_renda[T.Bolsista]                                                     2.657e-09   2.07e-09      1.281      0.200   -1.41e-09    6.72e-09\n",
      "np.power(tempo_emprego, 2):sexo[T.M]:tipo_renda[T.Empresário]                                                     -7.6636      9.400     -0.815      0.415     -26.090      10.763\n",
      "np.power(tempo_emprego, 2):sexo[T.M]:tipo_renda[T.Pensionista]                                                    -0.0087      0.013     -0.693      0.488      -0.033       0.016\n",
      "np.power(tempo_emprego, 2):sexo[T.M]:tipo_renda[T.Servidor público]                                               21.6799     14.162      1.531      0.126      -6.080      49.440\n",
      "np.power(tempo_emprego, 2):posse_de_imovel[T.True]:sexo[T.M]:tipo_renda[T.Bolsista]                            -6.016e-11   1.32e-10     -0.454      0.650    -3.2e-10    1.99e-10\n",
      "np.power(tempo_emprego, 2):posse_de_imovel[T.True]:sexo[T.M]:tipo_renda[T.Empresário]                             -5.7040     12.307     -0.463      0.643     -29.827      18.419\n",
      "np.power(tempo_emprego, 2):posse_de_imovel[T.True]:sexo[T.M]:tipo_renda[T.Pensionista]                           1.68e-10   1.47e-10      1.144      0.253    -1.2e-10    4.56e-10\n",
      "np.power(tempo_emprego, 2):posse_de_imovel[T.True]:sexo[T.M]:tipo_renda[T.Servidor público]                      -13.9895     18.293     -0.765      0.444     -49.846      21.867\n",
      "np.power(idade, 2)                                                                                                 0.1864      0.156      1.193      0.233      -0.120       0.493\n",
      "np.power(idade, 2):posse_de_imovel[T.True]                                                                        -0.0021      0.188     -0.011      0.991      -0.372       0.367\n",
      "np.power(idade, 2):sexo[T.M]                                                                                      -0.1400      0.248     -0.565      0.572      -0.626       0.346\n",
      "np.power(idade, 2):tipo_renda[T.Bolsista]                                                                       7.527e-06   3.11e-05      0.242      0.809   -5.35e-05    6.86e-05\n",
      "np.power(idade, 2):tipo_renda[T.Empresário]                                                                       -0.5439      0.306     -1.779      0.075      -1.143       0.055\n",
      "np.power(idade, 2):tipo_renda[T.Pensionista]                                                                       0.9965      1.241      0.803      0.422      -1.436       3.429\n",
      "np.power(idade, 2):tipo_renda[T.Servidor público]                                                                  0.2003      0.425      0.471      0.637      -0.632       1.033\n",
      "np.power(idade, 2):posse_de_imovel[T.True]:sexo[T.M]                                                               0.2058      0.307      0.670      0.503      -0.396       0.808\n",
      "np.power(idade, 2):posse_de_imovel[T.True]:tipo_renda[T.Bolsista]                                               7.527e-06   3.11e-05      0.242      0.809   -5.35e-05    6.86e-05\n",
      "np.power(idade, 2):posse_de_imovel[T.True]:tipo_renda[T.Empresário]                                                0.3355      0.361      0.930      0.352      -0.371       1.042\n",
      "np.power(idade, 2):posse_de_imovel[T.True]:tipo_renda[T.Pensionista]                                              -0.5693      1.631     -0.349      0.727      -3.767       2.628\n",
      "np.power(idade, 2):posse_de_imovel[T.True]:tipo_renda[T.Servidor público]                                          0.4787      0.494      0.968      0.333      -0.490       1.448\n",
      "np.power(idade, 2):sexo[T.M]:tipo_renda[T.Bolsista]                                                             7.204e-13    5.7e-13      1.265      0.206   -3.96e-13    1.84e-12\n",
      "np.power(idade, 2):sexo[T.M]:tipo_renda[T.Empresário]                                                              0.3896      0.500      0.780      0.436      -0.590       1.369\n",
      "np.power(idade, 2):sexo[T.M]:tipo_renda[T.Pensionista]                                                             1.5658      2.244      0.698      0.485      -2.832       5.963\n",
      "np.power(idade, 2):sexo[T.M]:tipo_renda[T.Servidor público]                                                        0.7616      0.895      0.851      0.395      -0.992       2.516\n",
      "np.power(idade, 2):posse_de_imovel[T.True]:sexo[T.M]:tipo_renda[T.Bolsista]                                             0          0        nan        nan           0           0\n",
      "np.power(idade, 2):posse_de_imovel[T.True]:sexo[T.M]:tipo_renda[T.Empresário]                                      0.1301      0.603      0.216      0.829      -1.052       1.312\n",
      "np.power(idade, 2):posse_de_imovel[T.True]:sexo[T.M]:tipo_renda[T.Pensionista]                                          0          0        nan        nan           0           0\n",
      "np.power(idade, 2):posse_de_imovel[T.True]:sexo[T.M]:tipo_renda[T.Servidor público]                               -0.3183      1.102     -0.289      0.773      -2.478       1.842\n",
      "np.power(tempo_emprego, 2):np.power(idade, 2)                                                                     -0.0015      0.001     -1.699      0.089      -0.003       0.000\n",
      "np.power(tempo_emprego, 2):np.power(idade, 2):posse_de_imovel[T.True]                                              0.0018      0.001      1.930      0.054   -2.88e-05       0.004\n",
      "np.power(tempo_emprego, 2):np.power(idade, 2):sexo[T.M]                                                            0.0038      0.001      2.810      0.005       0.001       0.007\n",
      "np.power(tempo_emprego, 2):np.power(idade, 2):tipo_renda[T.Bolsista]                                               0.0009      0.004      0.242      0.809      -0.006       0.008\n",
      "np.power(tempo_emprego, 2):np.power(idade, 2):tipo_renda[T.Empresário]                                             0.0052      0.002      3.060      0.002       0.002       0.008\n",
      "np.power(tempo_emprego, 2):np.power(idade, 2):tipo_renda[T.Pensionista]                                           -0.0069      0.007     -0.986      0.324      -0.021       0.007\n",
      "np.power(tempo_emprego, 2):np.power(idade, 2):tipo_renda[T.Servidor público]                                      -0.0010      0.002     -0.443      0.658      -0.005       0.003\n",
      "np.power(tempo_emprego, 2):np.power(idade, 2):posse_de_imovel[T.True]:sexo[T.M]                                   -0.0048      0.002     -2.739      0.006      -0.008      -0.001\n",
      "np.power(tempo_emprego, 2):np.power(idade, 2):posse_de_imovel[T.True]:tipo_renda[T.Bolsista]                       0.0009      0.004      0.242      0.809      -0.006       0.008\n",
      "np.power(tempo_emprego, 2):np.power(idade, 2):posse_de_imovel[T.True]:tipo_renda[T.Empresário]                    -0.0059      0.002     -3.065      0.002      -0.010      -0.002\n",
      "np.power(tempo_emprego, 2):np.power(idade, 2):posse_de_imovel[T.True]:tipo_renda[T.Pensionista]                   -0.0705      0.294     -0.240      0.810      -0.646       0.505\n",
      "np.power(tempo_emprego, 2):np.power(idade, 2):posse_de_imovel[T.True]:tipo_renda[T.Servidor público]            3.532e-05      0.002      0.015      0.988      -0.005       0.005\n",
      "np.power(tempo_emprego, 2):np.power(idade, 2):sexo[T.M]:tipo_renda[T.Bolsista]                                          0          0        nan        nan           0           0\n",
      "np.power(tempo_emprego, 2):np.power(idade, 2):sexo[T.M]:tipo_renda[T.Empresário]                                   0.0014      0.004      0.330      0.741      -0.007       0.010\n",
      "np.power(tempo_emprego, 2):np.power(idade, 2):sexo[T.M]:tipo_renda[T.Pensionista]                                  0.0483      0.049      0.987      0.323      -0.048       0.144\n",
      "np.power(tempo_emprego, 2):np.power(idade, 2):sexo[T.M]:tipo_renda[T.Servidor público]                            -0.0138      0.007     -1.991      0.047      -0.027      -0.000\n",
      "np.power(tempo_emprego, 2):np.power(idade, 2):posse_de_imovel[T.True]:sexo[T.M]:tipo_renda[T.Bolsista]                  0          0        nan        nan           0           0\n",
      "np.power(tempo_emprego, 2):np.power(idade, 2):posse_de_imovel[T.True]:sexo[T.M]:tipo_renda[T.Empresário]           0.0048      0.006      0.861      0.389      -0.006       0.016\n",
      "np.power(tempo_emprego, 2):np.power(idade, 2):posse_de_imovel[T.True]:sexo[T.M]:tipo_renda[T.Pensionista]               0          0        nan        nan           0           0\n",
      "np.power(tempo_emprego, 2):np.power(idade, 2):posse_de_imovel[T.True]:sexo[T.M]:tipo_renda[T.Servidor público]     0.0023      0.010      0.239      0.811      -0.016       0.021\n",
      "==============================================================================\n",
      "Omnibus:                     9439.489   Durbin-Watson:                   2.015\n",
      "Prob(Omnibus):                  0.000   Jarque-Bera (JB):           327652.505\n",
      "Skew:                           3.306   Prob(JB):                         0.00\n",
      "Kurtosis:                      27.230   Cond. No.                     1.09e+16\n",
      "==============================================================================\n",
      "\n",
      "Notes:\n",
      "[1] Standard Errors assume that the covariance matrix of the errors is correctly specified.\n",
      "[2] The smallest eigenvalue is 7.66e-17. This might indicate that there are\n",
      "strong multicollinearity problems or that the design matrix is singular.\n"
     ]
    },
    {
     "data": {
      "text/plain": [
       "<matplotlib.lines.Line2D at 0x1049b0fb700>"
      ]
     },
     "execution_count": 98,
     "metadata": {},
     "output_type": "execute_result"
    },
    {
     "data": {
      "image/png": "[encoded data removed]",
      "text/plain": [
       "<Figure size 432x288 with 1 Axes>"
      ]
     },
     "metadata": {
      "needs_background": "light"
     },
     "output_type": "display_data"
    }
   ],
   "source": [
    "model2 = smf.ols('renda ~ (np.power(tempo_emprego, 2) * np.power(idade, 2)) * (posse_de_imovel * sexo * tipo_renda)', data = income_raw).fit()\n",
    "print(model2.summary())\n",
    "\n",
    "income_raw['res'] = model2.resid\n",
    "\n",
    "sns.scatterplot(x = 'renda', y = 'res', data = income_raw, alpha = .75)\n",
    "plt.axhline(y=0, color='r', linestyle='--')"
   ]
  },
  {
   "cell_type": "markdown",
   "metadata": {},
   "source": [
    "<span style=\"color:blue\">Não consegui encontrar um modelo que normalizase o gráfico do resíduo. Fiquei mais de duas semanas tentando e não consegui. Aguardo as correções.<p>"
   ]
  },
  {
   "cell_type": "code",
   "execution_count": null,
   "metadata": {},
   "outputs": [],
   "source": []
  }
 ],
 "metadata": {
  "kernelspec": {
   "display_name": "Python 3",
   "language": "python",
   "name": "python3"
  },
  "language_info": {
   "codemirror_mode": {
    "name": "ipython",
    "version": 3
   },
   "file_extension": ".py",
   "mimetype": "text/x-python",
   "name": "python",
   "nbconvert_exporter": "python",
   "pygments_lexer": "ipython3",
   "version": "3.8.8"
  }
 },
 "nbformat": 4,
 "nbformat_minor": 4
}
