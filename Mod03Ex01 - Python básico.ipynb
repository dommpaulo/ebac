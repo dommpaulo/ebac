{
 "cells": [
  {
   "cell_type": "markdown",
   "metadata": {},
   "source": [
    "### 01 - Teste de gravidez\n",
    "Escreva uma célula com controle de fluxos que tem como premissa a existência das seguintes variáveis:\n",
    "\n",
    "- ```sexo``` como ```str``` indicando os valores '**M**' para masculino e '**F**' para feminino  \n",
    "- ```beta_hcg``` que indica a quantidade do beta-HCG no sangue em mUI/mL.\n",
    "\n",
    "A sua tarefa é escrever um código que imprima como resultado \"indivíduo do sexo masculino\" quando sexo = 'M', caso sexo = 'F', se o valor de beta-HCG for maior que 5, retorne \"Positivo\" indicando que a paciente está grávida, e retorne \"Negativo\" caso contrário.\n",
    "\n",
    "Não mexa nos valores da variável ```sexo``` nem em ```beta_hcg```, e escreva um código que funcione para quaisquer valores possíveis de ambos: ```sexo``` = '**M**' ou '**F**' e ```beta_hcg``` assumindo valores inteiros positivos."
   ]
  },
  {
   "cell_type": "code",
   "execution_count": 3,
   "metadata": {},
   "outputs": [
    {
     "name": "stdout",
     "output_type": "stream",
     "text": [
      "Indivíduo do sexo masculino\n",
      "Para nova consulta digite 'M' para 'masculino' e  para 'feminino', [enter] para encerrar.f\n",
      "Qual o valor do beta HCG? [valor dever ser inteiro e não negativo]:6\n",
      "Positivo\n",
      "Para nova consulta digite 'M' para 'masculino' e  para 'feminino', [enter] para encerrar.e\n",
      "Indivíduo de sexo não atribuído\n",
      "Para nova consulta digite 'M' para 'masculino' e  para 'feminino', [enter] para encerrar.g\n",
      "Indivíduo de sexo não atribuído\n",
      "Para nova consulta digite 'M' para 'masculino' e  para 'feminino', [enter] para encerrar.F\n",
      "Qual o valor do beta HCG? [valor dever ser inteiro e não negativo]:5.9\n",
      "Valor de beta HCG digitado está incorreto. Digite novamente. [valor dever ser INTEIRO e não NEGATIVO]:\n",
      "Qual o valor do beta HCG? [valor dever ser inteiro e não negativo]:8\n",
      "Positivo\n",
      "Para nova consulta digite 'M' para 'masculino' e  para 'feminino', [enter] para encerrar.F\n",
      "Qual o valor do beta HCG? [valor dever ser inteiro e não negativo]:-3\n",
      "O valor para beta HCG NÃO deve ser negativo:-7\n",
      "O valor para beta HCG NÃO deve ser negativo:2\n",
      "Negativo\n",
      "Para nova consulta digite 'M' para 'masculino' e  para 'feminino', [enter] para encerrar.\n",
      "Fim da consulta.\n"
     ]
    }
   ],
   "source": [
    "sexo = 'M'\n",
    "beta_hcg = 0\n",
    "\n",
    "# seu código vem abaixo desta linha\n",
    "\n",
    "sexo = 'M'\n",
    "beta_hcg = 0\n",
    "\n",
    "# seu código vem abaixo desta linha\n",
    "\n",
    "def teste_betahcg () -> int:\n",
    "    while True:\n",
    "        try:\n",
    "            beta_hcg = int(input(\"Qual o valor do beta HCG? [valor dever ser inteiro e não negativo]:\"))\n",
    "            break\n",
    "        except ValueError:\n",
    "            print(\"Valor de beta HCG digitado está incorreto. Digite novamente.\"\n",
    "                             \" [valor dever ser INTEIRO e não NEGATIVO]:\")\n",
    "\n",
    "    return beta_hcg\n",
    "\n",
    "while sexo != \"\":\n",
    "    if sexo == 'M' or sexo == 'm':\n",
    "        print(\"Indivíduo do sexo masculino\")\n",
    "\n",
    "    elif sexo != 'F' and sexo != 'f':\n",
    "        print('Indivíduo de sexo não atribuído')\n",
    "\n",
    "    elif (sexo == 'F' or sexo == 'f') and beta_hcg > 5:\n",
    "        print(\"Positivo\")\n",
    "    else:\n",
    "        print(\"Negativo\")\n",
    "\n",
    "    sexo = input(\"Para nova consulta digite 'M' para 'masculino' e \"F\" para 'feminino', [enter] para encerrar.\")\n",
    "\n",
    "    if sexo == \"\":\n",
    "        break\n",
    "\n",
    "    elif sexo != 'f' and sexo != 'F':\n",
    "        beta_hcg = 0\n",
    "\n",
    "    else:\n",
    "        beta_hcg = teste_betahcg()\n",
    "\n",
    "    if beta_hcg < 0:\n",
    "        while beta_hcg < 0:\n",
    "            beta_hcg = int(input(\"O valor para beta HCG NÃO deve ser negativo:\"))\n",
    "\n",
    "print('Fim da consulta.')"
   ]
  },
  {
   "cell_type": "markdown",
   "metadata": {},
   "source": [
    "### 02 - Renomeando variáveis\n",
    "\n",
    "Vamos ver adiante que uma forma de renomear variáveis de um conjunto de dados é através de dicionários - o dicionário deve conter como chave o nome original, associando a cada chave um único valor (tipo *str*) que contenha o nome novo.\n",
    "\n",
    "A sua tarefa é escrever um dicionário que possa ser utilizado para traduzir as variáveis ```name``` (nome), ```age``` (idade) e ```income``` (renda). Ou seja, esse dicionário deve relacionar as chaves *name, age* e *income* às suas respectivas traduções."
   ]
  },
  {
   "cell_type": "code",
   "execution_count": 16,
   "metadata": {
    "scrolled": true
   },
   "outputs": [
    {
     "name": "stdout",
     "output_type": "stream",
     "text": [
      "{'name': 'nome', 'age': 'idade', 'income': 'renda'}\n",
      "\n",
      "nome,idade,renda\n"
     ]
    }
   ],
   "source": [
    "dic_renomeacao = {'name': 'nome', 'age': 'idade', 'income': 'renda'}\n",
    "print(dic_renomeacao)\n",
    "print(\"\")\n",
    "print(dic_renomeacao['name'], end=',')\n",
    "print(dic_renomeacao['age'], end=',')\n",
    "print(dic_renomeacao['income'])"
   ]
  },
  {
   "cell_type": "markdown",
   "metadata": {},
   "source": [
    "### 03 - É divisível?\n",
    "A sua tarefa é escrever um código que indique se um número ```N``` é divisível por um número P. Escreva um programa que faça essa verificação para quaisquer combinações de ```N``` e ```M``` e devolva uma mensagem indicativa no output."
   ]
  },
  {
   "cell_type": "code",
   "execution_count": 17,
   "metadata": {},
   "outputs": [
    {
     "name": "stdout",
     "output_type": "stream",
     "text": [
      "O dividendo 42 É divisível pelo divisor 7\n",
      "Digite novo dividento [para sair digite 0], [espaço] e o novo divisor:50 3\n",
      "O dividendo 50 NÃO é divisível pelo divisor 3 e tem resto 2\n",
      "Digite novo dividento [para sair digite 0], [espaço] e o novo divisor:51 2\n",
      "O dividendo 51 NÃO é divisível pelo divisor 2 e tem resto 1\n",
      "Digite novo dividento [para sair digite 0], [espaço] e o novo divisor:102 2\n",
      "O dividendo 102 É divisível pelo divisor 2\n",
      "Digite novo dividento [para sair digite 0], [espaço] e o novo divisor:1000 5\n",
      "O dividendo 1000 É divisível pelo divisor 5\n",
      "Digite novo dividento [para sair digite 0], [espaço] e o novo divisor:0 0\n"
     ]
    }
   ],
   "source": [
    "N = 42\n",
    "M = 7\n",
    "\n",
    "#Seu código\n",
    "\n",
    "P = M\n",
    "\n",
    "while N != 0:\n",
    "    if N % P == 0:\n",
    "        print(f'O dividendo {N} É divisível pelo divisor {P}')\n",
    "    else:\n",
    "        R = N % P\n",
    "        print(f'O dividendo {N} NÃO é divisível pelo divisor {P} e tem resto {R}')\n",
    "\n",
    "    N,P = input('Digite novo dividento [para sair digite 0], [espaço] e o novo divisor:').split(\" \")\n",
    "    N = int(N)\n",
    "    P = int(P)"
   ]
  },
  {
   "cell_type": "markdown",
   "metadata": {},
   "source": [
    "### 04 - Números primos\n",
    "> Um número **N** é primo se e somente se é divisível por 1, -1, por **N** e por -**N**.  \n",
    "\n",
    "Escreva um script que verifica se ```N``` é um número primo, verificando se ```N``` é divisível por todos os números de ```1``` a ```N-1```. Você vai precisar usar alguma ferramenta de *loop* que você aprendeu para isto. No final, devolva uma mensagem no output indicando se o número é primo ou não."
   ]
  },
  {
   "cell_type": "code",
   "execution_count": 18,
   "metadata": {},
   "outputs": [
    {
     "name": "stdout",
     "output_type": "stream",
     "text": [
      "Número 47 É PRIMO.\n",
      "Gostaria de verificar outro número primo? [0 para sair]:51\n",
      "Número 51 NÃO é PRIMO.\n",
      "Gostaria de verificar outro número primo? [0 para sair]:50\n",
      "Número 50 NÃO é PRIMO.\n",
      "Gostaria de verificar outro número primo? [0 para sair]:25\n",
      "Número 25 NÃO é PRIMO.\n",
      "Gostaria de verificar outro número primo? [0 para sair]:56\n",
      "Número 56 NÃO é PRIMO.\n",
      "Gostaria de verificar outro número primo? [0 para sair]:7\n",
      "Número 7 É PRIMO.\n",
      "Gostaria de verificar outro número primo? [0 para sair]:9\n",
      "Número 9 NÃO é PRIMO.\n",
      "Gostaria de verificar outro número primo? [0 para sair]:11\n",
      "Número 11 É PRIMO.\n",
      "Gostaria de verificar outro número primo? [0 para sair]:13\n",
      "Número 13 É PRIMO.\n",
      "Gostaria de verificar outro número primo? [0 para sair]:17\n",
      "Número 17 É PRIMO.\n",
      "Gostaria de verificar outro número primo? [0 para sair]:18\n",
      "Número 18 NÃO é PRIMO.\n",
      "Gostaria de verificar outro número primo? [0 para sair]:0\n"
     ]
    }
   ],
   "source": [
    "N = 47\n",
    "\n",
    "# seu código abaixo\n",
    "i = 2\n",
    "while N != 0:\n",
    "    while i <= N:\n",
    "        primo = N % i\n",
    "\n",
    "        if i == (N):\n",
    "            print(f\"Número {N} É PRIMO.\")\n",
    "            break\n",
    "        elif primo != 0:\n",
    "            i += 1\n",
    "        else:\n",
    "            print(f\"Número {N} NÃO é PRIMO.\")\n",
    "            break\n",
    "    N = int(input(\"Gostaria de verificar outro número primo? [0 para sair]:\"))\n",
    "    i = 2\n"
   ]
  },
  {
   "cell_type": "markdown",
   "metadata": {},
   "source": [
    "### 05 - Desafio\n",
    "O algorítmo do exercício anterior não é o mais eficiente. O que você pode fazer para deixá-lo mais eficiente? Ou seja, executar menos comparações, portanto consumir menos tempo.\n",
    "1. Será que precisamos correr o loop até o final sempre?\n",
    "2. Será que precisamos mesmo verificar **todos** os números?\n",
    "3. Será que precisamos ir até N-1?\n",
    "\n",
    "Essas perguntas levam ao tipo de pensamento voltado a deixar um algoritmo mais eficiente. Veja se você consegue melhorar o seu."
   ]
  },
  {
   "cell_type": "code",
   "execution_count": 19,
   "metadata": {},
   "outputs": [
    {
     "name": "stdout",
     "output_type": "stream",
     "text": [
      "Número 98 NÃO é PRIMO.\n",
      "Gostaria de verificar outro número primo? [0 para sair]:8\n",
      "Número 8 NÃO é PRIMO.\n",
      "Gostaria de verificar outro número primo? [0 para sair]:5\n",
      "Número 5 É PRIMO.\n",
      "Gostaria de verificar outro número primo? [0 para sair]:0\n"
     ]
    }
   ],
   "source": [
    "N = 98\n",
    "\n",
    "# seu código aqui\n",
    "\n",
    "i = 2\n",
    "while N != 0:\n",
    "    while i <= N:\n",
    "        primo = N % i\n",
    "\n",
    "        if i == (N):\n",
    "            print(f\"Número {N} É PRIMO.\")\n",
    "            break\n",
    "        elif primo != 0:\n",
    "            i += 1\n",
    "        else:\n",
    "            print(f\"Número {N} NÃO é PRIMO.\")\n",
    "            break\n",
    "    N = int(input(\"Gostaria de verificar outro número primo? [0 para sair]:\"))\n",
    "    i = 2\n"
   ]
  },
  {
   "cell_type": "markdown",
   "metadata": {},
   "source": [
    "**Observação:** Caros tutores, estou apresentando o mesmo código, pois na verdade de primeira eu já pensei em não testar todos os números. No primeiro resultado de resto '0' já matamos que o número não é primo."
   ]
  },
  {
   "cell_type": "markdown",
   "metadata": {},
   "source": [
    "# 06 - Peso ideal 1\n",
    "\n",
    "O IMC (índice de massa corpórea) é um indicador de saúde mais bem aceito que o peso. Ele é calculado como:\n",
    "\n",
    "$$ IMC = \\dfrac{peso}{altura^2}$$\n",
    "\n",
    "Segundo a OMS, valores *normais* são entre 18.5 e 24.9.\n",
    "\n",
    "Sua tarefa é encontrar o ponto médio dessa faixa."
   ]
  },
  {
   "cell_type": "code",
   "execution_count": 21,
   "metadata": {},
   "outputs": [
    {
     "name": "stdout",
     "output_type": "stream",
     "text": [
      "IMC Ideal Médio é 21.7\n"
     ]
    }
   ],
   "source": [
    "imc_normal_inic = 18.5\n",
    "imc_normal_final = 24.9\n",
    "\n",
    "imc_ideal = (imc_normal_inic + imc_normal_final) / 2\n",
    "\n",
    "print(f\"IMC Ideal Médio é {imc_ideal}\")"
   ]
  },
  {
   "cell_type": "markdown",
   "metadata": {},
   "source": [
    "### 07 - Peso ideal 2\n",
    "Recebendo um valor de altura, encontre o peso '*ideal*' dessa pessoa, que fornece o IMC encontrado acima"
   ]
  },
  {
   "cell_type": "code",
   "execution_count": 42,
   "metadata": {},
   "outputs": [
    {
     "name": "stdout",
     "output_type": "stream",
     "text": [
      "Para uma altura de 1.70m o peso ideal é 62.7kg.\n",
      "Deseja calcular para outra altura? [0 para sair]:0\n"
     ]
    }
   ],
   "source": [
    "altura = 1.70\n",
    "\n",
    "# Seu código\n",
    "altura = 1.70\n",
    "\n",
    "# Seu código\n",
    "while altura !=0:\n",
    "    peso_ideal = round(imc_ideal * (altura**2), 1)\n",
    "    print(f'Para uma altura de{altura: .2f}m o peso ideal é {peso_ideal}kg.')\n",
    "    altura = float(input(\"Deseja calcular para outra altura? [0 para sair]:\"))"
   ]
  },
  {
   "cell_type": "markdown",
   "metadata": {},
   "source": [
    "### 08 - Peso ideal 3\n",
    "Dada uma lista contendo as alturas de pacientes, crie uma nova lista que contenha o peso '*ideal*' (que fornece o IMC calculado em **Peso ideal 1**) desses pacientes."
   ]
  },
  {
   "cell_type": "code",
   "execution_count": 27,
   "metadata": {},
   "outputs": [
    {
     "name": "stdout",
     "output_type": "stream",
     "text": [
      "Para os respectivas alturas [1.95, 2.05, 1.7, 1.65], os pesos ideais são [82.5, 91.2, 62.7, 59.1]\n"
     ]
    }
   ],
   "source": [
    "lista_alturas = [1.95, 2.05, 1.70, 1.65]\n",
    "\n",
    "lista_peso_ideal = []\n",
    "\n",
    "# seu código\n",
    "\n",
    "i = 0\n",
    "for peso in lista_alturas:\n",
    "    peso_ideal = round(imc_ideal * (lista_alturas[i]**2), 1)\n",
    "    lista_peso_ideal.append(peso_ideal)\n",
    "    i += 1\n",
    "    \n",
    "\n",
    "print(f'Para os respectivas alturas {lista_alturas}, os pesos ideais são {lista_peso_ideal}')"
   ]
  },
  {
   "cell_type": "markdown",
   "metadata": {},
   "source": [
    "### 09 - Peso ideal 4\n",
    "Dada uma lista de tuplas - cada elemento da lista é uma tupla contendo altura e peso de um paciente - crie uma nova lista com o IMC desses pacientes."
   ]
  },
  {
   "cell_type": "code",
   "execution_count": 41,
   "metadata": {},
   "outputs": [
    {
     "name": "stdout",
     "output_type": "stream",
     "text": [
      "Para os dados de altura e peso informados, respectivamente: [(1.8, 90), (1.65, 75), (1.91, 70)]\n",
      "Os valores de IMC são: [27.8, 27.5, 19.2]\n"
     ]
    }
   ],
   "source": [
    "altura_peso = [(1.80, 90), (1.65, 75), (1.91, 70)]\n",
    "\n",
    "imc = []\n",
    "\n",
    "# seu código\n",
    "\n",
    "i = 0\n",
    "calc = 0\n",
    "for dado in altura_peso:\n",
    "    \n",
    "    altura, peso = list(altura_peso[i])\n",
    "    \n",
    "    calc = round((peso / altura**2),1)\n",
    "    \n",
    "    imc.append(calc)\n",
    "   \n",
    "    i += 1\n",
    "  \n",
    "\n",
    "print(f\"Para os dados de altura e peso informados, respectivamente: {altura_peso}\\nOs valores de IMC são: {imc}\")\n",
    "\n",
    "\n"
   ]
  },
  {
   "cell_type": "markdown",
   "metadata": {},
   "source": [
    "### 10 - Peso ideal 5\n",
    "Dada uma lista de **listas** - cada elemento da lista é uma **lista** contendo altura e peso de um paciente, adicione mais um elemento à lista de cada paciente contendo o IMC do paciente. Verifique também se é 'baixo', 'normal' ou 'alto' segundo os padrões da OMS em que normal é entre 18.5 e 24.9.\n",
    "\n",
    "Reflexão: por que no problema anterior temos que criar uma nova lista, e não podemos adicionar os dados de cada indivíduo à tupla? - **PORQUE AS TUPLAS SÃO POR NATUREZA IMUTÁVEIS.**"
   ]
  },
  {
   "cell_type": "code",
   "execution_count": 50,
   "metadata": {},
   "outputs": [
    {
     "name": "stdout",
     "output_type": "stream",
     "text": [
      "[1.8, 90, 27.8, 'alto']\n",
      "[1.65, 75, 27.5, 'alto']\n",
      "[1.91, 70, 19.2, 'normal']\n"
     ]
    }
   ],
   "source": [
    "altura_peso = [[1.80, 90], [1.65, 75], [1.91, 70]]\n",
    "\n",
    "# seu código\n",
    "\n",
    "i = 0\n",
    "calc = 0\n",
    "padrao = \"\"\n",
    "for dado in altura_peso:\n",
    "    \n",
    "    altura, peso = altura_peso[i]\n",
    "    calc = round((peso / altura**2),1)\n",
    "    if calc < 18.5:\n",
    "        padrao = 'baixo'\n",
    "    elif calc > 24.9:\n",
    "        padrao = 'alto'\n",
    "    else:\n",
    "        padrao = 'normal'\n",
    "    \n",
    "     \n",
    "    altura_peso[i].append(calc)\n",
    "    altura_peso[i].append(padrao)\n",
    "    \n",
    "    i += 1\n",
    "\n",
    "i = 0\n",
    "for p in altura_peso:\n",
    "    print(altura_peso[i])\n",
    "    i += 1\n",
    "    \n"
   ]
  },
  {
   "cell_type": "code",
   "execution_count": null,
   "metadata": {},
   "outputs": [],
   "source": []
  }
 ],
 "metadata": {
  "kernelspec": {
   "display_name": "Python 3",
   "language": "python",
   "name": "python3"
  },
  "language_info": {
   "codemirror_mode": {
    "name": "ipython",
    "version": 3
   },
   "file_extension": ".py",
   "mimetype": "text/x-python",
   "name": "python",
   "nbconvert_exporter": "python",
   "pygments_lexer": "ipython3",
   "version": "3.8.8"
  }
 },
 "nbformat": 4,
 "nbformat_minor": 4
}
